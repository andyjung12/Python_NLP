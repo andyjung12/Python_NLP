{
 "cells": [
  {
   "cell_type": "code",
   "execution_count": 1,
   "metadata": {},
   "outputs": [],
   "source": [
    "import tensorflow as tf\n",
    "from tensorflow.keras import datasets, layers, models"
   ]
  },
  {
   "cell_type": "code",
   "execution_count": 2,
   "metadata": {},
   "outputs": [],
   "source": [
    "(train_images, train_labels), (test_images, test_labels) = datasets.mnist.load_data()"
   ]
  },
  {
   "cell_type": "code",
   "execution_count": 3,
   "metadata": {},
   "outputs": [
    {
     "data": {
      "text/plain": [
       "(28, 28)"
      ]
     },
     "execution_count": 3,
     "metadata": {},
     "output_type": "execute_result"
    }
   ],
   "source": [
    "train_images[0].shape"
   ]
  },
  {
   "cell_type": "code",
   "execution_count": 4,
   "metadata": {},
   "outputs": [],
   "source": [
    "# 채널 추가\n",
    "train_images = train_images.reshape((60000, 28, 28, 1))\n",
    "test_images = test_images.reshape((10000, 28, 28, 1))\n",
    "\n",
    "train_images, test_images = train_images/255.0, test_images/255.0"
   ]
  },
  {
   "cell_type": "code",
   "execution_count": 5,
   "metadata": {},
   "outputs": [
    {
     "data": {
      "text/plain": [
       "5"
      ]
     },
     "execution_count": 5,
     "metadata": {},
     "output_type": "execute_result"
    }
   ],
   "source": [
    "train_labels[0]"
   ]
  },
  {
   "cell_type": "code",
   "execution_count": 11,
   "metadata": {},
   "outputs": [],
   "source": [
    "# feature learning\n",
    "model = models.Sequential()\n",
    "model.add(layers.Conv2D(32, (3, 3), activation='relu', input_shape=(28, 28, 1)))\n",
    "model.add(layers.MaxPooling2D((2, 2)))\n",
    "model.add(layers.Conv2D(64, (3, 3), activation='relu'))\n",
    "model.add(layers.MaxPooling2D((2, 2)))\n",
    "model.add(layers.Conv2D(64, (3, 3), activation='relu'))"
   ]
  },
  {
   "cell_type": "code",
   "execution_count": 12,
   "metadata": {
    "scrolled": true
   },
   "outputs": [
    {
     "name": "stdout",
     "output_type": "stream",
     "text": [
      "Model: \"sequential\"\n",
      "_________________________________________________________________\n",
      "Layer (type)                 Output Shape              Param #   \n",
      "=================================================================\n",
      "conv2d (Conv2D)              (None, 26, 26, 32)        320       \n",
      "_________________________________________________________________\n",
      "max_pooling2d (MaxPooling2D) (None, 13, 13, 32)        0         \n",
      "_________________________________________________________________\n",
      "conv2d_1 (Conv2D)            (None, 11, 11, 64)        18496     \n",
      "_________________________________________________________________\n",
      "max_pooling2d_1 (MaxPooling2 (None, 5, 5, 64)          0         \n",
      "_________________________________________________________________\n",
      "conv2d_2 (Conv2D)            (None, 3, 3, 64)          36928     \n",
      "=================================================================\n",
      "Total params: 55,744\n",
      "Trainable params: 55,744\n",
      "Non-trainable params: 0\n",
      "_________________________________________________________________\n"
     ]
    }
   ],
   "source": [
    "model.summary()"
   ]
  },
  {
   "cell_type": "code",
   "execution_count": 13,
   "metadata": {},
   "outputs": [],
   "source": [
    "model.add(layers.Flatten()) # 순서대로 1열로 만들기\n",
    "model.add(layers.Dense(64, activation='relu'))\n",
    "model.add(layers.Dense(10, activation='softmax'))"
   ]
  },
  {
   "cell_type": "code",
   "execution_count": 14,
   "metadata": {
    "scrolled": true
   },
   "outputs": [
    {
     "name": "stdout",
     "output_type": "stream",
     "text": [
      "Model: \"sequential\"\n",
      "_________________________________________________________________\n",
      "Layer (type)                 Output Shape              Param #   \n",
      "=================================================================\n",
      "conv2d (Conv2D)              (None, 26, 26, 32)        320       \n",
      "_________________________________________________________________\n",
      "max_pooling2d (MaxPooling2D) (None, 13, 13, 32)        0         \n",
      "_________________________________________________________________\n",
      "conv2d_1 (Conv2D)            (None, 11, 11, 64)        18496     \n",
      "_________________________________________________________________\n",
      "max_pooling2d_1 (MaxPooling2 (None, 5, 5, 64)          0         \n",
      "_________________________________________________________________\n",
      "conv2d_2 (Conv2D)            (None, 3, 3, 64)          36928     \n",
      "_________________________________________________________________\n",
      "flatten (Flatten)            (None, 576)               0         \n",
      "_________________________________________________________________\n",
      "dense (Dense)                (None, 64)                36928     \n",
      "_________________________________________________________________\n",
      "dense_1 (Dense)              (None, 10)                650       \n",
      "=================================================================\n",
      "Total params: 93,322\n",
      "Trainable params: 93,322\n",
      "Non-trainable params: 0\n",
      "_________________________________________________________________\n"
     ]
    }
   ],
   "source": [
    "model.summary()"
   ]
  },
  {
   "cell_type": "code",
   "execution_count": 15,
   "metadata": {
    "scrolled": true
   },
   "outputs": [
    {
     "name": "stdout",
     "output_type": "stream",
     "text": [
      "Epoch 1/10\n",
      "1875/1875 [==============================] - 32s 17ms/step - loss: 0.1452 - accuracy: 0.9552\n",
      "Epoch 2/10\n",
      "1875/1875 [==============================] - 32s 17ms/step - loss: 0.0468 - accuracy: 0.9856\n",
      "Epoch 3/10\n",
      "1875/1875 [==============================] - 31s 17ms/step - loss: 0.0332 - accuracy: 0.9893\n",
      "Epoch 4/10\n",
      "1875/1875 [==============================] - 32s 17ms/step - loss: 0.0263 - accuracy: 0.9916\n",
      "Epoch 5/10\n",
      "1875/1875 [==============================] - 33s 18ms/step - loss: 0.0196 - accuracy: 0.9941\n",
      "Epoch 6/10\n",
      "1875/1875 [==============================] - 34s 18ms/step - loss: 0.0168 - accuracy: 0.9946\n",
      "Epoch 7/10\n",
      "1875/1875 [==============================] - 36s 19ms/step - loss: 0.0134 - accuracy: 0.9956\n",
      "Epoch 8/10\n",
      "1875/1875 [==============================] - 34s 18ms/step - loss: 0.0116 - accuracy: 0.9963\n",
      "Epoch 9/10\n",
      "1875/1875 [==============================] - 33s 18ms/step - loss: 0.0101 - accuracy: 0.99670s - loss: 0.0101 - accuracy: \n",
      "Epoch 10/10\n",
      "1875/1875 [==============================] - 35s 19ms/step - loss: 0.0087 - accuracy: 0.9973\n"
     ]
    },
    {
     "data": {
      "text/plain": [
       "<tensorflow.python.keras.callbacks.History at 0x1fee2aac0c8>"
      ]
     },
     "execution_count": 15,
     "metadata": {},
     "output_type": "execute_result"
    }
   ],
   "source": [
    "model.compile(optimizer ='adam', \n",
    "              loss='sparse_categorical_crossentropy',\n",
    "              metrics=['accuracy'])\n",
    "model.fit(train_images, train_labels, epochs=10)"
   ]
  },
  {
   "cell_type": "code",
   "execution_count": 16,
   "metadata": {},
   "outputs": [
    {
     "name": "stdout",
     "output_type": "stream",
     "text": [
      "313/313 [==============================] - 2s 5ms/step - loss: 0.0397 - accuracy: 0.9904\n"
     ]
    }
   ],
   "source": [
    "test_loss, test_accuracy = model.evaluate(test_images, test_labels)"
   ]
  },
  {
   "cell_type": "code",
   "execution_count": 17,
   "metadata": {},
   "outputs": [
    {
     "data": {
      "text/plain": [
       "0.9904000163078308"
      ]
     },
     "execution_count": 17,
     "metadata": {},
     "output_type": "execute_result"
    }
   ],
   "source": [
    "test_accuracy"
   ]
  },
  {
   "cell_type": "code",
   "execution_count": 10,
   "metadata": {},
   "outputs": [],
   "source": [
    "# Functional API\n",
    "from tensorflow.keras.models import Model"
   ]
  },
  {
   "cell_type": "code",
   "execution_count": 20,
   "metadata": {},
   "outputs": [],
   "source": [
    "inputs = layers.Input(shape=(28, 28, 1))\n",
    "conv1 = layers.Conv2D(32, (3, 3), padding='same', activation=tf.nn.relu)(inputs)\n",
    "pool1 = layers.MaxPooling2D(padding='same')(conv1)\n",
    "conv2 = layers.Conv2D(64, (3, 3), padding='same', activation=tf.nn.relu)(pool1)\n",
    "pool2 = layers.MaxPooling2D(padding='same')(conv2)\n",
    "conv3 = layers.Conv2D(128, (3, 3), padding='same', activation=tf.nn.relu)(pool2)\n",
    "pool3 = layers.MaxPooling2D(padding='same')(conv3)\n",
    "pool3_flat = layers.Flatten()(pool3)\n",
    "dense4 = layers.Dense(256, activation=tf.nn.relu)(pool3_flat)\n",
    "drop4 = layers.Dropout(rate=0.2)(dense4)\n",
    "logits = layers.Dense(units=10, activation='softmax')(drop4)\n",
    "model = Model(inputs=inputs, outputs=logits)"
   ]
  },
  {
   "cell_type": "code",
   "execution_count": 21,
   "metadata": {
    "scrolled": true
   },
   "outputs": [
    {
     "name": "stdout",
     "output_type": "stream",
     "text": [
      "Model: \"functional_1\"\n",
      "_________________________________________________________________\n",
      "Layer (type)                 Output Shape              Param #   \n",
      "=================================================================\n",
      "input_2 (InputLayer)         [(None, 28, 28, 1)]       0         \n",
      "_________________________________________________________________\n",
      "conv2d_5 (Conv2D)            (None, 28, 28, 32)        320       \n",
      "_________________________________________________________________\n",
      "max_pooling2d_4 (MaxPooling2 (None, 14, 14, 32)        0         \n",
      "_________________________________________________________________\n",
      "conv2d_6 (Conv2D)            (None, 14, 14, 64)        18496     \n",
      "_________________________________________________________________\n",
      "max_pooling2d_5 (MaxPooling2 (None, 7, 7, 64)          0         \n",
      "_________________________________________________________________\n",
      "conv2d_7 (Conv2D)            (None, 7, 7, 128)         73856     \n",
      "_________________________________________________________________\n",
      "max_pooling2d_6 (MaxPooling2 (None, 4, 4, 128)         0         \n",
      "_________________________________________________________________\n",
      "flatten_1 (Flatten)          (None, 2048)              0         \n",
      "_________________________________________________________________\n",
      "dense_2 (Dense)              (None, 256)               524544    \n",
      "_________________________________________________________________\n",
      "dropout (Dropout)            (None, 256)               0         \n",
      "_________________________________________________________________\n",
      "dense_3 (Dense)              (None, 10)                2570      \n",
      "=================================================================\n",
      "Total params: 619,786\n",
      "Trainable params: 619,786\n",
      "Non-trainable params: 0\n",
      "_________________________________________________________________\n"
     ]
    }
   ],
   "source": [
    "model.summary()"
   ]
  },
  {
   "cell_type": "code",
   "execution_count": 22,
   "metadata": {
    "scrolled": true
   },
   "outputs": [
    {
     "name": "stdout",
     "output_type": "stream",
     "text": [
      "Epoch 1/10\n",
      "1875/1875 [==============================] - 59s 31ms/step - loss: 0.1251 - accuracy: 0.9603\n",
      "Epoch 2/10\n",
      "1875/1875 [==============================] - 70s 37ms/step - loss: 0.0411 - accuracy: 0.9872\n",
      "Epoch 3/10\n",
      "1875/1875 [==============================] - 74s 40ms/step - loss: 0.0291 - accuracy: 0.9908\n",
      "Epoch 4/10\n",
      "1875/1875 [==============================] - 75s 40ms/step - loss: 0.0227 - accuracy: 0.9933\n",
      "Epoch 5/10\n",
      "1875/1875 [==============================] - 69s 37ms/step - loss: 0.0186 - accuracy: 0.9943\n",
      "Epoch 6/10\n",
      "1875/1875 [==============================] - 68s 36ms/step - loss: 0.0153 - accuracy: 0.9952\n",
      "Epoch 7/10\n",
      "1875/1875 [==============================] - 74s 39ms/step - loss: 0.0133 - accuracy: 0.9959\n",
      "Epoch 8/10\n",
      "1875/1875 [==============================] - 75s 40ms/step - loss: 0.0117 - accuracy: 0.9964\n",
      "Epoch 9/10\n",
      "1875/1875 [==============================] - ETA: 0s - loss: 0.0103 - accuracy: 0.99 - 69s 37ms/step - loss: 0.0103 - accuracy: 0.9968\n",
      "Epoch 10/10\n",
      "1875/1875 [==============================] - 66s 35ms/step - loss: 0.0083 - accuracy: 0.9973\n",
      "313/313 [==============================] - 4s 12ms/step - loss: 0.0259 - accuracy: 0.9926\n",
      "0.9926000237464905\n"
     ]
    }
   ],
   "source": [
    "model.compile(optimizer='adam', \n",
    "              loss='sparse_categorical_crossentropy',\n",
    "              metrics=['accuracy'])\n",
    "model.fit(train_images, train_labels, epochs=10)\n",
    "\n",
    "test_loss, test_accuracy = model.evaluate(test_images, test_labels)\n",
    "print(test_accuracy)"
   ]
  },
  {
   "cell_type": "code",
   "execution_count": 11,
   "metadata": {},
   "outputs": [
    {
     "name": "stdout",
     "output_type": "stream",
     "text": [
      "Model: \"mnist_model\"\n",
      "_________________________________________________________________\n",
      "Layer (type)                 Output Shape              Param #   \n",
      "=================================================================\n",
      "conv2d (Conv2D)              (None, 28, 28, 32)        320       \n",
      "_________________________________________________________________\n",
      "max_pooling2d (MaxPooling2D) (None, 14, 14, 32)        0         \n",
      "_________________________________________________________________\n",
      "conv2d_1 (Conv2D)            (None, 14, 14, 64)        18496     \n",
      "_________________________________________________________________\n",
      "max_pooling2d_1 (MaxPooling2 (None, 7, 7, 64)          0         \n",
      "_________________________________________________________________\n",
      "conv2d_2 (Conv2D)            (None, 7, 7, 128)         73856     \n",
      "_________________________________________________________________\n",
      "flatten (Flatten)            (None, 6272)              0         \n",
      "_________________________________________________________________\n",
      "dense (Dense)                (None, 256)               1605888   \n",
      "_________________________________________________________________\n",
      "dropout (Dropout)            (None, 256)               0         \n",
      "_________________________________________________________________\n",
      "dense_1 (Dense)              (None, 10)                2570      \n",
      "=================================================================\n",
      "Total params: 1,701,130\n",
      "Trainable params: 1,701,130\n",
      "Non-trainable params: 0\n",
      "_________________________________________________________________\n"
     ]
    }
   ],
   "source": [
    "# Class 함수 사용하여 학습\n",
    "class MNISTModel(Model):\n",
    "    def __init__(self):\n",
    "        super(MNISTModel, self).__init__()\n",
    "        self.conv1 = layers.Conv2D(32, (3, 3), padding='same', activation=tf.nn.relu)\n",
    "        self.pool1 = layers.MaxPooling2D(padding='same')\n",
    "        self.conv2 = layers.Conv2D(64, (3, 3), padding='same', activation=tf.nn.relu)\n",
    "        self.pool2 = layers.MaxPooling2D(padding='same')\n",
    "        self.conv3 = layers.Conv2D(128, (3, 3), padding='same', activation=tf.nn.relu)\n",
    "        self.conv3_flat = layers.Flatten()\n",
    "        self.dense4 = layers.Dense(256, activation=tf.nn.relu)\n",
    "        self.drop4 = layers.Dropout(rate=0.2)\n",
    "        self.dense5 = layers.Dense(units=10, activation='softmax')\n",
    "\n",
    "    def call(self, inputs, training=False):\n",
    "        net = self.conv1(inputs)\n",
    "        net = self.pool1(net)\n",
    "        net = self.conv2(net)\n",
    "        net = self.pool2(net)\n",
    "        net = self.conv3(net)\n",
    "        net = self.conv3_flat(net)\n",
    "        net = self.dense4(net)\n",
    "        net = self.drop4(net)\n",
    "        net = self.dense5(net)\n",
    "\n",
    "        return net\n",
    "\n",
    "model = MNISTModel()\n",
    "model(layers.Input(shape=(28, 28, 1)))\n",
    "model.summary()"
   ]
  },
  {
   "cell_type": "code",
   "execution_count": 26,
   "metadata": {
    "scrolled": true
   },
   "outputs": [
    {
     "name": "stdout",
     "output_type": "stream",
     "text": [
      "Epoch 1/20\n",
      "1875/1875 [==============================] - 67s 36ms/step - loss: 0.1142 - accuracy: 0.9640\n",
      "Epoch 2/20\n",
      "1875/1875 [==============================] - 67s 36ms/step - loss: 0.0410 - accuracy: 0.9870\n",
      "Epoch 3/20\n",
      "1875/1875 [==============================] - 71s 38ms/step - loss: 0.0291 - accuracy: 0.9909\n",
      "Epoch 4/20\n",
      "1875/1875 [==============================] - 73s 39ms/step - loss: 0.0215 - accuracy: 0.9934\n",
      "Epoch 5/20\n",
      "1875/1875 [==============================] - 77s 41ms/step - loss: 0.0170 - accuracy: 0.9947\n",
      "Epoch 6/20\n",
      "1875/1875 [==============================] - 73s 39ms/step - loss: 0.0140 - accuracy: 0.9956\n",
      "Epoch 7/20\n",
      "1875/1875 [==============================] - 75s 40ms/step - loss: 0.0119 - accuracy: 0.9959\n",
      "Epoch 8/20\n",
      "1875/1875 [==============================] - 78s 41ms/step - loss: 0.0100 - accuracy: 0.99700s - loss: 0.0101 \n",
      "Epoch 9/20\n",
      "1875/1875 [==============================] - 76s 41ms/step - loss: 0.0096 - accuracy: 0.9969\n",
      "Epoch 10/20\n",
      "1875/1875 [==============================] - 74s 39ms/step - loss: 0.0078 - accuracy: 0.9975\n",
      "Epoch 11/20\n",
      "1875/1875 [==============================] - 74s 39ms/step - loss: 0.0085 - accuracy: 0.9977\n",
      "Epoch 12/20\n",
      "1875/1875 [==============================] - 74s 39ms/step - loss: 0.0066 - accuracy: 0.9980\n",
      "Epoch 13/20\n",
      "1875/1875 [==============================] - 76s 40ms/step - loss: 0.0075 - accuracy: 0.9979\n",
      "Epoch 14/20\n",
      "1875/1875 [==============================] - 76s 41ms/step - loss: 0.0060 - accuracy: 0.9982\n",
      "Epoch 15/20\n",
      "1875/1875 [==============================] - 76s 41ms/step - loss: 0.0056 - accuracy: 0.9984\n",
      "Epoch 16/20\n",
      "1875/1875 [==============================] - 75s 40ms/step - loss: 0.0064 - accuracy: 0.9980\n",
      "Epoch 17/20\n",
      "1875/1875 [==============================] - 73s 39ms/step - loss: 0.0060 - accuracy: 0.9984\n",
      "Epoch 18/20\n",
      "1875/1875 [==============================] - 73s 39ms/step - loss: 0.0056 - accuracy: 0.9982\n",
      "Epoch 19/20\n",
      "1875/1875 [==============================] - 74s 39ms/step - loss: 0.0054 - accuracy: 0.9987\n",
      "Epoch 20/20\n",
      "1875/1875 [==============================] - 72s 38ms/step - loss: 0.0055 - accuracy: 0.9984\n",
      "313/313 [==============================] - 4s 12ms/step - loss: 0.0484 - accuracy: 0.9928\n",
      "0.9927999973297119\n"
     ]
    }
   ],
   "source": [
    "model.compile(optimizer='adam', \n",
    "              loss='sparse_categorical_crossentropy',\n",
    "              metrics=['accuracy'])\n",
    "model.fit(train_images, train_labels, epochs=20)\n",
    "\n",
    "test_loss, test_accuracy = model.evaluate(test_images, test_labels)\n",
    "print(test_accuracy)"
   ]
  },
  {
   "cell_type": "code",
   "execution_count": 31,
   "metadata": {
    "scrolled": true
   },
   "outputs": [
    {
     "name": "stdout",
     "output_type": "stream",
     "text": [
      "Epoch 1/20\n",
      "1875/1875 [==============================] - 82s 43ms/step - loss: 0.0065 - accuracy: 0.9984\n",
      "Epoch 2/20\n",
      "1875/1875 [==============================] - 76s 40ms/step - loss: 0.0031 - accuracy: 0.9992\n",
      "Epoch 3/20\n",
      "1875/1875 [==============================] - 79s 42ms/step - loss: 5.2540e-04 - accuracy: 0.99980s - loss: 5.2946e-04 \n",
      "Epoch 4/20\n",
      "1875/1875 [==============================] - 79s 42ms/step - loss: 3.7275e-04 - accuracy: 0.9999\n",
      "Epoch 5/20\n",
      "1875/1875 [==============================] - 84s 45ms/step - loss: 1.6208e-04 - accuracy: 0.99991s - l\n",
      "Epoch 6/20\n",
      "1875/1875 [==============================] - 79s 42ms/step - loss: 4.3526e-05 - accuracy: 1.0000\n",
      "Epoch 7/20\n",
      "1875/1875 [==============================] - 67s 36ms/step - loss: 2.1599e-05 - accuracy: 1.0000\n",
      "Epoch 8/20\n",
      "1875/1875 [==============================] - 64s 34ms/step - loss: 1.1304e-05 - accuracy: 1.0000\n",
      "Epoch 9/20\n",
      "1875/1875 [==============================] - 65s 35ms/step - loss: 9.0697e-06 - accuracy: 1.0000\n",
      "Epoch 10/20\n",
      "1875/1875 [==============================] - 66s 35ms/step - loss: 6.6697e-06 - accuracy: 1.0000\n",
      "Epoch 11/20\n",
      "1875/1875 [==============================] - 62s 33ms/step - loss: 8.1467e-06 - accuracy: 1.0000\n",
      "Epoch 12/20\n",
      "1875/1875 [==============================] - 65s 34ms/step - loss: 8.2566e-06 - accuracy: 1.0000\n",
      "Epoch 13/20\n",
      "1875/1875 [==============================] - 73s 39ms/step - loss: 3.1302e-06 - accuracy: 1.0000\n",
      "Epoch 14/20\n",
      "1875/1875 [==============================] - 64s 34ms/step - loss: 3.3412e-06 - accuracy: 1.0000\n",
      "Epoch 15/20\n",
      "1875/1875 [==============================] - 66s 35ms/step - loss: 2.0625e-05 - accuracy: 1.0000\n",
      "Epoch 16/20\n",
      "1875/1875 [==============================] - 62s 33ms/step - loss: 8.9717e-06 - accuracy: 1.0000\n",
      "Epoch 17/20\n",
      "1875/1875 [==============================] - 63s 33ms/step - loss: 9.0775e-06 - accuracy: 1.0000\n",
      "Epoch 18/20\n",
      "1875/1875 [==============================] - 64s 34ms/step - loss: 2.2701e-06 - accuracy: 1.0000\n",
      "Epoch 19/20\n",
      "1875/1875 [==============================] - 62s 33ms/step - loss: 1.5844e-05 - accuracy: 1.0000\n",
      "Epoch 20/20\n",
      "1875/1875 [==============================] - 64s 34ms/step - loss: 9.3276e-06 - accuracy: 1.0000\n",
      "313/313 [==============================] - 4s 12ms/step - loss: 0.0537 - accuracy: 0.9939 0s - loss: 0.0502 - accuracy:  - ETA: 0s - loss: 0.0477 - accu\n",
      "0.9939000010490417\n"
     ]
    }
   ],
   "source": [
    "learning_rate = 0.001\n",
    "batch_size = 100\n",
    "\n",
    "lr_decay = tf.keras.optimizers.schedules.ExponentialDecay(learning_rate, \n",
    "                                                          train_images.shape[0]/batch_size*5, \n",
    "                                                          0.5, \n",
    "                                                          staircase=True)\n",
    "\n",
    "optimizer = tf.keras.optimizers.Adam(learning_rate=lr_decay)\n",
    "\n",
    "model.compile(optimizer=optimizer, \n",
    "              loss='sparse_categorical_crossentropy',\n",
    "              metrics=['accuracy'])\n",
    "model.fit(train_images, train_labels, epochs=20)\n",
    "\n",
    "test_loss, test_accuracy = model.evaluate(test_images, test_labels)\n",
    "print(test_accuracy)"
   ]
  },
  {
   "cell_type": "markdown",
   "metadata": {},
   "source": [
    "## train_test_split 학습"
   ]
  },
  {
   "cell_type": "code",
   "execution_count": 6,
   "metadata": {},
   "outputs": [],
   "source": [
    "# train_test_split를 사용하여 학습\n",
    "from sklearn.model_selection import train_test_split\n",
    "\n",
    "valid_images, test_images, valid_labels, test_labels = train_test_split(test_images, \n",
    "                                                                        test_labels, \n",
    "                                                                        test_size=0.2,\n",
    "                                                                        shuffle=True)"
   ]
  },
  {
   "cell_type": "code",
   "execution_count": 7,
   "metadata": {},
   "outputs": [
    {
     "data": {
      "text/plain": [
       "(8000, 2000)"
      ]
     },
     "execution_count": 7,
     "metadata": {},
     "output_type": "execute_result"
    }
   ],
   "source": [
    "len(valid_images), len(test_images)"
   ]
  },
  {
   "cell_type": "code",
   "execution_count": 15,
   "metadata": {
    "scrolled": true
   },
   "outputs": [
    {
     "name": "stdout",
     "output_type": "stream",
     "text": [
      "Epoch 1/20\n",
      "1875/1875 [==============================] - 70s 37ms/step - loss: 0.0202 - accuracy: 0.9934 - val_loss: 0.0229 - val_accuracy: 0.9933\n",
      "Epoch 2/20\n",
      "1875/1875 [==============================] - 68s 36ms/step - loss: 0.0147 - accuracy: 0.9952 - val_loss: 0.0263 - val_accuracy: 0.9945\n",
      "Epoch 3/20\n",
      "1875/1875 [==============================] - 68s 36ms/step - loss: 0.0053 - accuracy: 0.9982 - val_loss: 0.0275 - val_accuracy: 0.9940\n",
      "Epoch 4/20\n",
      "1875/1875 [==============================] - 72s 39ms/step - loss: 0.0024 - accuracy: 0.9992 - val_loss: 0.0292 - val_accuracy: 0.9935\n",
      "Epoch 5/20\n",
      "1875/1875 [==============================] - 69s 37ms/step - loss: 0.0011 - accuracy: 0.9997 - val_loss: 0.0317 - val_accuracy: 0.9935\n",
      "Epoch 6/20\n",
      "1875/1875 [==============================] - 69s 37ms/step - loss: 3.5066e-04 - accuracy: 0.9999 - val_loss: 0.0290 - val_accuracy: 0.9944\n",
      "Epoch 7/20\n",
      "1875/1875 [==============================] - 68s 36ms/step - loss: 1.9715e-04 - accuracy: 0.9999 - val_loss: 0.0307 - val_accuracy: 0.9941\n",
      "Epoch 8/20\n",
      "1875/1875 [==============================] - 68s 36ms/step - loss: 1.2481e-04 - accuracy: 1.0000 - val_loss: 0.0313 - val_accuracy: 0.9944\n",
      "Epoch 9/20\n",
      "1875/1875 [==============================] - 74s 39ms/step - loss: 6.5692e-05 - accuracy: 1.0000 - val_loss: 0.0317 - val_accuracy: 0.9945\n",
      "Epoch 10/20\n",
      "1875/1875 [==============================] - 69s 37ms/step - loss: 2.9859e-05 - accuracy: 1.0000 - val_loss: 0.0324 - val_accuracy: 0.9945\n",
      "Epoch 11/20\n",
      "1875/1875 [==============================] - 68s 37ms/step - loss: 4.0624e-05 - accuracy: 1.0000 - val_loss: 0.0338 - val_accuracy: 0.9944\n",
      "Epoch 12/20\n",
      "1875/1875 [==============================] - 68s 36ms/step - loss: 1.9188e-05 - accuracy: 1.0000 - val_loss: 0.0338 - val_accuracy: 0.9944\n",
      "Epoch 13/20\n",
      "1875/1875 [==============================] - 69s 37ms/step - loss: 1.2113e-04 - accuracy: 0.9999 - val_loss: 0.0331 - val_accuracy: 0.9942\n",
      "Epoch 14/20\n",
      "1875/1875 [==============================] - 72s 39ms/step - loss: 3.5586e-05 - accuracy: 1.0000 - val_loss: 0.0331 - val_accuracy: 0.9942\n",
      "Epoch 15/20\n",
      "1875/1875 [==============================] - 68s 36ms/step - loss: 3.5971e-05 - accuracy: 1.0000 - val_loss: 0.0331 - val_accuracy: 0.9942\n",
      "Epoch 16/20\n",
      "1875/1875 [==============================] - 65s 35ms/step - loss: 2.2001e-05 - accuracy: 1.0000 - val_loss: 0.0332 - val_accuracy: 0.9942\n",
      "Epoch 17/20\n",
      "1875/1875 [==============================] - 69s 37ms/step - loss: 2.7773e-05 - accuracy: 1.0000 - val_loss: 0.0333 - val_accuracy: 0.9942\n",
      "Epoch 18/20\n",
      "1875/1875 [==============================] - 71s 38ms/step - loss: 1.7467e-05 - accuracy: 1.0000 - val_loss: 0.0334 - val_accuracy: 0.9942\n",
      "Epoch 19/20\n",
      "1875/1875 [==============================] - 71s 38ms/step - loss: 2.8805e-05 - accuracy: 1.0000 - val_loss: 0.0334 - val_accuracy: 0.9942\n",
      "Epoch 20/20\n",
      "1875/1875 [==============================] - 70s 37ms/step - loss: 3.8299e-05 - accuracy: 1.0000 - val_loss: 0.0334 - val_accuracy: 0.9942\n",
      "63/63 [==============================] - 1s 12ms/step - loss: 0.0220 - accuracy: 0.9965\n",
      "0.9965000152587891\n"
     ]
    }
   ],
   "source": [
    "learning_rate = 0.001\n",
    "batch_size = 100\n",
    "\n",
    "lr_decay = tf.keras.optimizers.schedules.ExponentialDecay(learning_rate, \n",
    "                                                          train_images.shape[0]/batch_size*5, \n",
    "                                                          0.5, \n",
    "                                                          staircase=True)\n",
    "\n",
    "optimizer = tf.keras.optimizers.Adam(learning_rate=lr_decay)\n",
    "\n",
    "model.compile(optimizer=optimizer, \n",
    "              loss='sparse_categorical_crossentropy',\n",
    "              metrics=['accuracy'])\n",
    "hist = model.fit(train_images, train_labels, validation_data = (valid_images, valid_labels), epochs=20)\n",
    "\n",
    "test_loss, test_accuracy = model.evaluate(test_images, test_labels)\n",
    "print(test_accuracy)"
   ]
  },
  {
   "cell_type": "code",
   "execution_count": 13,
   "metadata": {},
   "outputs": [],
   "source": [
    "import matplotlib.pyplot as plt"
   ]
  },
  {
   "cell_type": "code",
   "execution_count": 16,
   "metadata": {},
   "outputs": [
    {
     "data": {
      "text/plain": [
       "dict_keys(['loss', 'accuracy', 'val_loss', 'val_accuracy'])"
      ]
     },
     "execution_count": 16,
     "metadata": {},
     "output_type": "execute_result"
    }
   ],
   "source": [
    "hist.history.keys()"
   ]
  },
  {
   "cell_type": "code",
   "execution_count": 18,
   "metadata": {},
   "outputs": [
    {
     "data": {
      "image/png": "[encoded data removed]",
      "text/plain": [
       "<Figure size 432x288 with 2 Axes>"
      ]
     },
     "metadata": {
      "needs_background": "light"
     },
     "output_type": "display_data"
    }
   ],
   "source": [
    "# loss & accuracy 시각화\n",
    "\n",
    "def display(hist):\n",
    "    fig, loss_ax = plt.subplots()\n",
    "    acc_ax = loss_ax.twinx()\n",
    "\n",
    "    loss_ax.plot(hist.history['loss'], 'y', label='train_loss')\n",
    "    loss_ax.plot(hist.history['val_loss'], 'r', label='valid_loss')\n",
    "    loss_ax.set_xlabel('epoch')\n",
    "    loss_ax.set_ylabel('loss')\n",
    "    loss_ax.legend(loc='upper left')\n",
    "\n",
    "    acc_ax.plot(hist.history['accuracy'], 'b', label='train_accuracy')\n",
    "    acc_ax.plot(hist.history['val_accuracy'], 'g', label='valid_accuracy')\n",
    "    acc_ax.set_xlabel('epoch')\n",
    "    acc_ax.set_ylabel('accuracy')\n",
    "    acc_ax.legend(loc='upper right', bbox_to_anchor=(1, 0.5))\n",
    "\n",
    "    plt.show()\n",
    "\n",
    "display(hist)"
   ]
  },
  {
   "cell_type": "code",
   "execution_count": null,
   "metadata": {},
   "outputs": [],
   "source": [
    "# train_test_split를 사용하여 학습 (batch_size & 더 많은 epoch)\n",
    "learning_rate = 0.001\n",
    "batch_size = 100\n",
    "\n",
    "lr_decay = tf.keras.optimizers.schedules.ExponentialDecay(learning_rate, \n",
    "                                                          train_images.shape[0]/batch_size*5, \n",
    "                                                          0.5, \n",
    "                                                          staircase=True)\n",
    "\n",
    "optimizer = tf.keras.optimizers.Adam(learning_rate=lr_decay)\n",
    "\n",
    "model.compile(optimizer=optimizer, \n",
    "              loss='sparse_categorical_crossentropy',\n",
    "              metrics=['accuracy'])\n",
    "hist = model.fit(train_images, train_labels, \n",
    "                 validation_data = (valid_images, valid_labels), \n",
    "                 epochs=100,\n",
    "                 batch_size=200)\n",
    "\n",
    "test_loss, test_accuracy = model.evaluate(test_images, test_labels)\n",
    "print(test_accuracy)"
   ]
  },
  {
   "cell_type": "markdown",
   "metadata": {},
   "source": [
    "## ModelCheckpoint & EarlyStopping"
   ]
  },
  {
   "cell_type": "code",
   "execution_count": 27,
   "metadata": {},
   "outputs": [],
   "source": [
    "# Model의 weight 값 중간 저장(ModelCheckpoint)\n",
    "# 개선되지 않는 학습에 대한 조기 종료(EarlyStopping) \n",
    "\n",
    "from tensorflow.keras.callbacks import ModelCheckpoint, EarlyStopping\n",
    "\n",
    "MODEL_SAVE_FOLDER_PATH = 'C:/Users/andyj/abangers/멀티캠퍼스(데이터분석)/자연어처리'\n",
    "model_file_path = f'{MODEL_SAVE_FOLDER_PATH}/mnist-{{epoch:d}}-{{val_loss:.5f}}-{{val_accuracy:.5f}}.hdf5'\n",
    "\n",
    "cb_checkpoint = ModelCheckpoint(filepath=model_file_path,\n",
    "                                monitor='val_accuracy',\n",
    "                                verbose=1,\n",
    "                                save_best_only=True)\n",
    "cb_early_stopping = EarlyStopping(monitor='val_loss', patience=6)"
   ]
  },
  {
   "cell_type": "code",
   "execution_count": null,
   "metadata": {},
   "outputs": [],
   "source": [
    "# 학습\n",
    "learning_rate = 0.001\n",
    "batch_size = 100\n",
    "\n",
    "lr_decay = tf.keras.optimizers.schedules.ExponentialDecay(learning_rate, \n",
    "                                                          train_images.shape[0]/batch_size*5, \n",
    "                                                          0.5, \n",
    "                                                          staircase=True)\n",
    "\n",
    "optimizer = tf.keras.optimizers.Adam(learning_rate=lr_decay)\n",
    "\n",
    "model.compile(optimizer=optimizer, \n",
    "              loss='sparse_categorical_crossentropy',\n",
    "              metrics=['accuracy'])\n",
    "hist = model.fit(train_images, train_labels, \n",
    "                 validation_data = (valid_images, valid_labels), \n",
    "                 epochs=100,\n",
    "                 batch_size=200\n",
    "                 callbacks=[cb_checkpoint, cb_early_stopping])\n",
    "\n",
    "test_loss, test_accuracy = model.evaluate(test_images, test_labels)\n",
    "print(test_accuracy)"
   ]
  },
  {
   "cell_type": "code",
   "execution_count": null,
   "metadata": {},
   "outputs": [],
   "source": [
    "# 저장했던 Model의 weight 가져오기\n",
    "saved_path = 'C:/Users/andyj/abangers/멀티캠퍼스(데이터분석)/자연어처리'\n",
    "model.load_weights(saved_path)\n",
    "\n",
    "test_loss, test_accuracy = model.evaluate(test_images, test_labels)"
   ]
  },
  {
   "cell_type": "code",
   "execution_count": 28,
   "metadata": {},
   "outputs": [],
   "source": [
    "#Batch Normalization\n",
    "\n",
    "from tensorflow.keras.layers import BatchNormalization\n",
    "\n",
    "class ConvBNRelu(Model):\n",
    "    def __init__(self, filters, kernel_size=3, strides=(1, 1), padding='same'):\n",
    "        super(ConvBNRelu, self).__init__()\n",
    "        self.conv = layers.Conv2D(filters, \n",
    "                                  kernel_size=kernel_size, \n",
    "                                  strides=strides, \n",
    "                                  padding=padding, \n",
    "                                  kernel_initializer='glorot_normal'\n",
    "                                  )\n",
    "        self.batchnorm = BatchNormalization()\n",
    "\n",
    "    def call(self, input, training=False):\n",
    "        layer = self.conv(input)\n",
    "        layer = self.batchnorm(layer)\n",
    "        layer = tf.nn.relu(layer)\n",
    "\n",
    "        return layer"
   ]
  },
  {
   "cell_type": "code",
   "execution_count": 29,
   "metadata": {},
   "outputs": [],
   "source": [
    "class DenseBNRelu(Model):\n",
    "    def __init__(self, units):\n",
    "        super(DenseBNRelu, self).__init__()\n",
    "        self.dense = layers.Dense(units=units, kernel_initializer='glorot_normal')\n",
    "        self.batchnorm = BatchNormalization()\n",
    "        \n",
    "    def call(self, input, training=False):\n",
    "        layer = self.dense(input)\n",
    "        layer = self.batchnorm(layer)\n",
    "        layer = tf.nn.relu(layer)\n",
    "        \n",
    "        return layer"
   ]
  },
  {
   "cell_type": "code",
   "execution_count": 31,
   "metadata": {
    "scrolled": true
   },
   "outputs": [
    {
     "name": "stdout",
     "output_type": "stream",
     "text": [
      "Model: \"mnist_model_2\"\n",
      "_________________________________________________________________\n",
      "Layer (type)                 Output Shape              Param #   \n",
      "=================================================================\n",
      "conv_bn_relu_3 (ConvBNRelu)  (None, 26, 26, 32)        448       \n",
      "_________________________________________________________________\n",
      "max_pooling2d_4 (MaxPooling2 (None, 13, 13, 32)        0         \n",
      "_________________________________________________________________\n",
      "conv_bn_relu_4 (ConvBNRelu)  (None, 13, 13, 64)        18752     \n",
      "_________________________________________________________________\n",
      "max_pooling2d_5 (MaxPooling2 (None, 7, 7, 64)          0         \n",
      "_________________________________________________________________\n",
      "conv_bn_relu_5 (ConvBNRelu)  (None, 7, 7, 128)         74368     \n",
      "_________________________________________________________________\n",
      "flatten_2 (Flatten)          (None, 6272)              0         \n",
      "_________________________________________________________________\n",
      "dense_bn_relu_1 (DenseBNRelu (None, 256)               1606912   \n",
      "_________________________________________________________________\n",
      "dropout_2 (Dropout)          (None, 256)               0         \n",
      "_________________________________________________________________\n",
      "dense_5 (Dense)              (None, 10)                2570      \n",
      "=================================================================\n",
      "Total params: 1,703,050\n",
      "Trainable params: 1,702,090\n",
      "Non-trainable params: 960\n",
      "_________________________________________________________________\n"
     ]
    }
   ],
   "source": [
    "class MNISTModel(Model):\n",
    "    def __init__(self):\n",
    "        super(MNISTModel, self).__init__()\n",
    "        self.conv1 = ConvBNRelu(filters=32, kernel_size= [3, 3], padding='valid')\n",
    "        self.pool1 = layers.MaxPooling2D(padding='same')\n",
    "        self.conv2 = ConvBNRelu(64, (3, 3), padding='same')\n",
    "        self.pool2 = layers.MaxPooling2D(padding='same')\n",
    "        self.conv3 = ConvBNRelu(128, (3, 3), padding='same')\n",
    "        self.conv3_flat = layers.Flatten()\n",
    "        self.dense4 = DenseBNRelu(256)\n",
    "        self.drop4 = layers.Dropout(rate=0.2)\n",
    "        self.dense5 = layers.Dense(units=10, kernel_initializer='glorot_normal', activation='softmax')\n",
    "\n",
    "    def call(self, inputs, training=False):\n",
    "        net = self.conv1(inputs)\n",
    "        net = self.pool1(net)\n",
    "        net = self.conv2(net)\n",
    "        net = self.pool2(net)\n",
    "        net = self.conv3(net)\n",
    "        net = self.conv3_flat(net)\n",
    "        net = self.dense4(net)\n",
    "        net = self.drop4(net)\n",
    "        net = self.dense5(net)\n",
    "\n",
    "        return net\n",
    "\n",
    "model = MNISTModel()\n",
    "temp_input = layers.Input(shape=(28, 28, 1))\n",
    "model(temp_input)\n",
    "model.summary()"
   ]
  },
  {
   "cell_type": "code",
   "execution_count": null,
   "metadata": {},
   "outputs": [],
   "source": [
    "learning_rate = 0.001\n",
    "batch_size = 100\n",
    "\n",
    "lr_decay = tf.keras.optimizers.schedules.ExponentialDecay(learning_rate, \n",
    "                                                          train_images.shape[0]/batch_size*5, \n",
    "                                                          0.5, \n",
    "                                                          staircase=True)\n",
    "\n",
    "optimizer = tf.keras.optimizers.Adam(learning_rate=lr_decay)\n",
    "\n",
    "model.compile(optimizer=optimizer, \n",
    "              loss='sparse_categorical_crossentropy',\n",
    "              metrics=['accuracy'])\n",
    "hist = model.fit(train_images, train_labels, \n",
    "                 validation_data = (valid_images, valid_labels), \n",
    "                 epochs=100,\n",
    "                 batch_size=200,\n",
    "                 callbacks=[cb_checkpoint, cb_early_stopping])\n",
    "\n",
    "test_loss, test_accuracy = model.evaluate(test_images, test_labels)\n",
    "print(test_accuracy)"
   ]
  },
  {
   "cell_type": "markdown",
   "metadata": {},
   "source": [
    "## VGG16 Transfer Learning"
   ]
  },
  {
   "cell_type": "code",
   "execution_count": 45,
   "metadata": {},
   "outputs": [],
   "source": [
    "import numpy as np\n",
    "from tensorflow.keras.applications import VGG16"
   ]
  },
  {
   "cell_type": "code",
   "execution_count": 46,
   "metadata": {},
   "outputs": [
    {
     "data": {
      "text/plain": [
       "((60000, 28, 28), (10000, 28, 28))"
      ]
     },
     "execution_count": 46,
     "metadata": {},
     "output_type": "execute_result"
    }
   ],
   "source": [
    "(train_images, train_labels), (test_images, test_labels) = datasets.mnist.load_data()\n",
    "train_images.shape, test_images.shape"
   ]
  },
  {
   "cell_type": "code",
   "execution_count": 47,
   "metadata": {},
   "outputs": [],
   "source": [
    "train_images = train_images.reshape(-1, 784).astype('float32')\n",
    "test_images = test_images.reshape(-1, 784).astype('float32')"
   ]
  },
  {
   "cell_type": "code",
   "execution_count": 48,
   "metadata": {},
   "outputs": [
    {
     "data": {
      "text/plain": [
       "((60000, 784), (10000, 784))"
      ]
     },
     "execution_count": 48,
     "metadata": {},
     "output_type": "execute_result"
    }
   ],
   "source": [
    "train_images.shape, test_images.shape"
   ]
  },
  {
   "cell_type": "code",
   "execution_count": 49,
   "metadata": {},
   "outputs": [
    {
     "data": {
      "text/plain": [
       "((60000, 784, 3), (10000, 784, 3))"
      ]
     },
     "execution_count": 49,
     "metadata": {},
     "output_type": "execute_result"
    }
   ],
   "source": [
    "# 3차원으로 만들기\n",
    "train_images = np.dstack([train_images]*3)\n",
    "test_images = np.dstack([test_images]*3)\n",
    "train_images.shape, test_images.shape"
   ]
  },
  {
   "cell_type": "code",
   "execution_count": 50,
   "metadata": {},
   "outputs": [
    {
     "data": {
      "text/plain": [
       "((60000, 28, 28, 3), (10000, 28, 28, 3))"
      ]
     },
     "execution_count": 50,
     "metadata": {},
     "output_type": "execute_result"
    }
   ],
   "source": [
    "train_images = train_images.reshape(-1, 28, 28, 3)\n",
    "test_images = test_images.reshape(-1, 28, 28, 3)\n",
    "train_images.shape, test_images.shape"
   ]
  },
  {
   "cell_type": "code",
   "execution_count": 51,
   "metadata": {},
   "outputs": [
    {
     "data": {
      "text/plain": [
       "((60000, 48, 48, 3), (10000, 48, 48, 3))"
      ]
     },
     "execution_count": 51,
     "metadata": {},
     "output_type": "execute_result"
    }
   ],
   "source": [
    "from tensorflow.keras.preprocessing.image import img_to_array, array_to_img\n",
    "\n",
    "train_images = np.asarray([img_to_array(array_to_img(im, scale=False).resize((48, 48))) for im in train_images])\n",
    "test_images = np.asarray([img_to_array(array_to_img(im, scale=False).resize((48, 48))) for im in test_images])\n",
    "\n",
    "train_images.shape, test_images.shape"
   ]
  },
  {
   "cell_type": "code",
   "execution_count": 52,
   "metadata": {},
   "outputs": [],
   "source": [
    "train_images = train_images/255.\n",
    "test_images = test_images/255.\n",
    "\n",
    "valid_images, test_images, valid_labels, test_labels = train_test_split(test_images, \n",
    "                                                                        test_labels, \n",
    "                                                                        test_size=0.2,\n",
    "                                                                        shuffle=True)"
   ]
  },
  {
   "cell_type": "code",
   "execution_count": 53,
   "metadata": {
    "scrolled": true
   },
   "outputs": [
    {
     "name": "stdout",
     "output_type": "stream",
     "text": [
      "Downloading data from https://storage.googleapis.com/tensorflow/keras-applications/vgg16/vgg16_weights_tf_dim_ordering_tf_kernels_notop.h5\n",
      "58892288/58889256 [==============================] - 7s 0us/step\n",
      "Model: \"vgg16\"\n",
      "_________________________________________________________________\n",
      "Layer (type)                 Output Shape              Param #   \n",
      "=================================================================\n",
      "input_3 (InputLayer)         [(None, 48, 48, 3)]       0         \n",
      "_________________________________________________________________\n",
      "block1_conv1 (Conv2D)        (None, 48, 48, 64)        1792      \n",
      "_________________________________________________________________\n",
      "block1_conv2 (Conv2D)        (None, 48, 48, 64)        36928     \n",
      "_________________________________________________________________\n",
      "block1_pool (MaxPooling2D)   (None, 24, 24, 64)        0         \n",
      "_________________________________________________________________\n",
      "block2_conv1 (Conv2D)        (None, 24, 24, 128)       73856     \n",
      "_________________________________________________________________\n",
      "block2_conv2 (Conv2D)        (None, 24, 24, 128)       147584    \n",
      "_________________________________________________________________\n",
      "block2_pool (MaxPooling2D)   (None, 12, 12, 128)       0         \n",
      "_________________________________________________________________\n",
      "block3_conv1 (Conv2D)        (None, 12, 12, 256)       295168    \n",
      "_________________________________________________________________\n",
      "block3_conv2 (Conv2D)        (None, 12, 12, 256)       590080    \n",
      "_________________________________________________________________\n",
      "block3_conv3 (Conv2D)        (None, 12, 12, 256)       590080    \n",
      "_________________________________________________________________\n",
      "block3_pool (MaxPooling2D)   (None, 6, 6, 256)         0         \n",
      "_________________________________________________________________\n",
      "block4_conv1 (Conv2D)        (None, 6, 6, 512)         1180160   \n",
      "_________________________________________________________________\n",
      "block4_conv2 (Conv2D)        (None, 6, 6, 512)         2359808   \n",
      "_________________________________________________________________\n",
      "block4_conv3 (Conv2D)        (None, 6, 6, 512)         2359808   \n",
      "_________________________________________________________________\n",
      "block4_pool (MaxPooling2D)   (None, 3, 3, 512)         0         \n",
      "_________________________________________________________________\n",
      "block5_conv1 (Conv2D)        (None, 3, 3, 512)         2359808   \n",
      "_________________________________________________________________\n",
      "block5_conv2 (Conv2D)        (None, 3, 3, 512)         2359808   \n",
      "_________________________________________________________________\n",
      "block5_conv3 (Conv2D)        (None, 3, 3, 512)         2359808   \n",
      "_________________________________________________________________\n",
      "block5_pool (MaxPooling2D)   (None, 1, 1, 512)         0         \n",
      "=================================================================\n",
      "Total params: 14,714,688\n",
      "Trainable params: 14,714,688\n",
      "Non-trainable params: 0\n",
      "_________________________________________________________________\n"
     ]
    }
   ],
   "source": [
    "# imagenet weight\n",
    "vgg_model = VGG16(weights='imagenet', include_top=False, input_shape=(48, 48, 3))\n",
    "vgg_model.summary()"
   ]
  },
  {
   "cell_type": "code",
   "execution_count": 54,
   "metadata": {},
   "outputs": [],
   "source": [
    "layer_dict = {layer.name : layer for layer in vgg_model.layers}\n",
    "x = layer_dict['block2_pool'].output\n",
    "\n",
    "x = ConvBNRelu(filters=64, kernel_size=(3, 3))(x)\n",
    "x = layers.MaxPool2D()(x)\n",
    "x = layers.Flatten()(x)\n",
    "x = DenseBNRelu(256)(x)\n",
    "x = layers.Dropout(0.2)(x)\n",
    "x = layers.Dense(10, activation='softmax')(x)"
   ]
  },
  {
   "cell_type": "code",
   "execution_count": 57,
   "metadata": {},
   "outputs": [
    {
     "name": "stdout",
     "output_type": "stream",
     "text": [
      "Model: \"functional_3\"\n",
      "_________________________________________________________________\n",
      "Layer (type)                 Output Shape              Param #   \n",
      "=================================================================\n",
      "input_3 (InputLayer)         [(None, 48, 48, 3)]       0         \n",
      "_________________________________________________________________\n",
      "block1_conv1 (Conv2D)        (None, 48, 48, 64)        1792      \n",
      "_________________________________________________________________\n",
      "block1_conv2 (Conv2D)        (None, 48, 48, 64)        36928     \n",
      "_________________________________________________________________\n",
      "block1_pool (MaxPooling2D)   (None, 24, 24, 64)        0         \n",
      "_________________________________________________________________\n",
      "block2_conv1 (Conv2D)        (None, 24, 24, 128)       73856     \n",
      "_________________________________________________________________\n",
      "block2_conv2 (Conv2D)        (None, 24, 24, 128)       147584    \n",
      "_________________________________________________________________\n",
      "block2_pool (MaxPooling2D)   (None, 12, 12, 128)       0         \n",
      "_________________________________________________________________\n",
      "conv_bn_relu_6 (ConvBNRelu)  (None, 12, 12, 64)        74048     \n",
      "_________________________________________________________________\n",
      "max_pooling2d_6 (MaxPooling2 (None, 6, 6, 64)          0         \n",
      "_________________________________________________________________\n",
      "flatten_3 (Flatten)          (None, 2304)              0         \n",
      "_________________________________________________________________\n",
      "dense_bn_relu_2 (DenseBNRelu (None, 256)               591104    \n",
      "_________________________________________________________________\n",
      "dropout_3 (Dropout)          (None, 256)               0         \n",
      "_________________________________________________________________\n",
      "dense_7 (Dense)              (None, 10)                2570      \n",
      "=================================================================\n",
      "Total params: 927,882\n",
      "Trainable params: 927,242\n",
      "Non-trainable params: 640\n",
      "_________________________________________________________________\n"
     ]
    }
   ],
   "source": [
    "custom_model = Model(inputs=vgg_model.input, outputs=x)\n",
    "custom_model.summary()"
   ]
  },
  {
   "cell_type": "code",
   "execution_count": null,
   "metadata": {},
   "outputs": [],
   "source": [
    "for layer in custom_model.layers[:7]:\n",
    "    layer.trainable = False\n",
    "\n",
    "learning_rate = 0.001\n",
    "batch_size = 100\n",
    "\n",
    "lr_decay = tf.keras.optimizers.schedules.ExponentialDecay(learning_rate, \n",
    "                                                          train_images.shape[0]/batch_size*5, \n",
    "                                                          0.5, \n",
    "                                                          staircase=True)\n",
    "\n",
    "optimizer = tf.keras.optimizers.Adam(learning_rate=lr_decay)\n",
    "\n",
    "custom_model.compile(optimizer='adam', \n",
    "              loss='sparse_categorical_crossentropy',\n",
    "              metrics=['accuracy'])\n",
    "\n",
    "from tensorflow.keras.callbacks import ModelCheckpoint, EarlyStopping\n",
    "\n",
    "MODEL_SAVE_FOLDER_PATH = '/content/drive/MyDrive/2021 혁신 성장/공유폴더/강의 실습/딥러닝기반 자연어 처리'\n",
    "model_file_path = f'{MODEL_SAVE_FOLDER_PATH}/mnist-{{epoch:d}}-{{val_loss:.5f}}-{{val_accuracy:.5f}}.hdf5'\n",
    "\n",
    "cb_checkpoint = ModelCheckpoint(filepath=model_file_path,\n",
    "                                monitor='val_accuracy',\n",
    "                                verbose=1,\n",
    "                                save_best_only=True)\n",
    "cb_early_stopping = EarlyStopping(monitor='val_loss', patience=6)\n",
    "\n",
    "hist = custom_model.fit(train_images, train_labels, \n",
    "                 validation_data = (valid_images, valid_labels), \n",
    "                 epochs=100,\n",
    "                 batch_size=200,\n",
    "                 callbacks=[cb_checkpoint, cb_early_stopping])"
   ]
  },
  {
   "cell_type": "code",
   "execution_count": null,
   "metadata": {},
   "outputs": [],
   "source": [
    "saved_path = 'C:/Users/andyj/abangers/멀티캠퍼스(데이터분석)/자연어처리'\n",
    "model.load_weights(saved_path)\n",
    "\n",
    "test_loss, test_accuracy = model.evaluate(test_images, test_labels)"
   ]
  }
 ],
 "metadata": {
  "kernelspec": {
   "display_name": "Python 3",
   "language": "python",
   "name": "python3"
  },
  "language_info": {
   "codemirror_mode": {
    "name": "ipython",
    "version": 3
   },
   "file_extension": ".py",
   "mimetype": "text/x-python",
   "name": "python",
   "nbconvert_exporter": "python",
   "pygments_lexer": "ipython3",
   "version": "3.7.9"
  }
 },
 "nbformat": 4,
 "nbformat_minor": 4
}
