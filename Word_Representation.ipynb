{
 "cells": [
  {
   "cell_type": "markdown",
   "metadata": {
    "id": "I_TVhSXBJk2g"
   },
   "source": [
    "# 단어의 표현 (Word Representation)\n",
    "\n",
    "\n",
    "기계는 문자를 그대로 인식할 수 없기때문에 숫자로 변환\n",
    "\n"
   ]
  },
  {
   "cell_type": "markdown",
   "metadata": {
    "id": "tvwJYK2WJp3e"
   },
   "source": [
    "# 1 원-핫 인코딩 (One-Hot Encoding)"
   ]
  },
  {
   "cell_type": "markdown",
   "metadata": {
    "id": "56ssCRkrSHVJ"
   },
   "source": [
    "## 1.1 직접 구현해보기"
   ]
  },
  {
   "cell_type": "markdown",
   "metadata": {
    "id": "64_tK53CLEAw"
   },
   "source": [
    "### \"원숭이, 바나나, 사과\" 로 원-핫 인코딩을 한다면"
   ]
  },
  {
   "cell_type": "code",
   "execution_count": 63,
   "metadata": {
    "id": "DtPpS_EkFmpg"
   },
   "outputs": [],
   "source": [
    "# 인코딩 대상 단어들을 담은 리스트\n",
    "word_ls = ['원숭이','바나나','사과','사과']"
   ]
  },
  {
   "cell_type": "code",
   "execution_count": 65,
   "metadata": {},
   "outputs": [
    {
     "data": {
      "text/plain": [
       "{'바나나': 0, '원숭이': 1, '사과': 2}"
      ]
     },
     "execution_count": 65,
     "metadata": {},
     "output_type": "execute_result"
    }
   ],
   "source": [
    "word_dict = {}\n",
    "for i, word in enumerate(set(word_ls)):\n",
    "    word_dict[word] = i\n",
    "word_dict\n",
    "\n",
    "#이 작업을 한번에 해주는 defaultdict()"
   ]
  },
  {
   "cell_type": "code",
   "execution_count": 68,
   "metadata": {},
   "outputs": [
    {
     "data": {
      "text/plain": [
       "defaultdict(<function __main__.<lambda>()>, {'원숭이': 0, '바나나': 1, '사과': 2})"
      ]
     },
     "execution_count": 68,
     "metadata": {},
     "output_type": "execute_result"
    }
   ],
   "source": [
    "from collections import defaultdict\n",
    "word_dict = defaultdict(lambda : len(word_dict))\n",
    "for word in word_ls:\n",
    "    word_dict[word]\n",
    "word_dict"
   ]
  },
  {
   "cell_type": "code",
   "execution_count": 4,
   "metadata": {},
   "outputs": [
    {
     "ename": "KeyError",
     "evalue": "'바나나'",
     "output_type": "error",
     "traceback": [
      "\u001b[1;31m---------------------------------------------------------------------------\u001b[0m",
      "\u001b[1;31mKeyError\u001b[0m                                  Traceback (most recent call last)",
      "\u001b[1;32m<ipython-input-4-26687c19702d>\u001b[0m in \u001b[0;36m<module>\u001b[1;34m\u001b[0m\n\u001b[0;32m      1\u001b[0m \u001b[0mwords\u001b[0m \u001b[1;33m=\u001b[0m \u001b[1;33m{\u001b[0m\u001b[1;34m\"원숭이\"\u001b[0m\u001b[1;33m:\u001b[0m\u001b[1;36m0\u001b[0m\u001b[1;33m}\u001b[0m\u001b[1;33m\u001b[0m\u001b[1;33m\u001b[0m\u001b[0m\n\u001b[1;32m----> 2\u001b[1;33m \u001b[0mwords\u001b[0m\u001b[1;33m[\u001b[0m\u001b[1;34m'바나나'\u001b[0m\u001b[1;33m]\u001b[0m\u001b[1;33m\u001b[0m\u001b[1;33m\u001b[0m\u001b[0m\n\u001b[0m",
      "\u001b[1;31mKeyError\u001b[0m: '바나나'"
     ]
    }
   ],
   "source": [
    "# 값을 집어 넣지 않으면 에러가 남\n",
    "words = {\"원숭이\":0}\n",
    "words['바나나']"
   ]
  },
  {
   "cell_type": "code",
   "execution_count": 7,
   "metadata": {},
   "outputs": [
    {
     "data": {
      "text/plain": [
       "defaultdict(<function __main__.<lambda>()>, {'원숭이': 0, '바나나': 1})"
      ]
     },
     "execution_count": 7,
     "metadata": {},
     "output_type": "execute_result"
    }
   ],
   "source": [
    "# default값으로 새로 생성\n",
    "from collections import defaultdict\n",
    "words_default = defaultdict(lambda : len(words_default))\n",
    "words_default['원숭이'] = 0\n",
    "words_default['바나나']\n",
    "words_default"
   ]
  },
  {
   "cell_type": "code",
   "execution_count": 38,
   "metadata": {
    "id": "4TPATy0HFqCi"
   },
   "outputs": [],
   "source": [
    "from collections import defaultdict\n",
    "import numpy as np \n",
    "\n",
    "def one_hot_encode(word_ls):\n",
    "    word2id = defaultdict(lambda : len(word2id))\n",
    "    \n",
    "    for word in word_ls:\n",
    "        word2id[word]\n",
    "        \n",
    "    print(\"word2id : \", word2id)\n",
    "    unique_words = len(word2id)\n",
    "    one_hot_vectors = np.zeros((len(word_ls), unique_words))\n",
    "#     print(\"one_hot_vectors : \", one_hot_vectors)\n",
    "    \n",
    "    # 단어 자리에 1 넣기\n",
    "    for i, word in enumerate(word_ls):\n",
    "        index = word2id[word]\n",
    "        one_hot_vectors[i, index] = 1\n",
    "        \n",
    "    return one_hot_vectors"
   ]
  },
  {
   "cell_type": "code",
   "execution_count": 34,
   "metadata": {
    "colab": {
     "base_uri": "https://localhost:8080/"
    },
    "id": "hCH7j4onKvzt",
    "outputId": "255b52b9-0123-4186-dfd3-71ce089ebd9a"
   },
   "outputs": [
    {
     "name": "stdout",
     "output_type": "stream",
     "text": [
      "word2id :  defaultdict(<function one_hot_encode.<locals>.<lambda> at 0x0000023AD720AEE8>, {'원숭이': 0, '바나나': 1, '사과': 2})\n",
      "one_hot_vectors :  [[0. 0. 0.]\n",
      " [0. 0. 0.]\n",
      " [0. 0. 0.]\n",
      " [0. 0. 0.]]\n"
     ]
    }
   ],
   "source": [
    "one_hot_encode(word_ls)"
   ]
  },
  {
   "cell_type": "code",
   "execution_count": 43,
   "metadata": {},
   "outputs": [
    {
     "name": "stdout",
     "output_type": "stream",
     "text": [
      "word2id :  defaultdict(<function one_hot_encode.<locals>.<lambda> at 0x0000023AD721D798>, {'원숭이': 0, '바나나': 1, '사과': 2})\n"
     ]
    },
    {
     "data": {
      "text/plain": [
       "array([[1., 0., 0.],\n",
       "       [0., 1., 0.],\n",
       "       [0., 0., 1.],\n",
       "       [0., 0., 1.]])"
      ]
     },
     "execution_count": 43,
     "metadata": {},
     "output_type": "execute_result"
    }
   ],
   "source": [
    "# 단어 자리에 1넣기\n",
    "one_hot_encode(word_ls)"
   ]
  },
  {
   "cell_type": "markdown",
   "metadata": {
    "id": "jSozqBtyLKnP"
   },
   "source": [
    "### \"코끼리\"라는 단어가 추가된다면?"
   ]
  },
  {
   "cell_type": "code",
   "execution_count": 44,
   "metadata": {
    "id": "SVITUcpOKxLy"
   },
   "outputs": [],
   "source": [
    "word_ls = ['원숭이','바나나','사과','코끼리']"
   ]
  },
  {
   "cell_type": "code",
   "execution_count": 45,
   "metadata": {
    "colab": {
     "base_uri": "https://localhost:8080/"
    },
    "id": "-GNKR6CDLiy6",
    "outputId": "ec492781-d3ff-4f7b-c3ca-37bbefe15527"
   },
   "outputs": [
    {
     "name": "stdout",
     "output_type": "stream",
     "text": [
      "word2id :  defaultdict(<function one_hot_encode.<locals>.<lambda> at 0x0000023ADF22A678>, {'원숭이': 0, '바나나': 1, '사과': 2, '코끼리': 3})\n"
     ]
    },
    {
     "data": {
      "text/plain": [
       "array([[1., 0., 0., 0.],\n",
       "       [0., 1., 0., 0.],\n",
       "       [0., 0., 1., 0.],\n",
       "       [0., 0., 0., 1.]])"
      ]
     },
     "execution_count": 45,
     "metadata": {},
     "output_type": "execute_result"
    }
   ],
   "source": [
    "one_hot_vectors = one_hot_encode(word_ls)\n",
    "one_hot_vectors"
   ]
  },
  {
   "cell_type": "markdown",
   "metadata": {
    "id": "0zuG3Gj3dLkK"
   },
   "source": [
    "## 1.3 sklearn 활용"
   ]
  },
  {
   "cell_type": "markdown",
   "metadata": {
    "id": "apagu5-2VDkF"
   },
   "source": [
    "\n",
    "함수명 | 설명\n",
    "--|--\n",
    "fit(X[, y])\t| Fit OneHotEncoder to X.\n",
    "fit_transform(X[, y])\t| Fit OneHotEncoder to X, then transform X.\n",
    "inverse_transform(X)\t| Convert the back data to the original representation.\n",
    "transform(X)\t| Transform X using one-hot encoding."
   ]
  },
  {
   "cell_type": "code",
   "execution_count": 54,
   "metadata": {
    "colab": {
     "base_uri": "https://localhost:8080/"
    },
    "id": "b7I0OUJkTVKK",
    "outputId": "02bc9fa1-03ae-4b8a-a02f-efe728eb5928"
   },
   "outputs": [
    {
     "name": "stdout",
     "output_type": "stream",
     "text": [
      "['원숭이' '바나나' '사과' '코끼리']\n",
      "[2 0 1 3]\n",
      "(4,)\n",
      "[[2]\n",
      " [0]\n",
      " [1]\n",
      " [3]]\n",
      "(4, 1)\n",
      "  (0, 2)\t1.0\n",
      "  (1, 0)\t1.0\n",
      "  (2, 1)\t1.0\n",
      "  (3, 3)\t1.0\n",
      "[[0. 0. 1. 0.]\n",
      " [1. 0. 0. 0.]\n",
      " [0. 1. 0. 0.]\n",
      " [0. 0. 0. 1.]]\n"
     ]
    }
   ],
   "source": [
    "# sklearn을 활용한 one-hot encoding\n",
    "import numpy as np\n",
    "from sklearn.preprocessing import LabelEncoder\n",
    "from sklearn.preprocessing import OneHotEncoder\n",
    "\n",
    "values = np.array(word_ls)\n",
    "print(values)\n",
    "\n",
    "label_enc = LabelEncoder()\n",
    "int_enc = label_enc.fit_transform(values)\n",
    "print(int_enc)\n",
    "print(int_enc.shape)\n",
    "\n",
    "onehot_enc = OneHotEncoder()\n",
    "int_enc = int_enc.reshape(-1, 1)\n",
    "print(int_enc)\n",
    "print(int_enc.shape)\n",
    "\n",
    "onehot_enc = onehot_enc.fit_transform(int_enc)\n",
    "print(onehot_enc)\n",
    "print(onehot_enc.toarray())"
   ]
  },
  {
   "cell_type": "code",
   "execution_count": 55,
   "metadata": {
    "colab": {
     "base_uri": "https://localhost:8080/"
    },
    "id": "FbiGSY09uNqW",
    "outputId": "4b4f705e-456e-4635-bca8-c921681b13d6"
   },
   "outputs": [
    {
     "data": {
      "text/plain": [
       "<1x4 sparse matrix of type '<class 'numpy.float64'>'\n",
       "\twith 1 stored elements in Compressed Sparse Row format>"
      ]
     },
     "execution_count": 55,
     "metadata": {},
     "output_type": "execute_result"
    }
   ],
   "source": [
    "onehot_enc[0, :]"
   ]
  },
  {
   "cell_type": "code",
   "execution_count": 56,
   "metadata": {
    "colab": {
     "base_uri": "https://localhost:8080/"
    },
    "id": "lJq3-EH38oQQ",
    "outputId": "5f0d146b-77f3-4603-e14e-f7b83eba1f57"
   },
   "outputs": [
    {
     "data": {
      "text/plain": [
       "2"
      ]
     },
     "execution_count": 56,
     "metadata": {},
     "output_type": "execute_result"
    }
   ],
   "source": [
    "# 가장 큰 수의 인덱스\n",
    "np.argmax(onehot_enc[0, :])"
   ]
  },
  {
   "cell_type": "code",
   "execution_count": 61,
   "metadata": {
    "colab": {
     "base_uri": "https://localhost:8080/"
    },
    "id": "osX0Dh758sWm",
    "outputId": "89f7890b-e283-406d-b00a-fcbf67c93cbb"
   },
   "outputs": [
    {
     "data": {
      "text/plain": [
       "array(['원숭이'], dtype='<U3')"
      ]
     },
     "execution_count": 61,
     "metadata": {},
     "output_type": "execute_result"
    }
   ],
   "source": [
    "label_enc.inverse_transform([np.argmax(onehot_enc[0, :])])"
   ]
  },
  {
   "cell_type": "markdown",
   "metadata": {
    "id": "YpcEUwjmGjq-"
   },
   "source": [
    "\n",
    "\n",
    "---\n",
    "\n"
   ]
  },
  {
   "cell_type": "markdown",
   "metadata": {
    "id": "BG0cSbZRMUK5"
   },
   "source": [
    "# 2 밀집 벡터 (Dense Vector)"
   ]
  },
  {
   "cell_type": "code",
   "execution_count": 72,
   "metadata": {
    "id": "jN24SjnVMaFg"
   },
   "outputs": [],
   "source": [
    "word_embedding_dic = {\n",
    "    '사과' : [1.0, 0.5],\n",
    "    '바나나' : [0.9, 1.2],\n",
    "    '원숭이' : [0.5, 1.5]\n",
    "}"
   ]
  },
  {
   "cell_type": "markdown",
   "metadata": {
    "id": "K9zOKu3Hd49Q"
   },
   "source": [
    "## 2-1 유사도 계산"
   ]
  },
  {
   "cell_type": "markdown",
   "metadata": {
    "id": "oaHlpji5epCE"
   },
   "source": [
    "### 2.1.1 유클리디언 거리(Euclidean distance)\n",
    "두 벡터사이의 직선 거리. 피타고라스 정리를 생각하면 이해하기 쉬움"
   ]
  },
  {
   "cell_type": "markdown",
   "metadata": {
    "id": "kLqyanO4ggNv"
   },
   "source": [
    "<img src=\"https://upload.wikimedia.org/wikipedia/commons/thumb/5/55/Euclidean_distance_2d.svg/220px-Euclidean_distance_2d.svg.png\"  width=\"200\"/>\n",
    "\n",
    "<img src=\"https://wikimedia.org/api/rest_v1/media/math/render/svg/795b967db2917cdde7c2da2d1ee327eb673276c0\" width=\"350\"/>\n",
    "\n",
    "https://en.wikipedia.org/wiki/Euclidean_distance"
   ]
  },
  {
   "cell_type": "code",
   "execution_count": 71,
   "metadata": {
    "colab": {
     "base_uri": "https://localhost:8080/"
    },
    "id": "MuK3qKuCfQZN",
    "outputId": "bbe76a35-d6c5-40e8-c324-21a87b0ab84a"
   },
   "outputs": [
    {
     "data": {
      "text/plain": [
       "0.7071067811865475"
      ]
     },
     "execution_count": 71,
     "metadata": {},
     "output_type": "execute_result"
    }
   ],
   "source": [
    "import numpy as np\n",
    "def euclidean_dist(x,y):   \n",
    "    x = np.array(x) # [1.0, 0.5]\n",
    "    y = np.array(y) # [0.9, 1.2]\n",
    "    return np.sqrt(np.sum((x - y)**2))\n",
    "\n",
    "# 사과와 바나나의 유클리디안 유사도\n",
    "euclidean_dist(word_embedding_dic['사과'], word_embedding_dic['바나나'])"
   ]
  },
  {
   "cell_type": "markdown",
   "metadata": {
    "id": "j0_kplkjool0"
   },
   "source": [
    "<img src=\"https://www.oreilly.com/library/view/statistics-for-machine/9781788295758/assets/2b4a7a82-ad4c-4b2a-b808-e423a334de6f.png\" width=\"300\"/>\n",
    "\n",
    "<img src=\"https://wikimedia.org/api/rest_v1/media/math/render/svg/1d94e5903f7936d3c131e040ef2c51b473dd071d\" width='350'/>\n",
    "\n",
    "https://en.wikipedia.org/wiki/Cosine_similarity"
   ]
  },
  {
   "cell_type": "markdown",
   "metadata": {
    "id": "Eq3OT71-Mho1"
   },
   "source": [
    "### 2.1.2 코사인 유사도(Cosine Similarity) \n",
    "\n",
    "*  두 벡터간의 유사도를 측정하는 방법 중 하나\n",
    "*  두 벡터 사이의 코사인을 측정\n",
    "*  0도 = 1, 90도 = 0, 180도 = -1   ==> 1에 가까울수록 유사도가 높음\n",
    "\n",
    "\n"
   ]
  },
  {
   "cell_type": "code",
   "execution_count": 77,
   "metadata": {
    "id": "B0KdUJ2sMaOZ"
   },
   "outputs": [],
   "source": [
    "def cosine_similarity(x, y):\n",
    "    nom = np.dot(x, y)\n",
    "    dem = np.linalg.norm(x) * np.linalg.norm(y)\n",
    "    return nom/dem"
   ]
  },
  {
   "cell_type": "code",
   "execution_count": 74,
   "metadata": {
    "colab": {
     "base_uri": "https://localhost:8080/"
    },
    "id": "9h6nA8G-7CQM",
    "outputId": "e5ffd700-68d7-4080-8b4f-89a81de7a52b"
   },
   "outputs": [
    {
     "data": {
      "text/plain": [
       "1.5"
      ]
     },
     "execution_count": 74,
     "metadata": {},
     "output_type": "execute_result"
    }
   ],
   "source": [
    "a = np.array(word_embedding_dic['사과'])\n",
    "b = np.array(word_embedding_dic['바나나'])\n",
    "np.dot(a, b)"
   ]
  },
  {
   "cell_type": "markdown",
   "metadata": {
    "id": "o0RG6HjO61st"
   },
   "source": [
    "numpy의 linalg 서브 패키지의 norm 명령으로 벡터의 길이를 계산할 수 있다. 위에서 예로 든 2차원 벡터  𝑎=[1,2] 의 길이는  √5≈2.236 이다."
   ]
  },
  {
   "cell_type": "code",
   "execution_count": 76,
   "metadata": {
    "colab": {
     "base_uri": "https://localhost:8080/"
    },
    "id": "AfhQ9upY6wq-",
    "outputId": "708e196e-35e9-47bc-8fb9-8c40e64f935c"
   },
   "outputs": [
    {
     "data": {
      "text/plain": [
       "2.23606797749979"
      ]
     },
     "execution_count": 76,
     "metadata": {},
     "output_type": "execute_result"
    }
   ],
   "source": [
    "# 크기\n",
    "a = np.array([1,2])\n",
    "np.linalg.norm(a)"
   ]
  },
  {
   "cell_type": "code",
   "execution_count": 78,
   "metadata": {
    "colab": {
     "base_uri": "https://localhost:8080/"
    },
    "id": "EIHKQr1JMnt3",
    "outputId": "e782c0a8-d0bf-42f0-bd36-b147b5aec27c"
   },
   "outputs": [
    {
     "name": "stdout",
     "output_type": "stream",
     "text": [
      "0.8944271909999159\n",
      "0.7071067811865475\n"
     ]
    }
   ],
   "source": [
    "# 사과와 바나나의 코사인 유사도\n",
    "print(cosine_similarity(word_embedding_dic['사과'], word_embedding_dic['바나나']))\n",
    "print(euclidean_dist(word_embedding_dic['사과'], word_embedding_dic['바나나']))"
   ]
  },
  {
   "cell_type": "code",
   "execution_count": 81,
   "metadata": {
    "colab": {
     "base_uri": "https://localhost:8080/"
    },
    "id": "3AR90MO-Mn25",
    "outputId": "73194956-b885-4b29-814a-e6959ec3321d"
   },
   "outputs": [
    {
     "name": "stdout",
     "output_type": "stream",
     "text": [
      "0.7071067811865475\n",
      "1.118033988749895\n"
     ]
    }
   ],
   "source": [
    "# 사과와 원숭이의 코사인 유사도\n",
    "print(cosine_similarity(word_embedding_dic['사과'], word_embedding_dic['원숭이']))\n",
    "print(euclidean_dist(word_embedding_dic['사과'], word_embedding_dic['원숭이']))"
   ]
  },
  {
   "cell_type": "code",
   "execution_count": 80,
   "metadata": {
    "colab": {
     "base_uri": "https://localhost:8080/"
    },
    "id": "1MSy0DYTMoDy",
    "outputId": "228764a2-166d-40a5-9e76-2c917dda6d26"
   },
   "outputs": [
    {
     "name": "stdout",
     "output_type": "stream",
     "text": [
      "0.9486832980505138\n",
      "0.5\n"
     ]
    }
   ],
   "source": [
    "# 바나나와 원숭이의 코사인 유사도\n",
    "print(cosine_similarity(word_embedding_dic['바나나'], word_embedding_dic['원숭이']))\n",
    "print(euclidean_dist(word_embedding_dic['바나나'], word_embedding_dic['원숭이']))"
   ]
  },
  {
   "cell_type": "markdown",
   "metadata": {
    "id": "tgDBpcUlewCn"
   },
   "source": [
    "### 2.1.3 자카드 유사도(Jaccard index)"
   ]
  },
  {
   "cell_type": "markdown",
   "metadata": {
    "id": "3GrLhpFGksn3"
   },
   "source": [
    "<img src=\"https://upload.wikimedia.org/wikipedia/commons/thumb/1/1f/Intersection_of_sets_A_and_B.svg/200px-Intersection_of_sets_A_and_B.svg.png\" />\n",
    "\n",
    "<img src=\"https://wikimedia.org/api/rest_v1/media/math/render/svg/eaef5aa86949f49e7dc6b9c8c3dd8b233332c9e7\" />\n",
    "\n",
    "https://en.wikipedia.org/wiki/Jaccard_index"
   ]
  },
  {
   "cell_type": "code",
   "execution_count": 84,
   "metadata": {
    "colab": {
     "base_uri": "https://localhost:8080/"
    },
    "id": "uBhzYo5Slphr",
    "outputId": "03c1927b-cba0-41bb-f1b6-7761943bf6a2"
   },
   "outputs": [
    {
     "name": "stdout",
     "output_type": "stream",
     "text": [
      "['대부분', '원숭이는', '바나나를', '좋아합니다.']\n",
      "['코주부', '원숭이는', '바나나를', '싫어합니다.']\n",
      "{'원숭이는', '코주부', '바나나를', '좋아합니다.', '싫어합니다.', '대부분'}\n",
      "{'원숭이는', '바나나를'}\n",
      "0.3333333333333333\n"
     ]
    }
   ],
   "source": [
    "s1 = '대부분 원숭이는 바나나를 좋아합니다.'\n",
    "s2 = '코주부 원숭이는 바나나를 싫어합니다.'\n",
    "\n",
    "# 토큰화\n",
    "token_1 = s1.split()\n",
    "token_2 = s2.split()\n",
    "\n",
    "print(token_1)\n",
    "print(token_2)\n",
    "\n",
    "#합집합\n",
    "union_sent = set(token_1).union(set(token_2))\n",
    "print(union_sent)\n",
    "\n",
    "#교집합\n",
    "inter_sent = set(token_1).intersection(set(token_2))\n",
    "print(inter_sent)\n",
    "\n",
    "print(len(inter_sent)/len(union_sent))"
   ]
  }
 ],
 "metadata": {
  "accelerator": "GPU",
  "colab": {
   "collapsed_sections": [],
   "name": "06 Word Representation",
   "provenance": []
  },
  "kernelspec": {
   "display_name": "Python 3",
   "language": "python",
   "name": "python3"
  },
  "language_info": {
   "codemirror_mode": {
    "name": "ipython",
    "version": 3
   },
   "file_extension": ".py",
   "mimetype": "text/x-python",
   "name": "python",
   "nbconvert_exporter": "python",
   "pygments_lexer": "ipython3",
   "version": "3.7.9"
  }
 },
 "nbformat": 4,
 "nbformat_minor": 1
}
