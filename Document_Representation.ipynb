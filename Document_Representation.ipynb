{
 "cells": [
  {
   "cell_type": "markdown",
   "metadata": {
    "id": "zEFesPBvXe2C"
   },
   "source": [
    "# 7장. 문장의 표현 (Sentence Representation)"
   ]
  },
  {
   "cell_type": "markdown",
   "metadata": {
    "id": "52uiZhBWaR4M"
   },
   "source": [
    "# 1 BoW (Bag of Words)"
   ]
  },
  {
   "cell_type": "markdown",
   "metadata": {
    "id": "xuz1lvCi_e-y"
   },
   "source": [
    "<img src=\"https://image.slidesharecdn.com/vector-space-models-170118145044/95/cs571-vector-space-models-3-638.jpg?cb=1485433004\" />\n",
    "\n",
    "https://en.wikipedia.org/wiki/Bag-of-words_model\n",
    "https://www.slideshare.net/jchoi7s/cs571-vector-space-models"
   ]
  },
  {
   "cell_type": "markdown",
   "metadata": {
    "id": "jUABPDuYAO7Y"
   },
   "source": [
    "## 1.1 직접구현"
   ]
  },
  {
   "cell_type": "code",
   "execution_count": 46,
   "metadata": {
    "id": "IN4N0nogC8CV"
   },
   "outputs": [],
   "source": [
    "import pandas as pd"
   ]
  },
  {
   "cell_type": "code",
   "execution_count": 47,
   "metadata": {
    "id": "dPZCmyM7aR4O"
   },
   "outputs": [],
   "source": [
    "docs = ['오늘 동물원에서 원숭이를 봤어',\n",
    "        '오늘 동물원에서 코끼리를 봤어 봤어',\n",
    "        '동물원에서 원숭이에게 바나나를 줬어 바나나를']"
   ]
  },
  {
   "cell_type": "markdown",
   "metadata": {
    "id": "zuMcIp6_aR4R"
   },
   "source": [
    "### 1) 띄어쓰기 단위로 토큰화"
   ]
  },
  {
   "cell_type": "code",
   "execution_count": 49,
   "metadata": {
    "colab": {
     "base_uri": "https://localhost:8080/"
    },
    "id": "HK8UIQfKaR4S",
    "outputId": "1ae7f26a-468a-4b59-e31c-1e90bdabdb10"
   },
   "outputs": [
    {
     "data": {
      "text/plain": [
       "[['오늘', '동물원에서', '원숭이를', '봤어'],\n",
       " ['오늘', '동물원에서', '코끼리를', '봤어', '봤어'],\n",
       " ['동물원에서', '원숭이에게', '바나나를', '줬어', '바나나를']]"
      ]
     },
     "execution_count": 49,
     "metadata": {},
     "output_type": "execute_result"
    }
   ],
   "source": [
    "doc_ls = []\n",
    "for doc in docs:\n",
    "    doc_ls.append(doc.split())\n",
    "doc_ls"
   ]
  },
  {
   "cell_type": "markdown",
   "metadata": {
    "id": "vxOK8R52aR4X"
   },
   "source": [
    "### 2) 각 고유 토큰에 인덱스(Index)를 지정"
   ]
  },
  {
   "cell_type": "code",
   "execution_count": 50,
   "metadata": {
    "colab": {
     "base_uri": "https://localhost:8080/"
    },
    "id": "HjQvx_d1aR4Y",
    "outputId": "4e669697-f515-4304-d7c7-ba8ee9b6188a"
   },
   "outputs": [
    {
     "data": {
      "text/plain": [
       "defaultdict(<function __main__.<lambda>()>,\n",
       "            {'오늘': 0,\n",
       "             '동물원에서': 1,\n",
       "             '원숭이를': 2,\n",
       "             '봤어': 3,\n",
       "             '코끼리를': 4,\n",
       "             '원숭이에게': 5,\n",
       "             '바나나를': 6,\n",
       "             '줬어': 7})"
      ]
     },
     "execution_count": 50,
     "metadata": {},
     "output_type": "execute_result"
    }
   ],
   "source": [
    "from collections import defaultdict\n",
    "\n",
    "# word2id={}\n",
    "# for doc in doc_ls:\n",
    "#     for token in doc:\n",
    "#         if not token in word2id:\n",
    "#         word2id[token] = len(word2id)\n",
    "\n",
    "word2id = defaultdict(lambda : len(word2id))\n",
    "[word2id[token] for doc in doc_ls for token in doc]\n",
    "\n",
    "word2id   "
   ]
  },
  {
   "cell_type": "markdown",
   "metadata": {
    "id": "G7cZKHjeaR4n"
   },
   "source": [
    "### 3) BoW 생성"
   ]
  },
  {
   "cell_type": "code",
   "execution_count": 33,
   "metadata": {
    "colab": {
     "base_uri": "https://localhost:8080/"
    },
    "id": "VqV9atAUZ5cS",
    "outputId": "70d249d7-18c9-4712-b574-22597032b1cf"
   },
   "outputs": [
    {
     "data": {
      "text/plain": [
       "[[1, 1, 1, 1, 0, 0, 0, 0], [1, 1, 0, 2, 1, 0, 0, 0], [0, 1, 0, 0, 0, 1, 2, 1]]"
      ]
     },
     "execution_count": 33,
     "metadata": {},
     "output_type": "execute_result"
    }
   ],
   "source": [
    "import numpy as np \n",
    "\n",
    "BoW_ls = []\n",
    "\n",
    "for i, doc in enumerate(doc_ls):\n",
    "    bow = np.zeros(len(word2id), dtype = int)\n",
    "    for word in doc:\n",
    "        bow[word2id[word]] += 1\n",
    "    BoW_ls.append(bow.tolist()) #array이니까 list로 변환\n",
    "BoW_ls"
   ]
  },
  {
   "cell_type": "code",
   "execution_count": 38,
   "metadata": {
    "colab": {
     "base_uri": "https://localhost:8080/",
     "height": 415
    },
    "id": "Hrtwk4vrJpkS",
    "outputId": "8ebe4065-d993-4c84-9867-337d2818d082"
   },
   "outputs": [
    {
     "name": "stdout",
     "output_type": "stream",
     "text": [
      "문서 0: 오늘 동물원에서 원숭이를 봤어\n"
     ]
    },
    {
     "data": {
      "text/html": [
       "<div>\n",
       "<style scoped>\n",
       "    .dataframe tbody tr th:only-of-type {\n",
       "        vertical-align: middle;\n",
       "    }\n",
       "\n",
       "    .dataframe tbody tr th {\n",
       "        vertical-align: top;\n",
       "    }\n",
       "\n",
       "    .dataframe thead th {\n",
       "        text-align: right;\n",
       "    }\n",
       "</style>\n",
       "<table border=\"1\" class=\"dataframe\">\n",
       "  <thead>\n",
       "    <tr style=\"text-align: right;\">\n",
       "      <th></th>\n",
       "      <th>오늘</th>\n",
       "      <th>동물원에서</th>\n",
       "      <th>원숭이를</th>\n",
       "      <th>봤어</th>\n",
       "      <th>코끼리를</th>\n",
       "      <th>원숭이에게</th>\n",
       "      <th>바나나를</th>\n",
       "      <th>줬어</th>\n",
       "    </tr>\n",
       "  </thead>\n",
       "  <tbody>\n",
       "    <tr>\n",
       "      <th>0</th>\n",
       "      <td>1</td>\n",
       "      <td>1</td>\n",
       "      <td>1</td>\n",
       "      <td>1</td>\n",
       "      <td>0</td>\n",
       "      <td>0</td>\n",
       "      <td>0</td>\n",
       "      <td>0</td>\n",
       "    </tr>\n",
       "  </tbody>\n",
       "</table>\n",
       "</div>"
      ],
      "text/plain": [
       "   오늘  동물원에서  원숭이를  봤어  코끼리를  원숭이에게  바나나를  줬어\n",
       "0   1      1     1   1     0      0     0   0"
      ]
     },
     "metadata": {},
     "output_type": "display_data"
    },
    {
     "name": "stdout",
     "output_type": "stream",
     "text": [
      "\n",
      "\n",
      "문서 1: 오늘 동물원에서 코끼리를 봤어 봤어\n"
     ]
    },
    {
     "data": {
      "text/html": [
       "<div>\n",
       "<style scoped>\n",
       "    .dataframe tbody tr th:only-of-type {\n",
       "        vertical-align: middle;\n",
       "    }\n",
       "\n",
       "    .dataframe tbody tr th {\n",
       "        vertical-align: top;\n",
       "    }\n",
       "\n",
       "    .dataframe thead th {\n",
       "        text-align: right;\n",
       "    }\n",
       "</style>\n",
       "<table border=\"1\" class=\"dataframe\">\n",
       "  <thead>\n",
       "    <tr style=\"text-align: right;\">\n",
       "      <th></th>\n",
       "      <th>오늘</th>\n",
       "      <th>동물원에서</th>\n",
       "      <th>원숭이를</th>\n",
       "      <th>봤어</th>\n",
       "      <th>코끼리를</th>\n",
       "      <th>원숭이에게</th>\n",
       "      <th>바나나를</th>\n",
       "      <th>줬어</th>\n",
       "    </tr>\n",
       "  </thead>\n",
       "  <tbody>\n",
       "    <tr>\n",
       "      <th>0</th>\n",
       "      <td>1</td>\n",
       "      <td>1</td>\n",
       "      <td>0</td>\n",
       "      <td>2</td>\n",
       "      <td>1</td>\n",
       "      <td>0</td>\n",
       "      <td>0</td>\n",
       "      <td>0</td>\n",
       "    </tr>\n",
       "  </tbody>\n",
       "</table>\n",
       "</div>"
      ],
      "text/plain": [
       "   오늘  동물원에서  원숭이를  봤어  코끼리를  원숭이에게  바나나를  줬어\n",
       "0   1      1     0   2     1      0     0   0"
      ]
     },
     "metadata": {},
     "output_type": "display_data"
    },
    {
     "name": "stdout",
     "output_type": "stream",
     "text": [
      "\n",
      "\n",
      "문서 2: 동물원에서 원숭이에게 바나나를 줬어 바나나를\n"
     ]
    },
    {
     "data": {
      "text/html": [
       "<div>\n",
       "<style scoped>\n",
       "    .dataframe tbody tr th:only-of-type {\n",
       "        vertical-align: middle;\n",
       "    }\n",
       "\n",
       "    .dataframe tbody tr th {\n",
       "        vertical-align: top;\n",
       "    }\n",
       "\n",
       "    .dataframe thead th {\n",
       "        text-align: right;\n",
       "    }\n",
       "</style>\n",
       "<table border=\"1\" class=\"dataframe\">\n",
       "  <thead>\n",
       "    <tr style=\"text-align: right;\">\n",
       "      <th></th>\n",
       "      <th>오늘</th>\n",
       "      <th>동물원에서</th>\n",
       "      <th>원숭이를</th>\n",
       "      <th>봤어</th>\n",
       "      <th>코끼리를</th>\n",
       "      <th>원숭이에게</th>\n",
       "      <th>바나나를</th>\n",
       "      <th>줬어</th>\n",
       "    </tr>\n",
       "  </thead>\n",
       "  <tbody>\n",
       "    <tr>\n",
       "      <th>0</th>\n",
       "      <td>0</td>\n",
       "      <td>1</td>\n",
       "      <td>0</td>\n",
       "      <td>0</td>\n",
       "      <td>0</td>\n",
       "      <td>1</td>\n",
       "      <td>2</td>\n",
       "      <td>1</td>\n",
       "    </tr>\n",
       "  </tbody>\n",
       "</table>\n",
       "</div>"
      ],
      "text/plain": [
       "   오늘  동물원에서  원숭이를  봤어  코끼리를  원숭이에게  바나나를  줬어\n",
       "0   0      1     0   0     0      1     2   1"
      ]
     },
     "metadata": {},
     "output_type": "display_data"
    },
    {
     "name": "stdout",
     "output_type": "stream",
     "text": [
      "\n",
      "\n"
     ]
    }
   ],
   "source": [
    "from IPython.core import display as ICD\n",
    "\n",
    "sorted_vocab = sorted((value, key) for key, value in word2id.items())\n",
    "vocab = [item[1] for item in sorted_vocab]\n",
    "for i in range(len(docs)):\n",
    "    print(\"문서 {}: {}\".format(i, docs[i]))\n",
    "    ICD.display(pd.DataFrame([BoW_ls[i]], columns=vocab))\n",
    "    # ICD.display를 해서 데이터프레임을 이쁘게 보여주기\n",
    "    print(\"\\n\")"
   ]
  },
  {
   "cell_type": "markdown",
   "metadata": {
    "id": "Ax7YxzN89aNZ"
   },
   "source": [
    "\n",
    "\n",
    "---\n",
    "\n",
    "\n",
    "\n"
   ]
  },
  {
   "cell_type": "markdown",
   "metadata": {
    "id": "CHnBJ8wuaR4t"
   },
   "source": [
    "## 1.2 단어 순서를 고려하지 않은 BoW"
   ]
  },
  {
   "cell_type": "code",
   "execution_count": 52,
   "metadata": {
    "id": "4UZDtYS7aR4u"
   },
   "outputs": [],
   "source": [
    "docs = ['나는 양념 치킨을 좋아해 하지만 후라이드 치킨을 싫어해',\n",
    "        '나는 후라이드 치킨을 좋아해 하지만 양념 치킨을 싫어해']"
   ]
  },
  {
   "cell_type": "markdown",
   "metadata": {
    "id": "55w1w8A1a41X"
   },
   "source": [
    "### 1) 띄어쓰기 단위로 토큰화"
   ]
  },
  {
   "cell_type": "code",
   "execution_count": 53,
   "metadata": {
    "colab": {
     "base_uri": "https://localhost:8080/"
    },
    "id": "VScTSQm3a41X",
    "outputId": "0dfcd23b-3010-4079-d9bb-10d7ba736b05"
   },
   "outputs": [
    {
     "data": {
      "text/plain": [
       "[['나는', '양념', '치킨을', '좋아해', '하지만', '후라이드', '치킨을', '싫어해'],\n",
       " ['나는', '후라이드', '치킨을', '좋아해', '하지만', '양념', '치킨을', '싫어해']]"
      ]
     },
     "execution_count": 53,
     "metadata": {},
     "output_type": "execute_result"
    }
   ],
   "source": [
    "doc_ls = []\n",
    "for doc in docs:\n",
    "    doc_ls.append(doc.split())\n",
    "doc_ls"
   ]
  },
  {
   "cell_type": "markdown",
   "metadata": {
    "id": "ogtoam3Ia41Z"
   },
   "source": [
    "### 2) 각 고유 토큰에 인덱스(Index)를 지정"
   ]
  },
  {
   "cell_type": "code",
   "execution_count": 54,
   "metadata": {},
   "outputs": [
    {
     "data": {
      "text/plain": [
       "defaultdict(<function __main__.<lambda>()>,\n",
       "            {'나는': 0,\n",
       "             '양념': 1,\n",
       "             '치킨을': 2,\n",
       "             '좋아해': 3,\n",
       "             '하지만': 4,\n",
       "             '후라이드': 5,\n",
       "             '싫어해': 6})"
      ]
     },
     "execution_count": 54,
     "metadata": {},
     "output_type": "execute_result"
    }
   ],
   "source": [
    "from collections import defaultdict\n",
    "\n",
    "word2id = defaultdict(lambda : len(word2id))\n",
    "\n",
    "[word2id[token] for doc in doc_ls for token in doc]\n",
    "\n",
    "word2id   "
   ]
  },
  {
   "cell_type": "markdown",
   "metadata": {
    "id": "M5rOzF2ma41b"
   },
   "source": [
    "### 3) BoW 생성"
   ]
  },
  {
   "cell_type": "code",
   "execution_count": 55,
   "metadata": {},
   "outputs": [
    {
     "data": {
      "text/plain": [
       "[[1, 1, 2, 1, 1, 1, 1], [1, 1, 2, 1, 1, 1, 1]]"
      ]
     },
     "execution_count": 55,
     "metadata": {},
     "output_type": "execute_result"
    }
   ],
   "source": [
    "import numpy as np \n",
    "\n",
    "BoW_ls = []\n",
    "\n",
    "for i, doc in enumerate(doc_ls):\n",
    "    bow = np.zeros(len(word2id), dtype = int)\n",
    "    for word in doc:\n",
    "        bow[word2id[word]] += 1\n",
    "    BoW_ls.append(bow.tolist()) #array이니까 list로 변환\n",
    "BoW_ls"
   ]
  },
  {
   "cell_type": "code",
   "execution_count": 56,
   "metadata": {},
   "outputs": [
    {
     "name": "stdout",
     "output_type": "stream",
     "text": [
      "문서 0 : 나는 양념 치킨을 좋아해 하지만 후라이드 치킨을 싫어해\n"
     ]
    },
    {
     "data": {
      "text/html": [
       "<div>\n",
       "<style scoped>\n",
       "    .dataframe tbody tr th:only-of-type {\n",
       "        vertical-align: middle;\n",
       "    }\n",
       "\n",
       "    .dataframe tbody tr th {\n",
       "        vertical-align: top;\n",
       "    }\n",
       "\n",
       "    .dataframe thead th {\n",
       "        text-align: right;\n",
       "    }\n",
       "</style>\n",
       "<table border=\"1\" class=\"dataframe\">\n",
       "  <thead>\n",
       "    <tr style=\"text-align: right;\">\n",
       "      <th></th>\n",
       "      <th>나는</th>\n",
       "      <th>양념</th>\n",
       "      <th>치킨을</th>\n",
       "      <th>좋아해</th>\n",
       "      <th>하지만</th>\n",
       "      <th>후라이드</th>\n",
       "      <th>싫어해</th>\n",
       "    </tr>\n",
       "  </thead>\n",
       "  <tbody>\n",
       "    <tr>\n",
       "      <th>0</th>\n",
       "      <td>1</td>\n",
       "      <td>1</td>\n",
       "      <td>2</td>\n",
       "      <td>1</td>\n",
       "      <td>1</td>\n",
       "      <td>1</td>\n",
       "      <td>1</td>\n",
       "    </tr>\n",
       "  </tbody>\n",
       "</table>\n",
       "</div>"
      ],
      "text/plain": [
       "   나는  양념  치킨을  좋아해  하지만  후라이드  싫어해\n",
       "0   1   1    2    1    1     1    1"
      ]
     },
     "metadata": {},
     "output_type": "display_data"
    },
    {
     "name": "stdout",
     "output_type": "stream",
     "text": [
      "\n",
      "\n",
      "문서 1 : 나는 후라이드 치킨을 좋아해 하지만 양념 치킨을 싫어해\n"
     ]
    },
    {
     "data": {
      "text/html": [
       "<div>\n",
       "<style scoped>\n",
       "    .dataframe tbody tr th:only-of-type {\n",
       "        vertical-align: middle;\n",
       "    }\n",
       "\n",
       "    .dataframe tbody tr th {\n",
       "        vertical-align: top;\n",
       "    }\n",
       "\n",
       "    .dataframe thead th {\n",
       "        text-align: right;\n",
       "    }\n",
       "</style>\n",
       "<table border=\"1\" class=\"dataframe\">\n",
       "  <thead>\n",
       "    <tr style=\"text-align: right;\">\n",
       "      <th></th>\n",
       "      <th>나는</th>\n",
       "      <th>양념</th>\n",
       "      <th>치킨을</th>\n",
       "      <th>좋아해</th>\n",
       "      <th>하지만</th>\n",
       "      <th>후라이드</th>\n",
       "      <th>싫어해</th>\n",
       "    </tr>\n",
       "  </thead>\n",
       "  <tbody>\n",
       "    <tr>\n",
       "      <th>0</th>\n",
       "      <td>1</td>\n",
       "      <td>1</td>\n",
       "      <td>2</td>\n",
       "      <td>1</td>\n",
       "      <td>1</td>\n",
       "      <td>1</td>\n",
       "      <td>1</td>\n",
       "    </tr>\n",
       "  </tbody>\n",
       "</table>\n",
       "</div>"
      ],
      "text/plain": [
       "   나는  양념  치킨을  좋아해  하지만  후라이드  싫어해\n",
       "0   1   1    2    1    1     1    1"
      ]
     },
     "metadata": {},
     "output_type": "display_data"
    },
    {
     "name": "stdout",
     "output_type": "stream",
     "text": [
      "\n",
      "\n"
     ]
    }
   ],
   "source": [
    "from IPython.core import display as ICD\n",
    "\n",
    "sorted_vocab = sorted((value, key) for key, value in word2id.items())\n",
    "vocab = [item[1] for item in sorted_vocab]\n",
    "for i in range(len(docs)):\n",
    "    print(\"문서 {} : {}\".format(i, docs[i]))\n",
    "    ICD.display(pd.DataFrame([BoW_ls[i]], columns=vocab))\n",
    "    # ICD.display를 해서 데이터프레임을 이쁘게 보여주기\n",
    "    print(\"\\n\")"
   ]
  },
  {
   "cell_type": "markdown",
   "metadata": {
    "id": "491wb8Avb4ij"
   },
   "source": [
    "\n",
    "\n",
    "---\n",
    "\n"
   ]
  },
  {
   "cell_type": "markdown",
   "metadata": {
    "id": "Hlu7kB_fDyer"
   },
   "source": [
    "https://en.wikipedia.org/wiki/Document-term_matrix"
   ]
  },
  {
   "cell_type": "markdown",
   "metadata": {
    "id": "e5Yfa1_j9Eav"
   },
   "source": [
    "## 1.3 sklearn 활용"
   ]
  },
  {
   "cell_type": "code",
   "execution_count": 57,
   "metadata": {
    "id": "LQnAj2a4-WXk"
   },
   "outputs": [],
   "source": [
    "docs = ['오늘 동물원에서 원숭이를 봤어',\n",
    "        '오늘 동물원에서 코끼리를 봤어 봤어',\n",
    "        '동물원에서 원숭이에게 바나나를 줬어 바나나를']"
   ]
  },
  {
   "cell_type": "code",
   "execution_count": 59,
   "metadata": {
    "colab": {
     "base_uri": "https://localhost:8080/"
    },
    "id": "SYBIrkm4-QwU",
    "outputId": "e5a5bd77-4879-4d90-b8c5-cd570f445d8f"
   },
   "outputs": [
    {
     "data": {
      "text/plain": [
       "array([[1, 0, 1, 1, 1, 0, 0, 0],\n",
       "       [1, 0, 2, 1, 0, 0, 0, 1],\n",
       "       [1, 2, 0, 0, 0, 1, 1, 0]], dtype=int64)"
      ]
     },
     "execution_count": 59,
     "metadata": {},
     "output_type": "execute_result"
    }
   ],
   "source": [
    "from sklearn.feature_extraction.text import CountVectorizer\n",
    "\n",
    "count_vect = CountVectorizer()\n",
    "BoW = count_vect.fit_transform(docs)\n",
    "BoW.toarray()"
   ]
  },
  {
   "cell_type": "code",
   "execution_count": 60,
   "metadata": {},
   "outputs": [
    {
     "data": {
      "text/plain": [
       "{'오늘': 3,\n",
       " '동물원에서': 0,\n",
       " '원숭이를': 4,\n",
       " '봤어': 2,\n",
       " '코끼리를': 7,\n",
       " '원숭이에게': 5,\n",
       " '바나나를': 1,\n",
       " '줬어': 6}"
      ]
     },
     "execution_count": 60,
     "metadata": {},
     "output_type": "execute_result"
    }
   ],
   "source": [
    "count_vect.vocabulary_"
   ]
  },
  {
   "cell_type": "code",
   "execution_count": 62,
   "metadata": {
    "colab": {
     "base_uri": "https://localhost:8080/",
     "height": 415
    },
    "id": "CDYxifsz-c9P",
    "outputId": "ec21bbd1-f341-4361-9ab2-8ffd9344e895"
   },
   "outputs": [
    {
     "name": "stdout",
     "output_type": "stream",
     "text": [
      "문서0: 오늘 동물원에서 원숭이를 봤어\n"
     ]
    },
    {
     "data": {
      "text/html": [
       "<div>\n",
       "<style scoped>\n",
       "    .dataframe tbody tr th:only-of-type {\n",
       "        vertical-align: middle;\n",
       "    }\n",
       "\n",
       "    .dataframe tbody tr th {\n",
       "        vertical-align: top;\n",
       "    }\n",
       "\n",
       "    .dataframe thead th {\n",
       "        text-align: right;\n",
       "    }\n",
       "</style>\n",
       "<table border=\"1\" class=\"dataframe\">\n",
       "  <thead>\n",
       "    <tr style=\"text-align: right;\">\n",
       "      <th></th>\n",
       "      <th>동물원에서</th>\n",
       "      <th>바나나를</th>\n",
       "      <th>봤어</th>\n",
       "      <th>오늘</th>\n",
       "      <th>원숭이를</th>\n",
       "      <th>원숭이에게</th>\n",
       "      <th>줬어</th>\n",
       "      <th>코끼리를</th>\n",
       "    </tr>\n",
       "  </thead>\n",
       "  <tbody>\n",
       "    <tr>\n",
       "      <th>0</th>\n",
       "      <td>1</td>\n",
       "      <td>0</td>\n",
       "      <td>1</td>\n",
       "      <td>1</td>\n",
       "      <td>1</td>\n",
       "      <td>0</td>\n",
       "      <td>0</td>\n",
       "      <td>0</td>\n",
       "    </tr>\n",
       "  </tbody>\n",
       "</table>\n",
       "</div>"
      ],
      "text/plain": [
       "   동물원에서  바나나를  봤어  오늘  원숭이를  원숭이에게  줬어  코끼리를\n",
       "0      1     0   1   1     1      0   0     0"
      ]
     },
     "metadata": {},
     "output_type": "display_data"
    },
    {
     "name": "stdout",
     "output_type": "stream",
     "text": [
      "\n",
      "\n",
      "문서1: 오늘 동물원에서 코끼리를 봤어 봤어\n"
     ]
    },
    {
     "data": {
      "text/html": [
       "<div>\n",
       "<style scoped>\n",
       "    .dataframe tbody tr th:only-of-type {\n",
       "        vertical-align: middle;\n",
       "    }\n",
       "\n",
       "    .dataframe tbody tr th {\n",
       "        vertical-align: top;\n",
       "    }\n",
       "\n",
       "    .dataframe thead th {\n",
       "        text-align: right;\n",
       "    }\n",
       "</style>\n",
       "<table border=\"1\" class=\"dataframe\">\n",
       "  <thead>\n",
       "    <tr style=\"text-align: right;\">\n",
       "      <th></th>\n",
       "      <th>동물원에서</th>\n",
       "      <th>바나나를</th>\n",
       "      <th>봤어</th>\n",
       "      <th>오늘</th>\n",
       "      <th>원숭이를</th>\n",
       "      <th>원숭이에게</th>\n",
       "      <th>줬어</th>\n",
       "      <th>코끼리를</th>\n",
       "    </tr>\n",
       "  </thead>\n",
       "  <tbody>\n",
       "    <tr>\n",
       "      <th>0</th>\n",
       "      <td>1</td>\n",
       "      <td>0</td>\n",
       "      <td>2</td>\n",
       "      <td>1</td>\n",
       "      <td>0</td>\n",
       "      <td>0</td>\n",
       "      <td>0</td>\n",
       "      <td>1</td>\n",
       "    </tr>\n",
       "  </tbody>\n",
       "</table>\n",
       "</div>"
      ],
      "text/plain": [
       "   동물원에서  바나나를  봤어  오늘  원숭이를  원숭이에게  줬어  코끼리를\n",
       "0      1     0   2   1     0      0   0     1"
      ]
     },
     "metadata": {},
     "output_type": "display_data"
    },
    {
     "name": "stdout",
     "output_type": "stream",
     "text": [
      "\n",
      "\n",
      "문서2: 동물원에서 원숭이에게 바나나를 줬어 바나나를\n"
     ]
    },
    {
     "data": {
      "text/html": [
       "<div>\n",
       "<style scoped>\n",
       "    .dataframe tbody tr th:only-of-type {\n",
       "        vertical-align: middle;\n",
       "    }\n",
       "\n",
       "    .dataframe tbody tr th {\n",
       "        vertical-align: top;\n",
       "    }\n",
       "\n",
       "    .dataframe thead th {\n",
       "        text-align: right;\n",
       "    }\n",
       "</style>\n",
       "<table border=\"1\" class=\"dataframe\">\n",
       "  <thead>\n",
       "    <tr style=\"text-align: right;\">\n",
       "      <th></th>\n",
       "      <th>동물원에서</th>\n",
       "      <th>바나나를</th>\n",
       "      <th>봤어</th>\n",
       "      <th>오늘</th>\n",
       "      <th>원숭이를</th>\n",
       "      <th>원숭이에게</th>\n",
       "      <th>줬어</th>\n",
       "      <th>코끼리를</th>\n",
       "    </tr>\n",
       "  </thead>\n",
       "  <tbody>\n",
       "    <tr>\n",
       "      <th>0</th>\n",
       "      <td>1</td>\n",
       "      <td>2</td>\n",
       "      <td>0</td>\n",
       "      <td>0</td>\n",
       "      <td>0</td>\n",
       "      <td>1</td>\n",
       "      <td>1</td>\n",
       "      <td>0</td>\n",
       "    </tr>\n",
       "  </tbody>\n",
       "</table>\n",
       "</div>"
      ],
      "text/plain": [
       "   동물원에서  바나나를  봤어  오늘  원숭이를  원숭이에게  줬어  코끼리를\n",
       "0      1     2   0   0     0      1   1     0"
      ]
     },
     "metadata": {},
     "output_type": "display_data"
    },
    {
     "name": "stdout",
     "output_type": "stream",
     "text": [
      "\n",
      "\n"
     ]
    }
   ],
   "source": [
    "from IPython.core import display as ICD\n",
    "\n",
    "vocab = count_vect.get_feature_names()\n",
    "for i in range(len(docs)):\n",
    "    print(\"문서{}: {}\".format(i, docs[i]))\n",
    "    ICD.display(pd.DataFrame([BoW.toarray()[i]], columns = vocab))\n",
    "    print(\"\\n\")"
   ]
  },
  {
   "cell_type": "markdown",
   "metadata": {
    "id": "lJTu69Kw9bcQ"
   },
   "source": [
    "\n",
    "\n",
    "---\n"
   ]
  },
  {
   "cell_type": "markdown",
   "metadata": {
    "id": "ubYvSi3q9RhM"
   },
   "source": [
    "## 1.4 gensim 활용"
   ]
  },
  {
   "cell_type": "code",
   "execution_count": 63,
   "metadata": {
    "id": "64nyDwx5Ao75"
   },
   "outputs": [],
   "source": [
    "docs = ['오늘 동물원에서 원숭이를 봤어',\n",
    "        '오늘 동물원에서 코끼리를 봤어 봤어',\n",
    "        '동물원에서 원숭이에게 바나나를 줬어 바나나를']"
   ]
  },
  {
   "cell_type": "code",
   "execution_count": 69,
   "metadata": {
    "colab": {
     "base_uri": "https://localhost:8080/"
    },
    "id": "GFXsCmaxAUV9",
    "outputId": "ac79951d-5c94-46b3-8695-58ef9b2fff9c"
   },
   "outputs": [
    {
     "data": {
      "text/plain": [
       "[[(0, 1), (1, 1), (2, 1), (3, 1)],\n",
       " [(0, 1), (1, 2), (2, 1), (4, 1)],\n",
       " [(0, 1), (5, 2), (6, 1), (7, 1)]]"
      ]
     },
     "execution_count": 69,
     "metadata": {},
     "output_type": "execute_result"
    }
   ],
   "source": [
    "import gensim\n",
    "from gensim import corpora\n",
    "\n",
    "doc_ls = [doc.split() for doc in docs]\n",
    "id2word = corpora.Dictionary(doc_ls)\n",
    "BoW = [id2word.doc2bow(doc) for doc in doc_ls]\n",
    "BoW"
   ]
  },
  {
   "cell_type": "code",
   "execution_count": 68,
   "metadata": {},
   "outputs": [
    {
     "name": "stdout",
     "output_type": "stream",
     "text": [
      "{'동물원에서': 0, '봤어': 1, '오늘': 2, '원숭이를': 3, '코끼리를': 4, '바나나를': 5, '원숭이에게': 6, '줬어': 7}\n"
     ]
    },
    {
     "data": {
      "text/plain": [
       "[(0, 1), (1, 1), (2, 1), (3, 1)]"
      ]
     },
     "execution_count": 68,
     "metadata": {},
     "output_type": "execute_result"
    }
   ],
   "source": [
    "print(id2word.token2id)\n",
    "id2word.doc2bow('오늘 동물원에서 원숭이를 봤어'.split())"
   ]
  },
  {
   "cell_type": "code",
   "execution_count": 75,
   "metadata": {},
   "outputs": [
    {
     "name": "stdout",
     "output_type": "stream",
     "text": [
      "문서 0:오늘 동물원에서 원숭이를 봤어\n"
     ]
    },
    {
     "data": {
      "text/html": [
       "<div>\n",
       "<style scoped>\n",
       "    .dataframe tbody tr th:only-of-type {\n",
       "        vertical-align: middle;\n",
       "    }\n",
       "\n",
       "    .dataframe tbody tr th {\n",
       "        vertical-align: top;\n",
       "    }\n",
       "\n",
       "    .dataframe thead th {\n",
       "        text-align: right;\n",
       "    }\n",
       "</style>\n",
       "<table border=\"1\" class=\"dataframe\">\n",
       "  <thead>\n",
       "    <tr style=\"text-align: right;\">\n",
       "      <th></th>\n",
       "      <th>동물원에서</th>\n",
       "      <th>봤어</th>\n",
       "      <th>오늘</th>\n",
       "      <th>원숭이를</th>\n",
       "      <th>코끼리를</th>\n",
       "      <th>바나나를</th>\n",
       "      <th>원숭이에게</th>\n",
       "      <th>줬어</th>\n",
       "    </tr>\n",
       "  </thead>\n",
       "  <tbody>\n",
       "    <tr>\n",
       "      <th>0</th>\n",
       "      <td>1.0</td>\n",
       "      <td>1.0</td>\n",
       "      <td>1.0</td>\n",
       "      <td>1.0</td>\n",
       "      <td>0.0</td>\n",
       "      <td>0.0</td>\n",
       "      <td>0.0</td>\n",
       "      <td>0.0</td>\n",
       "    </tr>\n",
       "  </tbody>\n",
       "</table>\n",
       "</div>"
      ],
      "text/plain": [
       "   동물원에서   봤어   오늘  원숭이를  코끼리를  바나나를  원숭이에게   줬어\n",
       "0    1.0  1.0  1.0   1.0   0.0   0.0    0.0  0.0"
      ]
     },
     "metadata": {},
     "output_type": "display_data"
    },
    {
     "name": "stdout",
     "output_type": "stream",
     "text": [
      "\n",
      "\n",
      "문서 1:오늘 동물원에서 코끼리를 봤어 봤어\n"
     ]
    },
    {
     "data": {
      "text/html": [
       "<div>\n",
       "<style scoped>\n",
       "    .dataframe tbody tr th:only-of-type {\n",
       "        vertical-align: middle;\n",
       "    }\n",
       "\n",
       "    .dataframe tbody tr th {\n",
       "        vertical-align: top;\n",
       "    }\n",
       "\n",
       "    .dataframe thead th {\n",
       "        text-align: right;\n",
       "    }\n",
       "</style>\n",
       "<table border=\"1\" class=\"dataframe\">\n",
       "  <thead>\n",
       "    <tr style=\"text-align: right;\">\n",
       "      <th></th>\n",
       "      <th>동물원에서</th>\n",
       "      <th>봤어</th>\n",
       "      <th>오늘</th>\n",
       "      <th>원숭이를</th>\n",
       "      <th>코끼리를</th>\n",
       "      <th>바나나를</th>\n",
       "      <th>원숭이에게</th>\n",
       "      <th>줬어</th>\n",
       "    </tr>\n",
       "  </thead>\n",
       "  <tbody>\n",
       "    <tr>\n",
       "      <th>0</th>\n",
       "      <td>1.0</td>\n",
       "      <td>2.0</td>\n",
       "      <td>1.0</td>\n",
       "      <td>0.0</td>\n",
       "      <td>1.0</td>\n",
       "      <td>0.0</td>\n",
       "      <td>0.0</td>\n",
       "      <td>0.0</td>\n",
       "    </tr>\n",
       "  </tbody>\n",
       "</table>\n",
       "</div>"
      ],
      "text/plain": [
       "   동물원에서   봤어   오늘  원숭이를  코끼리를  바나나를  원숭이에게   줬어\n",
       "0    1.0  2.0  1.0   0.0   1.0   0.0    0.0  0.0"
      ]
     },
     "metadata": {},
     "output_type": "display_data"
    },
    {
     "name": "stdout",
     "output_type": "stream",
     "text": [
      "\n",
      "\n",
      "문서 2:동물원에서 원숭이에게 바나나를 줬어 바나나를\n"
     ]
    },
    {
     "data": {
      "text/html": [
       "<div>\n",
       "<style scoped>\n",
       "    .dataframe tbody tr th:only-of-type {\n",
       "        vertical-align: middle;\n",
       "    }\n",
       "\n",
       "    .dataframe tbody tr th {\n",
       "        vertical-align: top;\n",
       "    }\n",
       "\n",
       "    .dataframe thead th {\n",
       "        text-align: right;\n",
       "    }\n",
       "</style>\n",
       "<table border=\"1\" class=\"dataframe\">\n",
       "  <thead>\n",
       "    <tr style=\"text-align: right;\">\n",
       "      <th></th>\n",
       "      <th>동물원에서</th>\n",
       "      <th>봤어</th>\n",
       "      <th>오늘</th>\n",
       "      <th>원숭이를</th>\n",
       "      <th>코끼리를</th>\n",
       "      <th>바나나를</th>\n",
       "      <th>원숭이에게</th>\n",
       "      <th>줬어</th>\n",
       "    </tr>\n",
       "  </thead>\n",
       "  <tbody>\n",
       "    <tr>\n",
       "      <th>0</th>\n",
       "      <td>1.0</td>\n",
       "      <td>0.0</td>\n",
       "      <td>0.0</td>\n",
       "      <td>0.0</td>\n",
       "      <td>0.0</td>\n",
       "      <td>2.0</td>\n",
       "      <td>1.0</td>\n",
       "      <td>1.0</td>\n",
       "    </tr>\n",
       "  </tbody>\n",
       "</table>\n",
       "</div>"
      ],
      "text/plain": [
       "   동물원에서   봤어   오늘  원숭이를  코끼리를  바나나를  원숭이에게   줬어\n",
       "0    1.0  0.0  0.0   0.0   0.0   2.0    1.0  1.0"
      ]
     },
     "metadata": {},
     "output_type": "display_data"
    },
    {
     "name": "stdout",
     "output_type": "stream",
     "text": [
      "\n",
      "\n"
     ]
    }
   ],
   "source": [
    "from gensim.matutils import sparse2full\n",
    "from IPython.core import display as ICD\n",
    "\n",
    "vocab = [id2word[i] for i in id2word.keys()]\n",
    "for i in range(len(docs)):\n",
    "    print(\"문서 {}:{}\".format(i, docs[i]))\n",
    "    ICD.display(pd.DataFrame([sparse2full(BoW[i], len(vocab))], columns = vocab))\n",
    "    print(\"\\n\")"
   ]
  },
  {
   "cell_type": "markdown",
   "metadata": {
    "id": "hx3EGCegbh8f"
   },
   "source": [
    "\n",
    "\n",
    "---\n",
    "\n"
   ]
  },
  {
   "cell_type": "markdown",
   "metadata": {
    "id": "lYoJ_zN4BqtH"
   },
   "source": [
    "# 2 TDM(Term-Document Matrix)"
   ]
  },
  {
   "cell_type": "markdown",
   "metadata": {
    "id": "mcUysxIbrO3j"
   },
   "source": [
    "## 2.1 직접구현"
   ]
  },
  {
   "cell_type": "code",
   "execution_count": 76,
   "metadata": {
    "id": "sdljLf47YyEH"
   },
   "outputs": [],
   "source": [
    "docs = ['오늘 동물원에서 원숭이를 봤어',\n",
    "        '오늘 동물원에서 코끼리를 봤어 봤어',\n",
    "        '동물원에서 원숭이에게 바나나를 줬어 바나나를']"
   ]
  },
  {
   "cell_type": "markdown",
   "metadata": {
    "id": "zsRNojiaYyEK"
   },
   "source": [
    "### 1) 띄어쓰기 단위로 토큰화"
   ]
  },
  {
   "cell_type": "code",
   "execution_count": 77,
   "metadata": {
    "colab": {
     "base_uri": "https://localhost:8080/"
    },
    "id": "SNEl8EmBYyEL",
    "outputId": "c9adffe5-2561-49f1-9767-1bfaade2a198"
   },
   "outputs": [
    {
     "data": {
      "text/plain": [
       "[['오늘', '동물원에서', '원숭이를', '봤어'],\n",
       " ['오늘', '동물원에서', '코끼리를', '봤어', '봤어'],\n",
       " ['동물원에서', '원숭이에게', '바나나를', '줬어', '바나나를']]"
      ]
     },
     "execution_count": 77,
     "metadata": {},
     "output_type": "execute_result"
    }
   ],
   "source": [
    "doc_ls = [doc.split() for doc in docs]\n",
    "doc_ls"
   ]
  },
  {
   "cell_type": "markdown",
   "metadata": {
    "id": "u9XiWrI7YyEN"
   },
   "source": [
    "### 2) 각 고유 토큰에 인덱스(Index)를 지정"
   ]
  },
  {
   "cell_type": "code",
   "execution_count": 79,
   "metadata": {
    "colab": {
     "base_uri": "https://localhost:8080/"
    },
    "id": "0V8L_nvjYyEO",
    "outputId": "b424a1d0-7aca-4294-8e6d-9ab344a49ab0"
   },
   "outputs": [
    {
     "data": {
      "text/plain": [
       "defaultdict(<function __main__.<lambda>()>,\n",
       "            {'오늘': 0,\n",
       "             '동물원에서': 1,\n",
       "             '원숭이를': 2,\n",
       "             '봤어': 3,\n",
       "             '코끼리를': 4,\n",
       "             '원숭이에게': 5,\n",
       "             '바나나를': 6,\n",
       "             '줬어': 7})"
      ]
     },
     "execution_count": 79,
     "metadata": {},
     "output_type": "execute_result"
    }
   ],
   "source": [
    "from collections import defaultdict\n",
    "\n",
    "word2id = defaultdict(lambda : len(word2id))\n",
    "[word2id[token] for doc in doc_ls for token in doc]\n",
    "word2id"
   ]
  },
  {
   "cell_type": "markdown",
   "metadata": {
    "id": "1AxbyuuBYyEP"
   },
   "source": [
    "### 3) TDM 생성"
   ]
  },
  {
   "cell_type": "code",
   "execution_count": 82,
   "metadata": {
    "colab": {
     "base_uri": "https://localhost:8080/"
    },
    "id": "gh4JyS1tYyEQ",
    "outputId": "5e7e8ade-3806-4090-ca13-153cf3f54f5e"
   },
   "outputs": [
    {
     "data": {
      "text/plain": [
       "array([[1, 1, 0],\n",
       "       [1, 1, 1],\n",
       "       [1, 0, 0],\n",
       "       [1, 2, 0],\n",
       "       [0, 1, 0],\n",
       "       [0, 0, 1],\n",
       "       [0, 0, 2],\n",
       "       [0, 0, 1]])"
      ]
     },
     "execution_count": 82,
     "metadata": {},
     "output_type": "execute_result"
    }
   ],
   "source": [
    "import numpy as np \n",
    "\n",
    "TDM = np.zeros((len(word2id), len(doc_ls)), dtype=int)\n",
    "for i, doc in enumerate(doc_ls):\n",
    "    for token in doc:\n",
    "        TDM[word2id[token], i]+=1           \n",
    "TDM"
   ]
  },
  {
   "cell_type": "code",
   "execution_count": 83,
   "metadata": {
    "colab": {
     "base_uri": "https://localhost:8080/",
     "height": 331
    },
    "id": "wdXV_KsBY29j",
    "outputId": "d4e8423a-18d7-4d01-a425-5b73fef473fd"
   },
   "outputs": [
    {
     "data": {
      "text/html": [
       "<div>\n",
       "<style scoped>\n",
       "    .dataframe tbody tr th:only-of-type {\n",
       "        vertical-align: middle;\n",
       "    }\n",
       "\n",
       "    .dataframe tbody tr th {\n",
       "        vertical-align: top;\n",
       "    }\n",
       "\n",
       "    .dataframe thead th {\n",
       "        text-align: right;\n",
       "    }\n",
       "</style>\n",
       "<table border=\"1\" class=\"dataframe\">\n",
       "  <thead>\n",
       "    <tr style=\"text-align: right;\">\n",
       "      <th></th>\n",
       "      <th>문서0</th>\n",
       "      <th>문서1</th>\n",
       "      <th>문서2</th>\n",
       "    </tr>\n",
       "    <tr>\n",
       "      <th>단어</th>\n",
       "      <th></th>\n",
       "      <th></th>\n",
       "      <th></th>\n",
       "    </tr>\n",
       "  </thead>\n",
       "  <tbody>\n",
       "    <tr>\n",
       "      <th>오늘</th>\n",
       "      <td>1</td>\n",
       "      <td>1</td>\n",
       "      <td>0</td>\n",
       "    </tr>\n",
       "    <tr>\n",
       "      <th>동물원에서</th>\n",
       "      <td>1</td>\n",
       "      <td>1</td>\n",
       "      <td>1</td>\n",
       "    </tr>\n",
       "    <tr>\n",
       "      <th>원숭이를</th>\n",
       "      <td>1</td>\n",
       "      <td>0</td>\n",
       "      <td>0</td>\n",
       "    </tr>\n",
       "    <tr>\n",
       "      <th>봤어</th>\n",
       "      <td>1</td>\n",
       "      <td>2</td>\n",
       "      <td>0</td>\n",
       "    </tr>\n",
       "    <tr>\n",
       "      <th>코끼리를</th>\n",
       "      <td>0</td>\n",
       "      <td>1</td>\n",
       "      <td>0</td>\n",
       "    </tr>\n",
       "    <tr>\n",
       "      <th>원숭이에게</th>\n",
       "      <td>0</td>\n",
       "      <td>0</td>\n",
       "      <td>1</td>\n",
       "    </tr>\n",
       "    <tr>\n",
       "      <th>바나나를</th>\n",
       "      <td>0</td>\n",
       "      <td>0</td>\n",
       "      <td>2</td>\n",
       "    </tr>\n",
       "    <tr>\n",
       "      <th>줬어</th>\n",
       "      <td>0</td>\n",
       "      <td>0</td>\n",
       "      <td>1</td>\n",
       "    </tr>\n",
       "  </tbody>\n",
       "</table>\n",
       "</div>"
      ],
      "text/plain": [
       "       문서0  문서1  문서2\n",
       "단어                  \n",
       "오늘       1    1    0\n",
       "동물원에서    1    1    1\n",
       "원숭이를     1    0    0\n",
       "봤어       1    2    0\n",
       "코끼리를     0    1    0\n",
       "원숭이에게    0    0    1\n",
       "바나나를     0    0    2\n",
       "줬어       0    0    1"
      ]
     },
     "execution_count": 83,
     "metadata": {},
     "output_type": "execute_result"
    }
   ],
   "source": [
    "import pandas as pd\n",
    "\n",
    "doc_name = ['문서{}'.format(i) for i in range(len(doc_ls))] # colume 생성\n",
    "sorted_vocab = sorted((value, key) for key, value in word2id.items())\n",
    "vocab = [v[1] for v in sorted_vocab]\n",
    "df_TDM = pd.DataFrame(TDM, columns = doc_name)\n",
    "\n",
    "df_TDM['단어'] = vocab\n",
    "df_TDM.set_index(\"단어\")"
   ]
  },
  {
   "cell_type": "markdown",
   "metadata": {
    "id": "M2xbmurHrzPe"
   },
   "source": [
    "## 2.2 sklearn 활용"
   ]
  },
  {
   "cell_type": "code",
   "execution_count": null,
   "metadata": {
    "id": "PFM2h2vyrzPf"
   },
   "outputs": [],
   "source": [
    "docs = ['오늘 동물원에서 원숭이를 봤어',\n",
    "        '오늘 동물원에서 코끼리를 봤어 봤어',\n",
    "        '동물원에서 원숭이에게 바나나를 줬어 바나나를']"
   ]
  },
  {
   "cell_type": "code",
   "execution_count": 84,
   "metadata": {
    "colab": {
     "base_uri": "https://localhost:8080/"
    },
    "id": "YUty8uPYrzPh",
    "outputId": "7e86124f-5ce4-4ee9-9750-66c1cc7a66fc"
   },
   "outputs": [
    {
     "data": {
      "text/plain": [
       "array([[1, 0, 1, 1, 1, 0, 0, 0],\n",
       "       [1, 0, 2, 1, 0, 0, 0, 1],\n",
       "       [1, 2, 0, 0, 0, 1, 1, 0]], dtype=int64)"
      ]
     },
     "execution_count": 84,
     "metadata": {},
     "output_type": "execute_result"
    }
   ],
   "source": [
    "from sklearn.feature_extraction.text import CountVectorizer\n",
    "\n",
    "count_vect = CountVectorizer()\n",
    "DTM = count_vect.fit_transform(docs)\n",
    "DTM.toarray()"
   ]
  },
  {
   "cell_type": "code",
   "execution_count": 85,
   "metadata": {
    "colab": {
     "base_uri": "https://localhost:8080/",
     "height": 331
    },
    "id": "C65XtqpWrzPj",
    "outputId": "8aa775a9-630c-4590-da45-352bfb1580a8"
   },
   "outputs": [
    {
     "data": {
      "text/html": [
       "<div>\n",
       "<style scoped>\n",
       "    .dataframe tbody tr th:only-of-type {\n",
       "        vertical-align: middle;\n",
       "    }\n",
       "\n",
       "    .dataframe tbody tr th {\n",
       "        vertical-align: top;\n",
       "    }\n",
       "\n",
       "    .dataframe thead th {\n",
       "        text-align: right;\n",
       "    }\n",
       "</style>\n",
       "<table border=\"1\" class=\"dataframe\">\n",
       "  <thead>\n",
       "    <tr style=\"text-align: right;\">\n",
       "      <th></th>\n",
       "      <th>문서0</th>\n",
       "      <th>문서1</th>\n",
       "      <th>문서2</th>\n",
       "    </tr>\n",
       "    <tr>\n",
       "      <th>단어</th>\n",
       "      <th></th>\n",
       "      <th></th>\n",
       "      <th></th>\n",
       "    </tr>\n",
       "  </thead>\n",
       "  <tbody>\n",
       "    <tr>\n",
       "      <th>동물원에서</th>\n",
       "      <td>1</td>\n",
       "      <td>1</td>\n",
       "      <td>1</td>\n",
       "    </tr>\n",
       "    <tr>\n",
       "      <th>바나나를</th>\n",
       "      <td>0</td>\n",
       "      <td>0</td>\n",
       "      <td>2</td>\n",
       "    </tr>\n",
       "    <tr>\n",
       "      <th>봤어</th>\n",
       "      <td>1</td>\n",
       "      <td>2</td>\n",
       "      <td>0</td>\n",
       "    </tr>\n",
       "    <tr>\n",
       "      <th>오늘</th>\n",
       "      <td>1</td>\n",
       "      <td>1</td>\n",
       "      <td>0</td>\n",
       "    </tr>\n",
       "    <tr>\n",
       "      <th>원숭이를</th>\n",
       "      <td>1</td>\n",
       "      <td>0</td>\n",
       "      <td>0</td>\n",
       "    </tr>\n",
       "    <tr>\n",
       "      <th>원숭이에게</th>\n",
       "      <td>0</td>\n",
       "      <td>0</td>\n",
       "      <td>1</td>\n",
       "    </tr>\n",
       "    <tr>\n",
       "      <th>줬어</th>\n",
       "      <td>0</td>\n",
       "      <td>0</td>\n",
       "      <td>1</td>\n",
       "    </tr>\n",
       "    <tr>\n",
       "      <th>코끼리를</th>\n",
       "      <td>0</td>\n",
       "      <td>1</td>\n",
       "      <td>0</td>\n",
       "    </tr>\n",
       "  </tbody>\n",
       "</table>\n",
       "</div>"
      ],
      "text/plain": [
       "       문서0  문서1  문서2\n",
       "단어                  \n",
       "동물원에서    1    1    1\n",
       "바나나를     0    0    2\n",
       "봤어       1    2    0\n",
       "오늘       1    1    0\n",
       "원숭이를     1    0    0\n",
       "원숭이에게    0    0    1\n",
       "줬어       0    0    1\n",
       "코끼리를     0    1    0"
      ]
     },
     "execution_count": 85,
     "metadata": {},
     "output_type": "execute_result"
    }
   ],
   "source": [
    "doc_name = ['문서{}'.format(i) for i in range(len(doc_ls))]\n",
    "\n",
    "vocab = count_vect.get_feature_names()\n",
    "df_TDM = pd.DataFrame(DTM.toarray().T, columns = doc_name)\n",
    "df_TDM['단어'] = vocab\n",
    "df_TDM.set_index('단어')"
   ]
  },
  {
   "cell_type": "markdown",
   "metadata": {
    "id": "jL9M4jETrzPm"
   },
   "source": [
    "\n",
    "\n",
    "---\n"
   ]
  },
  {
   "cell_type": "markdown",
   "metadata": {
    "id": "5Ffnrgshrge8"
   },
   "source": [
    "## 2.3 gensim 활용"
   ]
  },
  {
   "cell_type": "code",
   "execution_count": null,
   "metadata": {
    "id": "oTnp6FWorzPn"
   },
   "outputs": [],
   "source": [
    "docs = ['오늘 동물원에서 원숭이를 봤어',\n",
    "        '오늘 동물원에서 코끼리를 봤어 봤어',\n",
    "        '동물원에서 원숭이에게 바나나를 줬어 바나나를']"
   ]
  },
  {
   "cell_type": "code",
   "execution_count": 87,
   "metadata": {
    "colab": {
     "base_uri": "https://localhost:8080/"
    },
    "id": "e2VedSd5rzPq",
    "outputId": "366a2329-9239-46c2-e0ef-636e2aa95dc6"
   },
   "outputs": [
    {
     "data": {
      "text/plain": [
       "[[(0, 1), (1, 1), (2, 1), (3, 1)],\n",
       " [(0, 1), (1, 2), (2, 1), (4, 1)],\n",
       " [(0, 1), (5, 2), (6, 1), (7, 1)]]"
      ]
     },
     "execution_count": 87,
     "metadata": {},
     "output_type": "execute_result"
    }
   ],
   "source": [
    "import gensim\n",
    "from gensim import corpora\n",
    "\n",
    "doc_ls = [doc.split() for doc in docs]\n",
    "id2word = corpora.Dictionary(doc_ls)\n",
    "TDM = [id2word.doc2bow(doc) for doc in doc_ls]\n",
    "TDM"
   ]
  },
  {
   "cell_type": "code",
   "execution_count": 91,
   "metadata": {},
   "outputs": [
    {
     "data": {
      "text/html": [
       "<div>\n",
       "<style scoped>\n",
       "    .dataframe tbody tr th:only-of-type {\n",
       "        vertical-align: middle;\n",
       "    }\n",
       "\n",
       "    .dataframe tbody tr th {\n",
       "        vertical-align: top;\n",
       "    }\n",
       "\n",
       "    .dataframe thead th {\n",
       "        text-align: right;\n",
       "    }\n",
       "</style>\n",
       "<table border=\"1\" class=\"dataframe\">\n",
       "  <thead>\n",
       "    <tr style=\"text-align: right;\">\n",
       "      <th></th>\n",
       "      <th>문서0</th>\n",
       "      <th>문서1</th>\n",
       "      <th>문서2</th>\n",
       "    </tr>\n",
       "    <tr>\n",
       "      <th>단어</th>\n",
       "      <th></th>\n",
       "      <th></th>\n",
       "      <th></th>\n",
       "    </tr>\n",
       "  </thead>\n",
       "  <tbody>\n",
       "    <tr>\n",
       "      <th>동물원에서</th>\n",
       "      <td>1</td>\n",
       "      <td>1</td>\n",
       "      <td>1</td>\n",
       "    </tr>\n",
       "    <tr>\n",
       "      <th>봤어</th>\n",
       "      <td>1</td>\n",
       "      <td>2</td>\n",
       "      <td>0</td>\n",
       "    </tr>\n",
       "    <tr>\n",
       "      <th>오늘</th>\n",
       "      <td>1</td>\n",
       "      <td>1</td>\n",
       "      <td>0</td>\n",
       "    </tr>\n",
       "    <tr>\n",
       "      <th>원숭이를</th>\n",
       "      <td>1</td>\n",
       "      <td>0</td>\n",
       "      <td>0</td>\n",
       "    </tr>\n",
       "    <tr>\n",
       "      <th>코끼리를</th>\n",
       "      <td>0</td>\n",
       "      <td>1</td>\n",
       "      <td>0</td>\n",
       "    </tr>\n",
       "    <tr>\n",
       "      <th>바나나를</th>\n",
       "      <td>0</td>\n",
       "      <td>0</td>\n",
       "      <td>2</td>\n",
       "    </tr>\n",
       "    <tr>\n",
       "      <th>원숭이에게</th>\n",
       "      <td>0</td>\n",
       "      <td>0</td>\n",
       "      <td>1</td>\n",
       "    </tr>\n",
       "    <tr>\n",
       "      <th>줬어</th>\n",
       "      <td>0</td>\n",
       "      <td>0</td>\n",
       "      <td>1</td>\n",
       "    </tr>\n",
       "  </tbody>\n",
       "</table>\n",
       "</div>"
      ],
      "text/plain": [
       "       문서0  문서1  문서2\n",
       "단어                  \n",
       "동물원에서    1    1    1\n",
       "봤어       1    2    0\n",
       "오늘       1    1    0\n",
       "원숭이를     1    0    0\n",
       "코끼리를     0    1    0\n",
       "바나나를     0    0    2\n",
       "원숭이에게    0    0    1\n",
       "줬어       0    0    1"
      ]
     },
     "execution_count": 91,
     "metadata": {},
     "output_type": "execute_result"
    }
   ],
   "source": [
    "doc_name = ['문서{}'.format(i) for i in range(len(doc_ls))] # colume 생성\n",
    "\n",
    "vocab = [id2word[i] for i in id2word.keys()]\n",
    "DTM = [sparse2full(doc, len(vocab)).tolist() for doc in TDM]\n",
    "\n",
    "df_TDM = pd.DataFrame(np.array(DTM,dtype =int).T, columns = doc_name)\n",
    "df_TDM['단어'] = vocab\n",
    "df_TDM.set_index(\"단어\")"
   ]
  },
  {
   "cell_type": "code",
   "execution_count": null,
   "metadata": {
    "colab": {
     "base_uri": "https://localhost:8080/"
    },
    "id": "r8ilGKzkNTsJ",
    "outputId": "d8630243-7453-4909-994a-28b4e6e4ab50"
   },
   "outputs": [
    {
     "data": {
      "text/plain": [
       "[[1.0, 1.0, 1.0, 1.0, 0.0, 0.0, 0.0, 0.0],\n",
       " [1.0, 2.0, 1.0, 0.0, 1.0, 0.0, 0.0, 0.0],\n",
       " [1.0, 0.0, 0.0, 0.0, 0.0, 2.0, 1.0, 1.0]]"
      ]
     },
     "execution_count": 29,
     "metadata": {
      "tags": []
     },
     "output_type": "execute_result"
    }
   ],
   "source": [
    "DTM_matrix"
   ]
  },
  {
   "cell_type": "markdown",
   "metadata": {
    "id": "CegRF6DWrijc"
   },
   "source": [
    "---"
   ]
  },
  {
   "cell_type": "markdown",
   "metadata": {
    "id": "TmnWDmSpBwBZ"
   },
   "source": [
    "# 3 TF-IDF (Term Frequency-Inverse Document Frequency)"
   ]
  },
  {
   "cell_type": "markdown",
   "metadata": {
    "id": "NjKCX0atD4rM"
   },
   "source": [
    "<img src=\"https://wikimedia.org/api/rest_v1/media/math/render/svg/10109d0e60cc9d50a1ea2f189bac0ac29a030a00\" />\n",
    "\n",
    "\n",
    "\n",
    "*  TF(단어 빈도, Term Frequency) : 단어가 문서 내에 등장하는 빈도\n",
    "*  IDF(역문서 빈도, Inverse Document Frequency) : 단어가 여러 문서에 공통적으로 등장하는 빈도\n",
    "*  한 문서 내에 자주 등장하고 다른 문서에 자주 등장하지 않는 단어를 주요 단어로 판별할 수 있음\n",
    "\n",
    "\n",
    "https://en.wikipedia.org/wiki/Tf%E2%80%93idf"
   ]
  },
  {
   "cell_type": "markdown",
   "metadata": {
    "id": "PQLa8GJWKYqU"
   },
   "source": [
    "## 3.1 직접계산하기 1"
   ]
  },
  {
   "cell_type": "markdown",
   "metadata": {
    "id": "KEiBvluT9vIJ"
   },
   "source": [
    "weighting schema|weight\n",
    "--|--\n",
    "tf (term frequency)|<img src=\"https://wikimedia.org/api/rest_v1/media/math/render/svg/91699003abf4fe8bdf861bbce08e73e71acf5fd4\" />\n",
    "idf(inverse document frequency) |<img src=\"https://wikimedia.org/api/rest_v1/media/math/render/svg/864fcfdc0c16344c11509f724f1aa7081cf9f657\" />"
   ]
  },
  {
   "cell_type": "code",
   "execution_count": 1,
   "metadata": {
    "id": "WNKTLfkAHdJv"
   },
   "outputs": [],
   "source": [
    "docs = ['오늘 동물원에서 원숭이를 봤어',\n",
    "        '오늘 동물원에서 코끼리를 봤어 봤어',\n",
    "        '동물원에서 원숭이에게 바나나를 줬어 바나나를']"
   ]
  },
  {
   "cell_type": "markdown",
   "metadata": {
    "id": "OT-4A9F5Sojy"
   },
   "source": [
    "### 1) 띄어쓰기 단위로 토큰화"
   ]
  },
  {
   "cell_type": "code",
   "execution_count": 2,
   "metadata": {
    "colab": {
     "base_uri": "https://localhost:8080/"
    },
    "id": "yDluwY5wSojz",
    "outputId": "ecfac9fd-4f31-48bb-da19-360716837c5e"
   },
   "outputs": [
    {
     "data": {
      "text/plain": [
       "[['오늘', '동물원에서', '원숭이를', '봤어'],\n",
       " ['오늘', '동물원에서', '코끼리를', '봤어', '봤어'],\n",
       " ['동물원에서', '원숭이에게', '바나나를', '줬어', '바나나를']]"
      ]
     },
     "execution_count": 2,
     "metadata": {},
     "output_type": "execute_result"
    }
   ],
   "source": [
    "doc_ls = []\n",
    "for doc in docs:\n",
    "    doc_ls.append(doc.split())\n",
    "doc_ls"
   ]
  },
  {
   "cell_type": "markdown",
   "metadata": {
    "id": "-_JD-LbsSoj3"
   },
   "source": [
    "### 2) 각 고유 토큰에 인덱스(Index)를 지정"
   ]
  },
  {
   "cell_type": "code",
   "execution_count": 15,
   "metadata": {
    "colab": {
     "base_uri": "https://localhost:8080/"
    },
    "id": "_dwN33chSoj4",
    "outputId": "613e6f43-2747-4f55-95f5-4f31b879df90"
   },
   "outputs": [
    {
     "data": {
      "text/plain": [
       "defaultdict(<function __main__.<lambda>()>,\n",
       "            {'오늘': 0,\n",
       "             '동물원에서': 1,\n",
       "             '원숭이를': 2,\n",
       "             '봤어': 3,\n",
       "             '코끼리를': 4,\n",
       "             '원숭이에게': 5,\n",
       "             '바나나를': 6,\n",
       "             '줬어': 7})"
      ]
     },
     "execution_count": 15,
     "metadata": {},
     "output_type": "execute_result"
    }
   ],
   "source": [
    "from collections import defaultdict\n",
    "\n",
    "word2id = defaultdict(lambda : len(word2id))\n",
    "[word2id[token] for doc in doc_ls for token in doc]\n",
    "\n",
    "word2id"
   ]
  },
  {
   "cell_type": "markdown",
   "metadata": {
    "id": "B_GPg76gSoj5"
   },
   "source": [
    "### 3) DTM 생성"
   ]
  },
  {
   "cell_type": "code",
   "execution_count": 60,
   "metadata": {
    "colab": {
     "base_uri": "https://localhost:8080/"
    },
    "id": "_ebeXfuGSoj5",
    "outputId": "a88da197-1eb1-43b0-9d3b-3944ae7286ac"
   },
   "outputs": [
    {
     "data": {
      "text/plain": [
       "array([[1, 1, 1, 1, 0, 0, 0, 0],\n",
       "       [1, 1, 0, 2, 1, 0, 0, 0],\n",
       "       [0, 1, 0, 0, 0, 1, 2, 1]])"
      ]
     },
     "execution_count": 60,
     "metadata": {},
     "output_type": "execute_result"
    }
   ],
   "source": [
    "import numpy as np \n",
    "\n",
    "DTM = np.zeros((len(doc_ls), len(word2id)), dtype=int)\n",
    "for i, doc in enumerate(doc_ls):\n",
    "    for token in doc:\n",
    "        DTM[i, word2id[token]] += 1 \n",
    "\n",
    "DTM"
   ]
  },
  {
   "cell_type": "markdown",
   "metadata": {
    "id": "1CwtCbPpKInm"
   },
   "source": [
    "### 4) TF 계산"
   ]
  },
  {
   "cell_type": "markdown",
   "metadata": {
    "id": "IoIAj3Tl88da"
   },
   "source": [
    "<img src=\"https://wikimedia.org/api/rest_v1/media/math/render/svg/91699003abf4fe8bdf861bbce08e73e71acf5fd4\" />\n",
    "\n",
    "TF = 문서내 토크빈도/ 문서내 전체토큰갯수"
   ]
  },
  {
   "cell_type": "code",
   "execution_count": 61,
   "metadata": {
    "colab": {
     "base_uri": "https://localhost:8080/"
    },
    "id": "aXLKyRuLHdKe",
    "outputId": "e615de25-7892-4f11-ad7b-4f4b1de54173"
   },
   "outputs": [
    {
     "data": {
      "text/plain": [
       "array([[0.25, 0.25, 0.25, 0.25, 0.  , 0.  , 0.  , 0.  ],\n",
       "       [0.2 , 0.2 , 0.  , 0.4 , 0.2 , 0.  , 0.  , 0.  ],\n",
       "       [0.  , 0.2 , 0.  , 0.  , 0.  , 0.2 , 0.4 , 0.2 ]])"
      ]
     },
     "execution_count": 61,
     "metadata": {},
     "output_type": "execute_result"
    }
   ],
   "source": [
    "def computeTF(DTM):\n",
    "    doc_len = len(doc_ls)\n",
    "    word_len = len(word2id)\n",
    "    tf = np.zeros((doc_len, word_len))\n",
    "    for doc_idx in range(doc_len):\n",
    "        for word_idx in range(word_len):\n",
    "            tf[doc_idx, word_idx] = DTM[doc_idx, word_idx] / DTM[doc_idx].sum()\n",
    "            \n",
    "    return tf    \n",
    "\n",
    "computeTF(DTM)\n"
   ]
  },
  {
   "cell_type": "markdown",
   "metadata": {
    "id": "cWtq-XvuKO5H"
   },
   "source": [
    "### 5) IDF  계산"
   ]
  },
  {
   "cell_type": "markdown",
   "metadata": {
    "id": "Ve7FkpIi9UVf"
   },
   "source": [
    "<img src=\"https://wikimedia.org/api/rest_v1/media/math/render/svg/864fcfdc0c16344c11509f724f1aa7081cf9f657\" />\n",
    "\n",
    "IDF = log(총문서수/토큰이등장한문서수)"
   ]
  },
  {
   "cell_type": "code",
   "execution_count": 62,
   "metadata": {
    "colab": {
     "base_uri": "https://localhost:8080/"
    },
    "id": "-4SS2ol1HdKz",
    "outputId": "1dc569dd-4aeb-4d47-ada5-1462c2e865da"
   },
   "outputs": [
    {
     "data": {
      "text/plain": [
       "array([ 0.17609126, -0.        ,  0.47712125,  0.17609126,  0.47712125,\n",
       "        0.47712125,  0.47712125,  0.47712125])"
      ]
     },
     "execution_count": 62,
     "metadata": {},
     "output_type": "execute_result"
    }
   ],
   "source": [
    "import math\n",
    "\n",
    "def computeIDF(DTM):\n",
    "    doc_len = len(DTM) # 토큰이 등장한 문서 수\n",
    "    word_len = len(DTM[0])\n",
    "    idf = np.zeros(word_len)\n",
    "    for i in range(word_len):\n",
    "        idf[i] = -math.log10(np.count_nonzero(DTM[:, i])/doc_len)\n",
    "    \n",
    "    return idf\n",
    "      \n",
    "computeIDF(DTM)    "
   ]
  },
  {
   "cell_type": "markdown",
   "metadata": {
    "id": "hBvQxDBcKS60"
   },
   "source": [
    "### 6) TF-IDF 계산"
   ]
  },
  {
   "cell_type": "code",
   "execution_count": 64,
   "metadata": {
    "colab": {
     "base_uri": "https://localhost:8080/"
    },
    "id": "cL4oRjrrHdLG",
    "outputId": "95e19e62-e790-4771-f195-d4c8633496ac"
   },
   "outputs": [
    {
     "data": {
      "text/plain": [
       "array([[ 0.04402281, -0.        ,  0.11928031,  0.04402281,  0.        ,\n",
       "         0.        ,  0.        ,  0.        ],\n",
       "       [ 0.03521825, -0.        ,  0.        ,  0.0704365 ,  0.09542425,\n",
       "         0.        ,  0.        ,  0.        ],\n",
       "       [ 0.        , -0.        ,  0.        ,  0.        ,  0.        ,\n",
       "         0.09542425,  0.1908485 ,  0.09542425]])"
      ]
     },
     "execution_count": 64,
     "metadata": {},
     "output_type": "execute_result"
    }
   ],
   "source": [
    "def computeTFIDF(DTM):\n",
    "    tf = computeTF(DTM)\n",
    "    idf = computeIDF(DTM)\n",
    "    \n",
    "    tfidf = np.zeros(tf.shape)\n",
    "    for doc_idx in range(tf.shape[0]):\n",
    "        for word_idx in range(tf.shape[1]):\n",
    "            tfidf[doc_idx, word_idx] = tf[doc_idx, word_idx] * idf[word_idx]\n",
    "            \n",
    "    return tfidf\n",
    "  \n",
    "computeTFIDF(DTM)"
   ]
  },
  {
   "cell_type": "code",
   "execution_count": 65,
   "metadata": {
    "colab": {
     "base_uri": "https://localhost:8080/",
     "height": 143
    },
    "id": "4Ncmyd8hHdLJ",
    "outputId": "51d7254c-aac9-43ff-9262-a278ea56f1ad"
   },
   "outputs": [
    {
     "data": {
      "text/html": [
       "<div>\n",
       "<style scoped>\n",
       "    .dataframe tbody tr th:only-of-type {\n",
       "        vertical-align: middle;\n",
       "    }\n",
       "\n",
       "    .dataframe tbody tr th {\n",
       "        vertical-align: top;\n",
       "    }\n",
       "\n",
       "    .dataframe thead th {\n",
       "        text-align: right;\n",
       "    }\n",
       "</style>\n",
       "<table border=\"1\" class=\"dataframe\">\n",
       "  <thead>\n",
       "    <tr style=\"text-align: right;\">\n",
       "      <th></th>\n",
       "      <th>오늘</th>\n",
       "      <th>동물원에서</th>\n",
       "      <th>원숭이를</th>\n",
       "      <th>봤어</th>\n",
       "      <th>코끼리를</th>\n",
       "      <th>원숭이에게</th>\n",
       "      <th>바나나를</th>\n",
       "      <th>줬어</th>\n",
       "    </tr>\n",
       "  </thead>\n",
       "  <tbody>\n",
       "    <tr>\n",
       "      <th>0</th>\n",
       "      <td>0.044023</td>\n",
       "      <td>-0.0</td>\n",
       "      <td>0.11928</td>\n",
       "      <td>0.044023</td>\n",
       "      <td>0.000000</td>\n",
       "      <td>0.000000</td>\n",
       "      <td>0.000000</td>\n",
       "      <td>0.000000</td>\n",
       "    </tr>\n",
       "    <tr>\n",
       "      <th>1</th>\n",
       "      <td>0.035218</td>\n",
       "      <td>-0.0</td>\n",
       "      <td>0.00000</td>\n",
       "      <td>0.070437</td>\n",
       "      <td>0.095424</td>\n",
       "      <td>0.000000</td>\n",
       "      <td>0.000000</td>\n",
       "      <td>0.000000</td>\n",
       "    </tr>\n",
       "    <tr>\n",
       "      <th>2</th>\n",
       "      <td>0.000000</td>\n",
       "      <td>-0.0</td>\n",
       "      <td>0.00000</td>\n",
       "      <td>0.000000</td>\n",
       "      <td>0.000000</td>\n",
       "      <td>0.095424</td>\n",
       "      <td>0.190849</td>\n",
       "      <td>0.095424</td>\n",
       "    </tr>\n",
       "  </tbody>\n",
       "</table>\n",
       "</div>"
      ],
      "text/plain": [
       "         오늘  동물원에서     원숭이를        봤어      코끼리를     원숭이에게      바나나를        줬어\n",
       "0  0.044023   -0.0  0.11928  0.044023  0.000000  0.000000  0.000000  0.000000\n",
       "1  0.035218   -0.0  0.00000  0.070437  0.095424  0.000000  0.000000  0.000000\n",
       "2  0.000000   -0.0  0.00000  0.000000  0.000000  0.095424  0.190849  0.095424"
      ]
     },
     "execution_count": 65,
     "metadata": {},
     "output_type": "execute_result"
    }
   ],
   "source": [
    "import pandas as pd\n",
    "\n",
    "sorted_vocab = sorted((value, key) for key, value in word2id.items())\n",
    "vocab = [v[1] for v in sorted_vocab]\n",
    "tfdif = computeTFIDF(DTM)\n",
    "pd.DataFrame(tfdif, columns=vocab)"
   ]
  },
  {
   "cell_type": "markdown",
   "metadata": {
    "id": "-cwnRnyH5Ox6"
   },
   "source": [
    "## 3.2 직접계산하기2"
   ]
  },
  {
   "cell_type": "markdown",
   "metadata": {
    "id": "Y8lmTqCA9ZBs"
   },
   "source": [
    "weighting schema|weight|설명\n",
    "--|--|--\n",
    "tf(double normalization 0.5)|<img src=\"https://wikimedia.org/api/rest_v1/media/math/render/svg/45badc1c70ec2caa00ed8c21ed75bd9f8d3e650c\" />|=0.5 + 0.5(토큰빈도/문서내최빈토큰)\n",
    "idf(inverse document frequency smooth)|<img src=\"https://wikimedia.org/api/rest_v1/media/math/render/svg/25f4d6690acaaef1f15f308d24f6f8a439de971d\" />|=log(문서갯수/(1+토큰빈도)) + 1"
   ]
  },
  {
   "cell_type": "code",
   "execution_count": 67,
   "metadata": {
    "id": "ZpQ991GWHiJp"
   },
   "outputs": [],
   "source": [
    "docs = ['오늘 동물원에서 원숭이를 봤어',\n",
    "        '오늘 동물원에서 코끼리를 봤어 봤어',\n",
    "        '동물원에서 원숭이에게 바나나를 줬어 바나나를']"
   ]
  },
  {
   "cell_type": "code",
   "execution_count": 70,
   "metadata": {},
   "outputs": [
    {
     "data": {
      "text/plain": [
       "2"
      ]
     },
     "execution_count": 70,
     "metadata": {},
     "output_type": "execute_result"
    }
   ],
   "source": [
    "# 몇번 나오는지 확인 = TF\n",
    "D = [doc.split() for doc in docs]\n",
    "D[1].count('봤어')"
   ]
  },
  {
   "cell_type": "code",
   "execution_count": 72,
   "metadata": {},
   "outputs": [
    {
     "data": {
      "text/plain": [
       "[True]"
      ]
     },
     "execution_count": 72,
     "metadata": {},
     "output_type": "execute_result"
    }
   ],
   "source": [
    "# 문장들중에 t가 있는지 확인\n",
    "t = '원숭이를'\n",
    "[True for d in D if t in d]"
   ]
  },
  {
   "cell_type": "code",
   "execution_count": 76,
   "metadata": {
    "colab": {
     "base_uri": "https://localhost:8080/"
    },
    "id": "eO1kEEmceE1P",
    "outputId": "70d7f09d-801a-44b0-aa6b-221d16728cf2"
   },
   "outputs": [
    {
     "name": "stdout",
     "output_type": "stream",
     "text": [
      "['코끼리를', '봤어', '줬어', '원숭이를', '동물원에서', '바나나를', '오늘', '원숭이에게']\n",
      "8\n"
     ]
    },
    {
     "data": {
      "text/plain": [
       "(array([[0.        , 1.        , 0.        , 1.17609126, 0.87506126,\n",
       "         0.        , 1.        , 0.        ],\n",
       "        [0.88206844, 1.        , 0.        , 0.        , 0.65629595,\n",
       "         0.        , 0.75      , 0.        ],\n",
       "        [0.        , 0.        , 0.88206844, 0.        , 0.65629595,\n",
       "         1.17609126, 0.        , 0.88206844]]),\n",
       " ['코끼리를', '봤어', '줬어', '원숭이를', '동물원에서', '바나나를', '오늘', '원숭이에게'])"
      ]
     },
     "execution_count": 76,
     "metadata": {},
     "output_type": "execute_result"
    }
   ],
   "source": [
    "from math import log10\n",
    "import numpy as np\n",
    "from collections import defaultdict\n",
    "\n",
    "# document 내 토큰이 등장한 빈도수 계산\n",
    "def f(t, d):\n",
    "    return d.count(t)\n",
    "\n",
    "# tf 계산\n",
    "def tf(t, d):\n",
    "    return 0.5 + 0.5 * f(t, d) / max([f(w,d) for w in d])\n",
    "\n",
    "# idf 계산\n",
    "def idf(t, D):\n",
    "    N = len(D)\n",
    "    nt = len([True for d in D if t in d])\n",
    "    return 1 + log10(N/(1+nt))\n",
    "\n",
    "# tf-idf 계산\n",
    "def tfidf_score(t, d, D):\n",
    "    return tf(t, d) * idf (t, D)\n",
    "\n",
    "# 공백을 기준으로 토큰과\n",
    "def tokenizer(d):\n",
    "    return d.split()\n",
    "\n",
    "# tfidf 계산  \n",
    "def tfidfScorer(D):\n",
    "    D_ls = [tokenizer(d) for d in D]\n",
    "    vocab = list(set().union(*D_ls))\n",
    "    print(vocab)\n",
    "    print(len(vocab))\n",
    "    word2id = defaultdict(lambda: len(word2id))\n",
    "    [word2id[v] for v in vocab]\n",
    "    \n",
    "    tfidf = np.zeros((len(D_ls), len(word2id)))\n",
    "    for i in range(len(D_ls)):\n",
    "        for t in D_ls[i]:\n",
    "            tfidf[i,word2id[t]] = tfidf_score(t, D_ls[i], D_ls)\n",
    "            \n",
    "    return tfidf, vocab\n",
    "\n",
    "\n",
    "tfidfScorer(docs)"
   ]
  },
  {
   "cell_type": "code",
   "execution_count": 77,
   "metadata": {
    "colab": {
     "base_uri": "https://localhost:8080/",
     "height": 160
    },
    "id": "dfAQm7ZgPYJa",
    "outputId": "32501f26-163c-4076-a3f5-da5a91f5e430"
   },
   "outputs": [
    {
     "name": "stdout",
     "output_type": "stream",
     "text": [
      "['코끼리를', '봤어', '줬어', '원숭이를', '동물원에서', '바나나를', '오늘', '원숭이에게']\n",
      "8\n"
     ]
    },
    {
     "data": {
      "text/html": [
       "<div>\n",
       "<style scoped>\n",
       "    .dataframe tbody tr th:only-of-type {\n",
       "        vertical-align: middle;\n",
       "    }\n",
       "\n",
       "    .dataframe tbody tr th {\n",
       "        vertical-align: top;\n",
       "    }\n",
       "\n",
       "    .dataframe thead th {\n",
       "        text-align: right;\n",
       "    }\n",
       "</style>\n",
       "<table border=\"1\" class=\"dataframe\">\n",
       "  <thead>\n",
       "    <tr style=\"text-align: right;\">\n",
       "      <th></th>\n",
       "      <th>코끼리를</th>\n",
       "      <th>봤어</th>\n",
       "      <th>줬어</th>\n",
       "      <th>원숭이를</th>\n",
       "      <th>동물원에서</th>\n",
       "      <th>바나나를</th>\n",
       "      <th>오늘</th>\n",
       "      <th>원숭이에게</th>\n",
       "    </tr>\n",
       "  </thead>\n",
       "  <tbody>\n",
       "    <tr>\n",
       "      <th>0</th>\n",
       "      <td>0.000000</td>\n",
       "      <td>1.0</td>\n",
       "      <td>0.000000</td>\n",
       "      <td>1.176091</td>\n",
       "      <td>0.875061</td>\n",
       "      <td>0.000000</td>\n",
       "      <td>1.00</td>\n",
       "      <td>0.000000</td>\n",
       "    </tr>\n",
       "    <tr>\n",
       "      <th>1</th>\n",
       "      <td>0.882068</td>\n",
       "      <td>1.0</td>\n",
       "      <td>0.000000</td>\n",
       "      <td>0.000000</td>\n",
       "      <td>0.656296</td>\n",
       "      <td>0.000000</td>\n",
       "      <td>0.75</td>\n",
       "      <td>0.000000</td>\n",
       "    </tr>\n",
       "    <tr>\n",
       "      <th>2</th>\n",
       "      <td>0.000000</td>\n",
       "      <td>0.0</td>\n",
       "      <td>0.882068</td>\n",
       "      <td>0.000000</td>\n",
       "      <td>0.656296</td>\n",
       "      <td>1.176091</td>\n",
       "      <td>0.00</td>\n",
       "      <td>0.882068</td>\n",
       "    </tr>\n",
       "  </tbody>\n",
       "</table>\n",
       "</div>"
      ],
      "text/plain": [
       "       코끼리를   봤어        줬어      원숭이를     동물원에서      바나나를    오늘     원숭이에게\n",
       "0  0.000000  1.0  0.000000  1.176091  0.875061  0.000000  1.00  0.000000\n",
       "1  0.882068  1.0  0.000000  0.000000  0.656296  0.000000  0.75  0.000000\n",
       "2  0.000000  0.0  0.882068  0.000000  0.656296  1.176091  0.00  0.882068"
      ]
     },
     "execution_count": 77,
     "metadata": {},
     "output_type": "execute_result"
    }
   ],
   "source": [
    "import pandas as pd\n",
    "tfidf, vocab = tfidfScorer(docs)\n",
    "pd.DataFrame(tfidf, columns=vocab)"
   ]
  },
  {
   "cell_type": "markdown",
   "metadata": {
    "id": "huJ0-b2bKb_8"
   },
   "source": [
    "## 3.3 sklearn 활용"
   ]
  },
  {
   "cell_type": "code",
   "execution_count": 98,
   "metadata": {
    "id": "kBKXqmVF_URx"
   },
   "outputs": [],
   "source": [
    "docs = ['오늘 동물원에서 원숭이를 봤어',\n",
    "        '오늘 동물원에서 코끼리를 봤어 봤어',\n",
    "        '동물원에서 원숭이에게 바나나를 줬어 바나나를']"
   ]
  },
  {
   "cell_type": "code",
   "execution_count": 100,
   "metadata": {
    "colab": {
     "base_uri": "https://localhost:8080/"
    },
    "id": "em3l3IS5kRP-",
    "outputId": "416aed09-294d-4d5d-8346-d8a4741e7406"
   },
   "outputs": [
    {
     "data": {
      "text/plain": [
       "matrix([[0.37311881, 0.        , 0.4804584 , 0.4804584 , 0.63174505,\n",
       "         0.        , 0.        , 0.        ],\n",
       "        [0.28680065, 0.        , 0.73861611, 0.36930805, 0.        ,\n",
       "         0.        , 0.        , 0.48559571],\n",
       "        [0.2344005 , 0.79374908, 0.        , 0.        , 0.        ,\n",
       "         0.39687454, 0.39687454, 0.        ]])"
      ]
     },
     "execution_count": 100,
     "metadata": {},
     "output_type": "execute_result"
    }
   ],
   "source": [
    "from sklearn.feature_extraction.text import TfidfVectorizer\n",
    "\n",
    "tfidf_vect = TfidfVectorizer()\n",
    "tfidf = tfidf_vect.fit_transform(docs)\n",
    "# tfidf.toarray() #sparse matrix이기 때문에 array로 변환\n",
    "tfidf.todense() # matrix 형태"
   ]
  },
  {
   "cell_type": "code",
   "execution_count": 99,
   "metadata": {
    "colab": {
     "base_uri": "https://localhost:8080/"
    },
    "id": "xledOnjIT8zc",
    "outputId": "2c042b98-dd4d-461f-f6d7-04b763c7263a"
   },
   "outputs": [
    {
     "data": {
      "text/plain": [
       "['동물원에서', '바나나를', '봤어', '오늘', '원숭이를', '원숭이에게', '줬어', '코끼리를']"
      ]
     },
     "execution_count": 99,
     "metadata": {},
     "output_type": "execute_result"
    }
   ],
   "source": [
    "tfidf_vect.get_feature_names()"
   ]
  },
  {
   "cell_type": "code",
   "execution_count": 107,
   "metadata": {},
   "outputs": [
    {
     "data": {
      "text/plain": [
       "matrix([[0.        , 0.51785612, 0.51785612, 0.68091856, 0.        ,\n",
       "         0.        , 0.        ],\n",
       "        [0.        , 0.77100584, 0.38550292, 0.        , 0.        ,\n",
       "         0.        , 0.50689001],\n",
       "        [0.81649658, 0.        , 0.        , 0.        , 0.40824829,\n",
       "         0.40824829, 0.        ]])"
      ]
     },
     "execution_count": 107,
     "metadata": {},
     "output_type": "execute_result"
    }
   ],
   "source": [
    "from sklearn.feature_extraction.text import TfidfTransformer, CountVectorizer\n",
    "\n",
    "count_vect = CountVectorizer(max_df = 0.85) # 85% 이상 나타나는 단어들은 제외\n",
    "DTM = count_vect.fit_transform(docs)\n",
    "tfidf_trans = TfidfTransformer()\n",
    "tfidf = tfidf_trans.fit_transform(DTM)\n",
    "tfidf.todense()"
   ]
  },
  {
   "cell_type": "code",
   "execution_count": 108,
   "metadata": {
    "colab": {
     "base_uri": "https://localhost:8080/",
     "height": 143
    },
    "id": "0wwnv6EdgROS",
    "outputId": "48da3ce4-bdbd-457f-94ee-457d6301b7d9"
   },
   "outputs": [
    {
     "data": {
      "text/html": [
       "<div>\n",
       "<style scoped>\n",
       "    .dataframe tbody tr th:only-of-type {\n",
       "        vertical-align: middle;\n",
       "    }\n",
       "\n",
       "    .dataframe tbody tr th {\n",
       "        vertical-align: top;\n",
       "    }\n",
       "\n",
       "    .dataframe thead th {\n",
       "        text-align: right;\n",
       "    }\n",
       "</style>\n",
       "<table border=\"1\" class=\"dataframe\">\n",
       "  <thead>\n",
       "    <tr style=\"text-align: right;\">\n",
       "      <th></th>\n",
       "      <th>바나나를</th>\n",
       "      <th>봤어</th>\n",
       "      <th>오늘</th>\n",
       "      <th>원숭이를</th>\n",
       "      <th>원숭이에게</th>\n",
       "      <th>줬어</th>\n",
       "      <th>코끼리를</th>\n",
       "    </tr>\n",
       "  </thead>\n",
       "  <tbody>\n",
       "    <tr>\n",
       "      <th>0</th>\n",
       "      <td>0.000000</td>\n",
       "      <td>0.517856</td>\n",
       "      <td>0.517856</td>\n",
       "      <td>0.680919</td>\n",
       "      <td>0.000000</td>\n",
       "      <td>0.000000</td>\n",
       "      <td>0.00000</td>\n",
       "    </tr>\n",
       "    <tr>\n",
       "      <th>1</th>\n",
       "      <td>0.000000</td>\n",
       "      <td>0.771006</td>\n",
       "      <td>0.385503</td>\n",
       "      <td>0.000000</td>\n",
       "      <td>0.000000</td>\n",
       "      <td>0.000000</td>\n",
       "      <td>0.50689</td>\n",
       "    </tr>\n",
       "    <tr>\n",
       "      <th>2</th>\n",
       "      <td>0.816497</td>\n",
       "      <td>0.000000</td>\n",
       "      <td>0.000000</td>\n",
       "      <td>0.000000</td>\n",
       "      <td>0.408248</td>\n",
       "      <td>0.408248</td>\n",
       "      <td>0.00000</td>\n",
       "    </tr>\n",
       "  </tbody>\n",
       "</table>\n",
       "</div>"
      ],
      "text/plain": [
       "       바나나를        봤어        오늘      원숭이를     원숭이에게        줬어     코끼리를\n",
       "0  0.000000  0.517856  0.517856  0.680919  0.000000  0.000000  0.00000\n",
       "1  0.000000  0.771006  0.385503  0.000000  0.000000  0.000000  0.50689\n",
       "2  0.816497  0.000000  0.000000  0.000000  0.408248  0.408248  0.00000"
      ]
     },
     "execution_count": 108,
     "metadata": {},
     "output_type": "execute_result"
    }
   ],
   "source": [
    "import pandas as pd\n",
    "vocab = count_vect.get_feature_names()\n",
    "pd.DataFrame(tfidf.todense(), columns = vocab)"
   ]
  }
 ],
 "metadata": {
  "colab": {
   "collapsed_sections": [],
   "name": "07 Practice. Document Representation",
   "provenance": [],
   "toc_visible": true
  },
  "kernelspec": {
   "display_name": "Python 3",
   "language": "python",
   "name": "python3"
  },
  "language_info": {
   "codemirror_mode": {
    "name": "ipython",
    "version": 3
   },
   "file_extension": ".py",
   "mimetype": "text/x-python",
   "name": "python",
   "nbconvert_exporter": "python",
   "pygments_lexer": "ipython3",
   "version": "3.7.9"
  }
 },
 "nbformat": 4,
 "nbformat_minor": 1
}
