{
 "cells": [
  {
   "cell_type": "markdown",
   "metadata": {
    "id": "q1Q9mWDrgMUn"
   },
   "source": [
    "# 핵심 키워드 추출 (Keyword Extraction)"
   ]
  },
  {
   "cell_type": "markdown",
   "metadata": {
    "id": "PSZIeetL8Yym"
   },
   "source": [
    "# 데이터 준비"
   ]
  },
  {
   "cell_type": "markdown",
   "metadata": {
    "id": "hpTxmnbx8v6m"
   },
   "source": [
    "## Mecab 설치 (필요시)"
   ]
  },
  {
   "cell_type": "code",
   "execution_count": null,
   "metadata": {
    "colab": {
     "base_uri": "https://localhost:8080/"
    },
    "id": "qsWnZkd78qCA",
    "outputId": "c551176f-1543-47d2-9584-b5b866fcf91d"
   },
   "outputs": [
    {
     "name": "stdout",
     "output_type": "stream",
     "text": [
      "Reading package lists... Done\n",
      "Building dependency tree       \n",
      "Reading state information... Done\n",
      "Package openjdk-7-jdk is not available, but is referred to by another package.\n",
      "This may mean that the package is missing, has been obsoleted, or\n",
      "is only available from another source\n",
      "\n",
      "E: Package 'openjdk-7-jdk' has no installation candidate\n",
      "Reading package lists... Done\n",
      "Building dependency tree       \n",
      "Reading state information... Done\n",
      "python-dev is already the newest version (2.7.15~rc1-1).\n",
      "0 upgraded, 0 newly installed, 0 to remove and 81 not upgraded.\n",
      "Requirement already satisfied: konlpy in /usr/local/lib/python3.7/dist-packages (0.5.2)\n",
      "Requirement already satisfied: tweepy>=3.7.0 in /usr/local/lib/python3.7/dist-packages (from konlpy) (3.10.0)\n",
      "Requirement already satisfied: numpy>=1.6 in /usr/local/lib/python3.7/dist-packages (from konlpy) (1.19.5)\n",
      "Requirement already satisfied: lxml>=4.1.0 in /usr/local/lib/python3.7/dist-packages (from konlpy) (4.2.6)\n",
      "Requirement already satisfied: colorama in /usr/local/lib/python3.7/dist-packages (from konlpy) (0.4.4)\n",
      "Requirement already satisfied: beautifulsoup4==4.6.0 in /usr/local/lib/python3.7/dist-packages (from konlpy) (4.6.0)\n",
      "Requirement already satisfied: JPype1>=0.7.0 in /usr/local/lib/python3.7/dist-packages (from konlpy) (1.3.0)\n",
      "Requirement already satisfied: six>=1.10.0 in /usr/local/lib/python3.7/dist-packages (from tweepy>=3.7.0->konlpy) (1.15.0)\n",
      "Requirement already satisfied: requests[socks]>=2.11.1 in /usr/local/lib/python3.7/dist-packages (from tweepy>=3.7.0->konlpy) (2.23.0)\n",
      "Requirement already satisfied: requests-oauthlib>=0.7.0 in /usr/local/lib/python3.7/dist-packages (from tweepy>=3.7.0->konlpy) (1.3.0)\n",
      "Requirement already satisfied: typing-extensions; python_version < \"3.8\" in /usr/local/lib/python3.7/dist-packages (from JPype1>=0.7.0->konlpy) (3.7.4.3)\n",
      "Requirement already satisfied: urllib3!=1.25.0,!=1.25.1,<1.26,>=1.21.1 in /usr/local/lib/python3.7/dist-packages (from requests[socks]>=2.11.1->tweepy>=3.7.0->konlpy) (1.24.3)\n",
      "Requirement already satisfied: idna<3,>=2.5 in /usr/local/lib/python3.7/dist-packages (from requests[socks]>=2.11.1->tweepy>=3.7.0->konlpy) (2.10)\n",
      "Requirement already satisfied: certifi>=2017.4.17 in /usr/local/lib/python3.7/dist-packages (from requests[socks]>=2.11.1->tweepy>=3.7.0->konlpy) (2021.5.30)\n",
      "Requirement already satisfied: chardet<4,>=3.0.2 in /usr/local/lib/python3.7/dist-packages (from requests[socks]>=2.11.1->tweepy>=3.7.0->konlpy) (3.0.4)\n",
      "Requirement already satisfied: PySocks!=1.5.7,>=1.5.6; extra == \"socks\" in /usr/local/lib/python3.7/dist-packages (from requests[socks]>=2.11.1->tweepy>=3.7.0->konlpy) (1.7.1)\n",
      "Requirement already satisfied: oauthlib>=3.0.0 in /usr/local/lib/python3.7/dist-packages (from requests-oauthlib>=0.7.0->tweepy>=3.7.0->konlpy) (3.1.1)\n",
      "Reading package lists... Done\n",
      "Building dependency tree       \n",
      "Reading state information... Done\n",
      "python3-dev is already the newest version (3.6.7-1~18.04).\n",
      "0 upgraded, 0 newly installed, 0 to remove and 81 not upgraded.\n",
      "Requirement already satisfied: konlpy in /usr/local/lib/python3.7/dist-packages (0.5.2)\n",
      "Requirement already satisfied: beautifulsoup4==4.6.0 in /usr/local/lib/python3.7/dist-packages (from konlpy) (4.6.0)\n",
      "Requirement already satisfied: lxml>=4.1.0 in /usr/local/lib/python3.7/dist-packages (from konlpy) (4.2.6)\n",
      "Requirement already satisfied: numpy>=1.6 in /usr/local/lib/python3.7/dist-packages (from konlpy) (1.19.5)\n",
      "Requirement already satisfied: JPype1>=0.7.0 in /usr/local/lib/python3.7/dist-packages (from konlpy) (1.3.0)\n",
      "Requirement already satisfied: colorama in /usr/local/lib/python3.7/dist-packages (from konlpy) (0.4.4)\n",
      "Requirement already satisfied: tweepy>=3.7.0 in /usr/local/lib/python3.7/dist-packages (from konlpy) (3.10.0)\n",
      "Requirement already satisfied: typing-extensions; python_version < \"3.8\" in /usr/local/lib/python3.7/dist-packages (from JPype1>=0.7.0->konlpy) (3.7.4.3)\n",
      "Requirement already satisfied: six>=1.10.0 in /usr/local/lib/python3.7/dist-packages (from tweepy>=3.7.0->konlpy) (1.15.0)\n",
      "Requirement already satisfied: requests[socks]>=2.11.1 in /usr/local/lib/python3.7/dist-packages (from tweepy>=3.7.0->konlpy) (2.23.0)\n",
      "Requirement already satisfied: requests-oauthlib>=0.7.0 in /usr/local/lib/python3.7/dist-packages (from tweepy>=3.7.0->konlpy) (1.3.0)\n",
      "Requirement already satisfied: certifi>=2017.4.17 in /usr/local/lib/python3.7/dist-packages (from requests[socks]>=2.11.1->tweepy>=3.7.0->konlpy) (2021.5.30)\n",
      "Requirement already satisfied: chardet<4,>=3.0.2 in /usr/local/lib/python3.7/dist-packages (from requests[socks]>=2.11.1->tweepy>=3.7.0->konlpy) (3.0.4)\n",
      "Requirement already satisfied: urllib3!=1.25.0,!=1.25.1,<1.26,>=1.21.1 in /usr/local/lib/python3.7/dist-packages (from requests[socks]>=2.11.1->tweepy>=3.7.0->konlpy) (1.24.3)\n",
      "Requirement already satisfied: idna<3,>=2.5 in /usr/local/lib/python3.7/dist-packages (from requests[socks]>=2.11.1->tweepy>=3.7.0->konlpy) (2.10)\n",
      "Requirement already satisfied: PySocks!=1.5.7,>=1.5.6; extra == \"socks\" in /usr/local/lib/python3.7/dist-packages (from requests[socks]>=2.11.1->tweepy>=3.7.0->konlpy) (1.7.1)\n",
      "Requirement already satisfied: oauthlib>=3.0.0 in /usr/local/lib/python3.7/dist-packages (from requests-oauthlib>=0.7.0->tweepy>=3.7.0->konlpy) (3.1.1)\n",
      "Reading package lists... Done\n",
      "Building dependency tree       \n",
      "Reading state information... Done\n",
      "curl is already the newest version (7.58.0-2ubuntu3.13).\n",
      "0 upgraded, 0 newly installed, 0 to remove and 81 not upgraded.\n",
      "mecab-ko is already installed\n",
      "mecab-ko-dic is already installed\n",
      "mecab-python is already installed\n",
      "Done.\n"
     ]
    }
   ],
   "source": [
    "!sudo apt-get install g++ openjdk-7-jdk # Install Java 1.7+\n",
    "!sudo apt-get install python-dev; pip install konlpy     # Python 2.x\n",
    "!sudo apt-get install python3-dev; pip3 install konlpy   # Python 3.x\n",
    "!sudo apt-get install curl\n",
    "!bash <(curl -s https://raw.githubusercontent.com/konlpy/konlpy/master/scripts/mecab.sh)"
   ]
  },
  {
   "cell_type": "markdown",
   "metadata": {
    "id": "jxsBfWirA9ao"
   },
   "source": [
    "# TF-IDF 활용 핵심키워드 추출"
   ]
  },
  {
   "cell_type": "markdown",
   "metadata": {
    "id": "u8UYUNHDNMVp"
   },
   "source": [
    "## 실습 1. sklearn 활용\n"
   ]
  },
  {
   "cell_type": "code",
   "execution_count": 1,
   "metadata": {},
   "outputs": [
    {
     "data": {
      "text/plain": [
       "5"
      ]
     },
     "execution_count": 1,
     "metadata": {},
     "output_type": "execute_result"
    }
   ],
   "source": [
    "# 기사 크롤링\n",
    "import requests \n",
    "from bs4 import BeautifulSoup\n",
    "import re\n",
    "\n",
    "def get_news_by_url(url):\n",
    "    headers={\"user-agent\":\"Mozilla/5.0\"}\n",
    "    res = requests.get(url, headers=headers)\n",
    "    soup = BeautifulSoup(res.content, \"html.parser\")\n",
    "    content = soup.select_one(\"#articleBodyContents\").get_text().replace(\"\\n\", \"\")\n",
    "    content = content.replace(\"// flash 오류를 우회하기 위한 함수 추가function _flash_removeCallback() {}\", \"\")\n",
    "  \n",
    "    start_pos = re.search(r\"\\w+@\\w+\\.\\w+(.\\w+)?\", content).start() #뒤에 이메일 형식\n",
    "    content = content[:start_pos-1]\n",
    "    return content\n",
    "\n",
    "    \n",
    "    \n",
    "    \n",
    "docs = []\n",
    "docs.append( get_news_by_url('https://news.naver.com/main/read.nhn?mode=LSD&mid=sec&sid1=105&oid=018&aid=0004430108') )\n",
    "docs.append( get_news_by_url('https://news.naver.com/main/read.nhn?mode=LSD&mid=sec&sid1=101&oid=001&aid=0011614790') )\n",
    "docs.append( get_news_by_url('https://news.naver.com/main/read.nhn?mode=LSD&mid=sec&sid1=102&oid=014&aid=0004424362') )\n",
    "docs.append( get_news_by_url('https://news.naver.com/main/read.nhn?mode=LSD&mid=sec&sid1=101&oid=119&aid=0002402191') )\n",
    "docs.append( get_news_by_url('https://news.naver.com/main/read.nhn?mode=LSD&mid=sec&sid1=101&oid=030&aid=0002882728') )\n",
    "len(docs)"
   ]
  },
  {
   "cell_type": "markdown",
   "metadata": {},
   "source": [
    "## 1) 전처리"
   ]
  },
  {
   "cell_type": "code",
   "execution_count": 2,
   "metadata": {},
   "outputs": [
    {
     "data": {
      "text/plain": [
       "'과기 정통부 장관 참석 기념행사 투입 여종 데이터 구축 민간 외부 연계 체계 개방 강화 기자 국가 차원 빅 데이터 활용 시대 산업 창출 기존 산업 변화 이르 혁신 장 센터 문 분야'"
      ]
     },
     "execution_count": 2,
     "metadata": {},
     "output_type": "execute_result"
    }
   ],
   "source": [
    "from konlpy.tag import Mecab\n",
    "mecab = Mecab()\n",
    "preprocessed_docs = []\n",
    "\n",
    "for doc in docs:\n",
    "    token_list = []\n",
    "    for token in mecab.pos(doc):\n",
    "        if token[1] in ['NNG', 'VV']:\n",
    "            token_list.append(token[0])\n",
    "    preprocessed_docs.append(\" \".join(token_list))\n",
    "            \n",
    "preprocessed_docs[0][:100]"
   ]
  },
  {
   "cell_type": "markdown",
   "metadata": {
    "id": "JqZ9ONgLpOzv"
   },
   "source": [
    "### 2) TF-IDF 계산"
   ]
  },
  {
   "cell_type": "code",
   "execution_count": 3,
   "metadata": {},
   "outputs": [
    {
     "name": "stdout",
     "output_type": "stream",
     "text": [
      "['가공', '가능', '가입자', '가족', '가중치', '가치', '각종', '감소', '감염', '강국']\n"
     ]
    }
   ],
   "source": [
    "from sklearn.feature_extraction.text import CountVectorizer\n",
    "\n",
    "# max_features => vocabulary 개수\n",
    "count_vect = CountVectorizer(max_df = 0.85, max_features = 10000)\n",
    "word_count = count_vect.fit_transform(preprocessed_docs) # 훈련(fit) 시키고 적용(transform)\n",
    "print((count_vect.get_feature_names()[:10]))"
   ]
  },
  {
   "cell_type": "code",
   "execution_count": 4,
   "metadata": {
    "colab": {
     "base_uri": "https://localhost:8080/"
    },
    "id": "em3l3IS5kRP-",
    "outputId": "db8a26df-5383-46af-afa1-8ff4774eb429"
   },
   "outputs": [
    {
     "data": {
      "text/plain": [
       "TfidfTransformer()"
      ]
     },
     "execution_count": 4,
     "metadata": {},
     "output_type": "execute_result"
    }
   ],
   "source": [
    "from sklearn.feature_extraction.text import TfidfTransformer\n",
    "\n",
    "tfidf_transformer = TfidfTransformer(smooth_idf=True, use_idf=True)\n",
    "tfidf_transformer.fit(word_count) # 훈련 "
   ]
  },
  {
   "cell_type": "markdown",
   "metadata": {
    "id": "an6Cngd2Cwjg"
   },
   "source": [
    "### 3) 핵심키워드 추출"
   ]
  },
  {
   "cell_type": "code",
   "execution_count": 5,
   "metadata": {
    "id": "yKrcZ9rh-5Rt"
   },
   "outputs": [],
   "source": [
    "def sort_keywords(keywords):\n",
    "    return sorted(zip(keywords.col, keywords.data), key=lambda x : (x[1], x[0]), reverse=True)\n",
    " \n",
    "def extract_keywords(feature_names, sorted_keywords, n=5):\n",
    "    return [(feature_names[idx], score) for idx, score in sorted_keywords][:n]"
   ]
  },
  {
   "cell_type": "code",
   "execution_count": 6,
   "metadata": {
    "colab": {
     "base_uri": "https://localhost:8080/"
    },
    "id": "u_8wXmex-1gr",
    "outputId": "b5cd45e3-4c95-4eb4-c299-a8922563176d"
   },
   "outputs": [
    {
     "name": "stdout",
     "output_type": "stream",
     "text": [
      "\n",
      "===== 원문 =====\n",
      "과기정통부, 22일 유영민 장관 등 참석해 기념행사2021년까지 1516억원 투입, 5100여종 데이터 구축민간 클라우드 통한 외부연계체계도..\"개방성 강화\"[이데일리 이재운 기자\n",
      "\n",
      "=== 핵심키워드 ===\n",
      "('플랫', 0.25926762688545546)\n",
      "('센터', 0.22953363480835778)\n",
      "('계획', 0.22222939447324755)\n",
      "('활용', 0.18780024666138362)\n",
      "('정통부', 0.18519116206103964)\n"
     ]
    }
   ],
   "source": [
    "doc = preprocessed_docs[0] # 핵심키워드 추출할 문서 조회\n",
    "\n",
    "feature_names =  count_vect.get_feature_names()\n",
    "tfidf_vect = tfidf_transformer.transform(count_vect.transform([doc]))\n",
    "sorted_keywords = sort_keywords(tfidf_vect.tocoo())\n",
    " \n",
    "# # 사용자가 지정한 갯수만큼 키워드 추출\n",
    "keywords = extract_keywords(feature_names, sorted_keywords, 5)\n",
    " \n",
    "print(\"\\n===== 원문 =====\")\n",
    "print(docs[0][:100])\n",
    "print(\"\\n=== 핵심키워드 ===\")\n",
    "for k in keywords:\n",
    "    print(k)"
   ]
  },
  {
   "cell_type": "code",
   "execution_count": 7,
   "metadata": {
    "colab": {
     "base_uri": "https://localhost:8080/"
    },
    "id": "kUVTXBYrZMiU",
    "outputId": "e7ed19ff-90c9-40f4-ad15-446e1096b41e"
   },
   "outputs": [
    {
     "data": {
      "text/plain": [
       "array([[0.        , 0.02086669, 0.        , 0.        , 0.        ,\n",
       "        0.        , 0.        , 0.02988221, 0.        , 0.03703823,\n",
       "        0.        , 0.03703823, 0.03703823, 0.        , 0.08964664,\n",
       "        0.03703823, 0.        , 0.        , 0.02988221, 0.        ,\n",
       "        0.        , 0.03703823, 0.        , 0.        , 0.02480494,\n",
       "        0.07407646, 0.11952885, 0.        , 0.03703823, 0.22222939,\n",
       "        0.03703823, 0.04173339, 0.03703823, 0.07407646, 0.03703823,\n",
       "        0.02988221, 0.03703823, 0.18519116, 0.05976443, 0.        ,\n",
       "        0.        , 0.03703823, 0.        , 0.07407646, 0.        ,\n",
       "        0.07407646, 0.03703823, 0.17929328, 0.03703823, 0.02988221,\n",
       "        0.        , 0.03703823, 0.02988221, 0.        , 0.03703823,\n",
       "        0.08964664, 0.        , 0.        , 0.02480494, 0.03703823,\n",
       "        0.        , 0.05976443, 0.04960987, 0.        , 0.14941106,\n",
       "        0.        , 0.        , 0.03703823, 0.05976443, 0.        ,\n",
       "        0.        , 0.03703823, 0.        , 0.03703823, 0.        ,\n",
       "        0.02988221, 0.03703823, 0.03703823, 0.        , 0.        ,\n",
       "        0.03703823, 0.03703823, 0.        , 0.03703823, 0.        ,\n",
       "        0.        , 0.07407646, 0.07407646, 0.03703823, 0.        ,\n",
       "        0.        , 0.03703823, 0.        , 0.        , 0.        ,\n",
       "        0.02480494, 0.        , 0.        , 0.11952885, 0.        ,\n",
       "        0.03703823, 0.03703823, 0.03703823, 0.03703823, 0.        ,\n",
       "        0.03703823, 0.        , 0.03703823, 0.07407646, 0.03703823,\n",
       "        0.14815293, 0.        , 0.        , 0.09921974, 0.        ,\n",
       "        0.03703823, 0.        , 0.        , 0.02988221, 0.        ,\n",
       "        0.        , 0.07407646, 0.14815293, 0.        , 0.        ,\n",
       "        0.        , 0.02988221, 0.        , 0.03703823, 0.03703823,\n",
       "        0.        , 0.        , 0.03703823, 0.        , 0.08964664,\n",
       "        0.14941106, 0.        , 0.        , 0.        , 0.03703823,\n",
       "        0.        , 0.        , 0.03703823, 0.        , 0.04960987,\n",
       "        0.        , 0.03703823, 0.03703823, 0.        , 0.        ,\n",
       "        0.07407646, 0.07441481, 0.07407646, 0.        , 0.        ,\n",
       "        0.        , 0.        , 0.        , 0.        , 0.        ,\n",
       "        0.14815293, 0.02988221, 0.05976443, 0.03703823, 0.        ,\n",
       "        0.        , 0.04173339, 0.        , 0.        , 0.        ,\n",
       "        0.        , 0.07407646, 0.02988221, 0.        , 0.        ,\n",
       "        0.22953363, 0.        , 0.07407646, 0.03703823, 0.03703823,\n",
       "        0.03703823, 0.03703823, 0.03703823, 0.        , 0.05976443,\n",
       "        0.03703823, 0.        , 0.        , 0.        , 0.03703823,\n",
       "        0.        , 0.        , 0.08964664, 0.        , 0.07407646,\n",
       "        0.02988221, 0.        , 0.        , 0.03703823, 0.        ,\n",
       "        0.        , 0.        , 0.        , 0.07407646, 0.1111147 ,\n",
       "        0.        , 0.        , 0.        , 0.        , 0.14815293,\n",
       "        0.03703823, 0.07407646, 0.03703823, 0.1111147 , 0.02988221,\n",
       "        0.        , 0.03703823, 0.        , 0.        , 0.03703823,\n",
       "        0.        , 0.03703823, 0.07407646, 0.03703823, 0.        ,\n",
       "        0.        , 0.05976443, 0.03703823, 0.03703823, 0.05976443,\n",
       "        0.        , 0.03703823, 0.        , 0.03703823, 0.03703823,\n",
       "        0.        , 0.        , 0.08964664, 0.        , 0.03703823,\n",
       "        0.02480494, 0.03703823, 0.        , 0.        , 0.        ,\n",
       "        0.03703823, 0.03703823, 0.03703823, 0.        , 0.        ,\n",
       "        0.        , 0.02988221, 0.        , 0.        , 0.        ,\n",
       "        0.        , 0.03703823, 0.        , 0.        , 0.03703823,\n",
       "        0.        , 0.        , 0.        , 0.1111147 , 0.        ,\n",
       "        0.02988221, 0.        , 0.        , 0.03703823, 0.        ,\n",
       "        0.03703823, 0.        , 0.        , 0.        , 0.03703823,\n",
       "        0.        , 0.07407646, 0.        , 0.        , 0.        ,\n",
       "        0.08964664, 0.02988221, 0.04173339, 0.02988221, 0.18519116,\n",
       "        0.07407646, 0.12402468, 0.        , 0.03703823, 0.02988221,\n",
       "        0.        , 0.        , 0.        , 0.        , 0.07407646,\n",
       "        0.        , 0.        , 0.        , 0.        , 0.1111147 ,\n",
       "        0.        , 0.03703823, 0.        , 0.        , 0.        ,\n",
       "        0.        , 0.03703823, 0.02988221, 0.02988221, 0.        ,\n",
       "        0.        , 0.        , 0.        , 0.        , 0.03703823,\n",
       "        0.        , 0.03703823, 0.02988221, 0.        , 0.03703823,\n",
       "        0.03703823, 0.1111147 , 0.        , 0.03703823, 0.        ,\n",
       "        0.1111147 , 0.03703823, 0.03703823, 0.07407646, 0.        ,\n",
       "        0.02988221, 0.        , 0.04173339, 0.03703823, 0.        ,\n",
       "        0.07407646, 0.03703823, 0.02988221, 0.03703823, 0.        ,\n",
       "        0.        , 0.        , 0.        , 0.        , 0.        ,\n",
       "        0.1111147 , 0.03703823, 0.1111147 , 0.        , 0.03703823,\n",
       "        0.        , 0.        , 0.02988221, 0.        , 0.02988221,\n",
       "        0.03703823, 0.        , 0.        , 0.02988221, 0.03703823,\n",
       "        0.25926763, 0.03703823, 0.05976443, 0.        , 0.        ,\n",
       "        0.03703823, 0.        , 0.        , 0.        , 0.07407646,\n",
       "        0.03703823, 0.02988221, 0.03703823, 0.03703823, 0.14941106,\n",
       "        0.03703823, 0.        , 0.02988221, 0.03703823, 0.03703823,\n",
       "        0.03703823, 0.        , 0.07407646, 0.        , 0.        ,\n",
       "        0.07407646, 0.        , 0.18780025, 0.        , 0.        ,\n",
       "        0.        , 0.03703823, 0.        ]])"
      ]
     },
     "execution_count": 7,
     "metadata": {},
     "output_type": "execute_result"
    }
   ],
   "source": [
    "tfidf_vect.tocoo().toarray()"
   ]
  },
  {
   "cell_type": "markdown",
   "metadata": {
    "id": "lwQjPYuxNy4K"
   },
   "source": [
    "\n",
    "---\n"
   ]
  },
  {
   "cell_type": "markdown",
   "metadata": {
    "id": "XTNnFrNhOrA3"
   },
   "source": [
    "## 실습 2. gensim 활용\n"
   ]
  },
  {
   "cell_type": "markdown",
   "metadata": {
    "id": "aE-YzDI6OrA5"
   },
   "source": [
    "### 1) 전처리"
   ]
  },
  {
   "cell_type": "code",
   "execution_count": 8,
   "metadata": {
    "colab": {
     "base_uri": "https://localhost:8080/",
     "height": 35
    },
    "id": "edVMwQBuOrA6",
    "outputId": "e329813f-df02-4c4e-e841-df71b464979f"
   },
   "outputs": [
    {
     "data": {
      "text/plain": [
       "'과기 정통부 일 유영민 장관 등 참석 기념행사 년 억 원 투입 여종 데이터 구축 민간 클라우드 통한 외부 연계 체계 개방 강화 데일리 이재운 기자 국가 차원 빅 데이터 활용 시대 '"
      ]
     },
     "execution_count": 8,
     "metadata": {},
     "output_type": "execute_result"
    }
   ],
   "source": [
    "from konlpy.tag import Mecab\n",
    "mecab = Mecab()\n",
    "\n",
    "preprocessed_docs = []\n",
    "for doc in docs :\n",
    "  # 명사와 동사만으로 문서 전처리\n",
    "  preprocessed_docs.append(' '.join([token[0] for token in mecab.pos(doc) if token[1][0] in ['N', 'V']]))\n",
    "preprocessed_docs[0][:100]"
   ]
  },
  {
   "cell_type": "markdown",
   "metadata": {
    "id": "cWGsCRJUOrA8"
   },
   "source": [
    "### 2) TF-IDF 계산"
   ]
  },
  {
   "cell_type": "code",
   "execution_count": 9,
   "metadata": {
    "id": "NCUzeqp3OrA9"
   },
   "outputs": [
    {
     "name": "stderr",
     "output_type": "stream",
     "text": [
      "C:\\Users\\andyj\\anaconda3\\envs\\abangues\\lib\\site-packages\\gensim\\utils.py:1212: UserWarning: detected Windows; aliasing chunkize to chunkize_serial\n",
      "  warnings.warn(\"detected Windows; aliasing chunkize to chunkize_serial\")\n"
     ]
    }
   ],
   "source": [
    "from gensim.models import TfidfModel\n",
    "from gensim.corpora import Dictionary\n",
    "\n",
    "document_ls = [doc.split() for doc in preprocessed_docs]\n",
    "dct = Dictionary(document_ls) # 인덱스(key) - 단어(value) 인 딕셔너리 생성\n",
    "corpus = [dct.doc2bow(doc) for doc in document_ls] # 각 문서에 포함된 단어를 인덱스로 변환하여 corpus 생성\n",
    "tfidf = TfidfModel(corpus) # TF-IDF 산출"
   ]
  },
  {
   "cell_type": "markdown",
   "metadata": {
    "id": "wBT2h57bOrBF"
   },
   "source": [
    "### 3) 핵심키워드 추출"
   ]
  },
  {
   "cell_type": "code",
   "execution_count": 10,
   "metadata": {
    "id": "Xk0Tbo21RddA"
   },
   "outputs": [],
   "source": [
    "def sort_keywords(tfidf):\n",
    "    return sorted(tfidf, key=lambda x: (x[1], x[0]), reverse=True)\n",
    "\n",
    "def extract_keywords(feature_names, sorted_keywords, n=5):\n",
    "    return [(feature_names[idx], score) for idx, score in sorted_keywords[:n]]"
   ]
  },
  {
   "cell_type": "code",
   "execution_count": 11,
   "metadata": {
    "colab": {
     "base_uri": "https://localhost:8080/"
    },
    "id": "_8T0QSKVRfUt",
    "outputId": "ff60f197-d8a0-451f-91a4-70923c275575"
   },
   "outputs": [
    {
     "name": "stdout",
     "output_type": "stream",
     "text": [
      "\n",
      "=== 핵심키워드 ===\n",
      "('플랫', 0.2495222182663338)\n",
      "('폼', 0.2495222182663338)\n",
      "('계획', 0.21387618708542896)\n",
      "('정통부', 0.17823015590452412)\n",
      "('위한', 0.17823015590452412)\n"
     ]
    }
   ],
   "source": [
    "doc = corpus[0]\n",
    "\n",
    "sorted_keywords = sort_keywords(tfidf[doc]) # TF-IDF를 기준으로 역순 정렬\n",
    "\n",
    "# 사용자가 지정한 갯수만큼 키워드 추출\n",
    "keywords = extract_keywords(dct, sorted_keywords, 5)\n",
    "\n",
    "print(\"\\n=== 핵심키워드 ===\")\n",
    "for k in keywords:\n",
    "    print(k)"
   ]
  },
  {
   "cell_type": "code",
   "execution_count": 12,
   "metadata": {
    "colab": {
     "base_uri": "https://localhost:8080/"
    },
    "id": "8gBGnkhCZSlw",
    "outputId": "66814b20-b290-4061-975c-951dcc0b9153"
   },
   "outputs": [
    {
     "data": {
      "text/plain": [
       "[(0, 0.020294121162935892),\n",
       " (1, 0.020294121162935892),\n",
       " (2, 0.004942211144966953),\n",
       " (3, 0.040588242325871784),\n",
       " (4, 0.020294121162935892),\n",
       " (5, 0.03564603118090483),\n",
       " (6, 0.03564603118090483),\n",
       " (7, 0.03564603118090483),\n",
       " (8, 0.07919680641585028),\n",
       " (9, 0.06088236348880767),\n",
       " (10, 0.03564603118090483),\n",
       " (11, 0.040588242325871784),\n",
       " (12, 0.020294121162935892),\n",
       " (13, 0.03564603118090483),\n",
       " (14, 0.020294121162935892),\n",
       " (15, 0.03564603118090483),\n",
       " (16, 0.020294121162935892),\n",
       " (17, 0.011313829487978612),\n",
       " (18, 0.07129206236180965),\n",
       " (19, 0.08117648465174357),\n",
       " (20, 0.03564603118090483),\n",
       " (21, 0.21387618708542896),\n",
       " (22, 0.03564603118090483),\n",
       " (23, 0.009884422289933905),\n",
       " (24, 0.03564603118090483),\n",
       " (25, 0.07129206236180965),\n",
       " (26, 0.03564603118090483),\n",
       " (27, 0.020294121162935892),\n",
       " (28, 0.03564603118090483),\n",
       " (29, 0.17823015590452412),\n",
       " (30, 0.040588242325871784),\n",
       " (31, 0.03564603118090483),\n",
       " (32, 0.07129206236180965),\n",
       " (33, 0.07129206236180965),\n",
       " (34, 0.03564603118090483),\n",
       " (35, 0.12176472697761534),\n",
       " (36, 0.03564603118090483),\n",
       " (37, 0.03564603118090483),\n",
       " (38, 0.020294121162935892),\n",
       " (39, 0.03564603118090483),\n",
       " (40, 0.03564603118090483),\n",
       " (41, 0.020294121162935892),\n",
       " (42, 0.03564603118090483),\n",
       " (43, 0.06088236348880767),\n",
       " (44, 0.011313829487978612),\n",
       " (45, 0.03564603118090483),\n",
       " (46, 0.040588242325871784),\n",
       " (47, 0.022627658975957223),\n",
       " (48, 0.10147060581467947),\n",
       " (50, 0.03564603118090483),\n",
       " (51, 0.040588242325871784),\n",
       " (52, 0.03564603118090483),\n",
       " (53, 0.03564603118090483),\n",
       " (54, 0.03564603118090483),\n",
       " (55, 0.10147060581467947),\n",
       " (56, 0.03564603118090483),\n",
       " (57, 0.020294121162935892),\n",
       " (58, 0.040588242325871784),\n",
       " (59, 0.03564603118090483),\n",
       " (60, 0.03564603118090483),\n",
       " (61, 0.03564603118090483),\n",
       " (62, 0.03564603118090483),\n",
       " (63, 0.020294121162935892),\n",
       " (64, 0.03564603118090483),\n",
       " (65, 0.03564603118090483),\n",
       " (66, 0.03564603118090483),\n",
       " (67, 0.03564603118090483),\n",
       " (68, 0.03564603118090483),\n",
       " (69, 0.03564603118090483),\n",
       " (70, 0.07129206236180965),\n",
       " (71, 0.07129206236180965),\n",
       " (72, 0.03564603118090483),\n",
       " (73, 0.10693809354271448),\n",
       " (74, 0.03564603118090483),\n",
       " (75, 0.06088236348880767),\n",
       " (77, 0.03564603118090483),\n",
       " (78, 0.03564603118090483),\n",
       " (79, 0.03564603118090483),\n",
       " (80, 0.020294121162935892),\n",
       " (82, 0.011313829487978612),\n",
       " (83, 0.011313829487978612),\n",
       " (84, 0.03564603118090483),\n",
       " (85, 0.08117648465174357),\n",
       " (86, 0.011313829487978612),\n",
       " (87, 0.03564603118090483),\n",
       " (88, 0.03564603118090483),\n",
       " (89, 0.03564603118090483),\n",
       " (90, 0.03564603118090483),\n",
       " (91, 0.03564603118090483),\n",
       " (92, 0.03564603118090483),\n",
       " (93, 0.03564603118090483),\n",
       " (94, 0.03564603118090483),\n",
       " (95, 0.03564603118090483),\n",
       " (96, 0.03564603118090483),\n",
       " (97, 0.07129206236180965),\n",
       " (98, 0.03564603118090483),\n",
       " (99, 0.1425841247236193),\n",
       " (100, 0.045255317951914446),\n",
       " (101, 0.03564603118090483),\n",
       " (102, 0.03564603118090483),\n",
       " (103, 0.020294121162935892),\n",
       " (104, 0.011313829487978612),\n",
       " (105, 0.07129206236180965),\n",
       " (106, 0.1425841247236193),\n",
       " (107, 0.03564603118090483),\n",
       " (108, 0.020294121162935892),\n",
       " (109, 0.03564603118090483),\n",
       " (110, 0.03564603118090483),\n",
       " (111, 0.03564603118090483),\n",
       " (112, 0.03564603118090483),\n",
       " (113, 0.03564603118090483),\n",
       " (114, 0.06088236348880767),\n",
       " (115, 0.10147060581467947),\n",
       " (116, 0.03564603118090483),\n",
       " (117, 0.03459547801476867),\n",
       " (118, 0.03564603118090483),\n",
       " (119, 0.022627658975957223),\n",
       " (120, 0.03564603118090483),\n",
       " (121, 0.03564603118090483),\n",
       " (122, 0.07129206236180965),\n",
       " (123, 0.03394148846393584),\n",
       " (124, 0.07129206236180965),\n",
       " (125, 0.020294121162935892),\n",
       " (126, 0.1425841247236193),\n",
       " (127, 0.020294121162935892),\n",
       " (128, 0.040588242325871784),\n",
       " (129, 0.03564603118090483),\n",
       " (130, 0.020294121162935892),\n",
       " (131, 0.009884422289933905),\n",
       " (132, 0.07129206236180965),\n",
       " (133, 0.020294121162935892),\n",
       " (134, 0.05436432259463648),\n",
       " (135, 0.03564603118090483),\n",
       " (136, 0.07129206236180965),\n",
       " (137, 0.03564603118090483),\n",
       " (138, 0.03564603118090483),\n",
       " (139, 0.03564603118090483),\n",
       " (140, 0.014826633434900857),\n",
       " (141, 0.03564603118090483),\n",
       " (142, 0.03564603118090483),\n",
       " (143, 0.03564603118090483),\n",
       " (144, 0.040588242325871784),\n",
       " (145, 0.03564603118090483),\n",
       " (146, 0.03564603118090483),\n",
       " (147, 0.03564603118090483),\n",
       " (148, 0.03564603118090483),\n",
       " (149, 0.06088236348880767),\n",
       " (150, 0.020294121162935892),\n",
       " (151, 0.07129206236180965),\n",
       " (152, 0.020294121162935892),\n",
       " (153, 0.03564603118090483),\n",
       " (154, 0.07129206236180965),\n",
       " (155, 0.03564603118090483),\n",
       " (156, 0.10693809354271448),\n",
       " (157, 0.1425841247236193),\n",
       " (158, 0.03564603118090483),\n",
       " (159, 0.1425841247236193),\n",
       " (160, 0.03564603118090483),\n",
       " (161, 0.07129206236180965),\n",
       " (162, 0.03564603118090483),\n",
       " (163, 0.10693809354271448),\n",
       " (164, 0.020294121162935892),\n",
       " (165, 0.03564603118090483),\n",
       " (166, 0.03564603118090483),\n",
       " (167, 0.03564603118090483),\n",
       " (168, 0.03564603118090483),\n",
       " (169, 0.03564603118090483),\n",
       " (170, 0.03564603118090483),\n",
       " (171, 0.03564603118090483),\n",
       " (172, 0.07129206236180965),\n",
       " (173, 0.03564603118090483),\n",
       " (174, 0.040588242325871784),\n",
       " (175, 0.03564603118090483),\n",
       " (176, 0.03564603118090483),\n",
       " (177, 0.040588242325871784),\n",
       " (178, 0.05656914743989306),\n",
       " (179, 0.03564603118090483),\n",
       " (180, 0.03564603118090483),\n",
       " (181, 0.03564603118090483),\n",
       " (182, 0.17823015590452412),\n",
       " (183, 0.022627658975957223),\n",
       " (184, 0.10693809354271448),\n",
       " (185, 0.06088236348880767),\n",
       " (186, 0.03564603118090483),\n",
       " (187, 0.011313829487978612),\n",
       " (188, 0.03564603118090483),\n",
       " (189, 0.12445212436776472),\n",
       " (190, 0.03564603118090483),\n",
       " (191, 0.03564603118090483),\n",
       " (192, 0.03564603118090483),\n",
       " (193, 0.03564603118090483),\n",
       " (194, 0.020294121162935892),\n",
       " (195, 0.03564603118090483),\n",
       " (196, 0.07129206236180965),\n",
       " (197, 0.022627658975957223),\n",
       " (198, 0.03564603118090483),\n",
       " (200, 0.03564603118090483),\n",
       " (202, 0.03564603118090483),\n",
       " (203, 0.03564603118090483),\n",
       " (204, 0.07129206236180965),\n",
       " (205, 0.10693809354271448),\n",
       " (206, 0.020294121162935892),\n",
       " (207, 0.03564603118090483),\n",
       " (208, 0.03564603118090483),\n",
       " (209, 0.03564603118090483),\n",
       " (210, 0.07129206236180965),\n",
       " (211, 0.06088236348880767),\n",
       " (212, 0.020294121162935892),\n",
       " (213, 0.009884422289933905),\n",
       " (214, 0.020294121162935892),\n",
       " (215, 0.17823015590452412),\n",
       " (216, 0.07129206236180965),\n",
       " (217, 0.05656914743989306),\n",
       " (218, 0.03564603118090483),\n",
       " (219, 0.03564603118090483),\n",
       " (220, 0.020294121162935892),\n",
       " (221, 0.03564603118090483),\n",
       " (222, 0.07129206236180965),\n",
       " (223, 0.040588242325871784),\n",
       " (224, 0.020294121162935892),\n",
       " (225, 0.10693809354271448),\n",
       " (226, 0.03564603118090483),\n",
       " (227, 0.03564603118090483),\n",
       " (228, 0.020294121162935892),\n",
       " (229, 0.020294121162935892),\n",
       " (230, 0.03564603118090483),\n",
       " (231, 0.022627658975957223),\n",
       " (232, 0.03564603118090483),\n",
       " (233, 0.020294121162935892),\n",
       " (234, 0.03564603118090483),\n",
       " (235, 0.03564603118090483),\n",
       " (236, 0.10693809354271448),\n",
       " (237, 0.03564603118090483),\n",
       " (238, 0.03564603118090483),\n",
       " (239, 0.10693809354271448),\n",
       " (240, 0.03564603118090483),\n",
       " (241, 0.03564603118090483),\n",
       " (242, 0.07129206236180965),\n",
       " (243, 0.020294121162935892),\n",
       " (244, 0.009884422289933905),\n",
       " (245, 0.03564603118090483),\n",
       " (246, 0.07129206236180965),\n",
       " (247, 0.03564603118090483),\n",
       " (248, 0.020294121162935892),\n",
       " (249, 0.03564603118090483),\n",
       " (250, 0.07129206236180965),\n",
       " (251, 0.10693809354271448),\n",
       " (252, 0.03564603118090483),\n",
       " (253, 0.07129206236180965),\n",
       " (254, 0.12176472697761534),\n",
       " (255, 0.10693809354271448),\n",
       " (256, 0.03564603118090483),\n",
       " (257, 0.020294121162935892),\n",
       " (258, 0.020294121162935892),\n",
       " (259, 0.03564603118090483),\n",
       " (260, 0.2495222182663338),\n",
       " (261, 0.020294121162935892),\n",
       " (262, 0.03564603118090483),\n",
       " (263, 0.2495222182663338),\n",
       " (264, 0.03564603118090483),\n",
       " (265, 0.03564603118090483),\n",
       " (266, 0.040588242325871784),\n",
       " (267, 0.03564603118090483),\n",
       " (268, 0.03564603118090483),\n",
       " (269, 0.03564603118090483),\n",
       " (270, 0.03564603118090483),\n",
       " (271, 0.08117648465174357),\n",
       " (272, 0.07129206236180965),\n",
       " (273, 0.03564603118090483),\n",
       " (274, 0.03564603118090483),\n",
       " (275, 0.020294121162935892),\n",
       " (276, 0.03564603118090483),\n",
       " (277, 0.03564603118090483),\n",
       " (278, 0.03564603118090483),\n",
       " (279, 0.10147060581467947),\n",
       " (280, 0.03564603118090483),\n",
       " (281, 0.020294121162935892),\n",
       " (282, 0.03564603118090483),\n",
       " (283, 0.03564603118090483),\n",
       " (284, 0.03564603118090483),\n",
       " (285, 0.07129206236180965),\n",
       " (286, 0.07129206236180965),\n",
       " (287, 0.04447990030470257),\n",
       " (288, 0.03564603118090483),\n",
       " (289, 0.03564603118090483)]"
      ]
     },
     "execution_count": 12,
     "metadata": {},
     "output_type": "execute_result"
    }
   ],
   "source": [
    "tfidf[doc]"
   ]
  },
  {
   "cell_type": "markdown",
   "metadata": {
    "id": "hZpm1wtTqxL-"
   },
   "source": [
    "\n",
    "\n",
    "---\n",
    "\n"
   ]
  },
  {
   "cell_type": "markdown",
   "metadata": {
    "id": "mfekkYshBAVS"
   },
   "source": [
    "# Textrank\n",
    "https://web.eecs.umich.edu/~mihalcea/papers/mihalcea.emnlp04.pdf"
   ]
  },
  {
   "cell_type": "markdown",
   "metadata": {
    "id": "bn58myMFF-nN"
   },
   "source": [
    "<img src=\"https://3.bp.blogspot.com/-yp0Lr3ec5EY/XIs6znCcO_I/AAAAAAAAAPY/xtZxe_OYtH0xeuWsp4Qd4DQrunGMpVQmQCLcBGAs/s640/keyword-extraction-textrank.png\" />"
   ]
  },
  {
   "cell_type": "markdown",
   "metadata": {
    "id": "kxZBz6vLlyga"
   },
   "source": [
    "## 실습 1. 행렬 활용 \n"
   ]
  },
  {
   "cell_type": "code",
   "execution_count": 13,
   "metadata": {
    "colab": {
     "base_uri": "https://localhost:8080/"
    },
    "id": "X-WdT3gz3FMc",
    "outputId": "7b7d8d34-5990-42b3-9600-1725f7356bb6"
   },
   "outputs": [
    {
     "data": {
      "text/plain": [
       "{'바나나': 0, '사과': 1, '파인애플': 2, '딸기': 3}"
      ]
     },
     "execution_count": 13,
     "metadata": {},
     "output_type": "execute_result"
    }
   ],
   "source": [
    "tokens = ['딸기', '바나나', '사과', '딸기', '파인애플'] # 문서 토큰화\n",
    "nodes = ['바나나', '사과', '파인애플', '딸기'] # unique한 토큰\n",
    "vocab = nodes # 문서에서 분석할 타겟 토큰\n",
    "\n",
    "# [vocab2idx[token] for token in vocab]\n",
    "# vocab2idx\n",
    "vocab2idx = {vocab[i]:i for i in range(0, len(vocab))} #vocab을 인덱스로 변환\n",
    "idx2vocab = {i:vocab[i] for i in range(0, len(vocab))} #인덱스를 vocab으로 변환\n",
    "vocab2idx"
   ]
  },
  {
   "cell_type": "markdown",
   "metadata": {
    "id": "P9Tvibn1lyg3"
   },
   "source": [
    "### 그래프 생성 (weighted edge 계산)\n",
    "\n",
    "*   TextRank는 그래프 기반 모델\n",
    "*   각 단어(토큰)은 그래프의 노드(vertex) \n",
    "*   weighted_edge 행렬은 노드간 가중치 정보를 담고 있음\n",
    "*   weighted_edge[i][j] 는 i번째 단어와 j번째 단어의 가중치를 의미\n",
    "*   weighted_edge[i][j] 가 0인 경우는 노드간 연결이 없음을 의미\n",
    "*   모든 노드는 1로 초기화"
   ]
  },
  {
   "cell_type": "code",
   "execution_count": 14,
   "metadata": {
    "colab": {
     "base_uri": "https://localhost:8080/"
    },
    "id": "nP8PJUnMlyg3",
    "outputId": "66629252-0223-4dcf-9eef-b27a1c26da9c"
   },
   "outputs": [
    {
     "name": "stdout",
     "output_type": "stream",
     "text": [
      "0 : 2.0\n",
      "1 : 2.0\n",
      "2 : 1.0\n",
      "3 : 3.0\n",
      "[[0.         0.5        0.         0.5       ]\n",
      " [0.5        0.         0.         0.5       ]\n",
      " [0.         0.         0.         1.        ]\n",
      " [0.33333334 0.33333334 0.33333334 0.        ]]\n"
     ]
    }
   ],
   "source": [
    "import numpy as np\n",
    "import math\n",
    "vocab_len = len(vocab)\n",
    "# 행렬로 계산하기\n",
    "# 토큰별로 그래프 edge를 Matrix 형태로 생성\n",
    "weighted_edge = np.zeros((vocab_len,vocab_len),dtype=np.float32)\n",
    "\n",
    "# 각 토큰 노드별로 스코어 1로 초기화\n",
    "score = np.ones((vocab_len),dtype=np.float32)\n",
    "\n",
    "# coocurrence를 판단하기 위한 window 사이즈 설정\n",
    "window_size = 2 # hyperparameter => 묶는 단어의 개수\n",
    "covered_cooccurence = [] #노드 사이의 윈도우 중복으로 계산하지 않기 위해서 계산한 윈도우를 리스트에 저장 (for efficiency) \n",
    "\n",
    "# tokens = ['딸기', '바나나', '사과', '딸기', '파인애플']\n",
    "for window_start in range(0, (len(tokens) - window_size + 1)): # 마지막 딸기,파인애플까지 가기 위해\n",
    "    window = tokens[window_start: window_start + window_size] # 첫 번째 윈도우 = tokens[0:2]\n",
    "    \n",
    "    for i in range(window_size):\n",
    "        for j in range(i+1, window_size):\n",
    "            if(window[i] in vocab, window[j] in vocab):\n",
    "                index_i = i + window_start\n",
    "                index_j = j + window_start\n",
    "                \n",
    "                if [index_i, index_j] not in covered_cooccurence:\n",
    "                    # 사과랑 딸기가 연결되어있으면 딸기랑 사과도 연결\n",
    "                    weighted_edge[vocab2idx[window[i]]][vocab2idx[window[j]]] = 1\n",
    "                    weighted_edge[vocab2idx[window[j]]][vocab2idx[window[i]]] = 1\n",
    "                    covered_cooccurence.append((index_i, index_j))\n",
    "\n",
    "for i in range(vocab_len):\n",
    "    row_sum = weighted_edge[i].sum()\n",
    "    print(f\"{i} : {row_sum}\")\n",
    "    weighted_edge[i] = weighted_edge[i]/row_sum if row_sum > 0 else 0\n",
    "    # row_sum이 0인 경우에 에러 나오기 때문. 다른 단어와 아무 관계 없을 때.\n",
    "\n",
    "print(weighted_edge)"
   ]
  },
  {
   "cell_type": "markdown",
   "metadata": {
    "id": "loXJ9c7jlyg8"
   },
   "source": [
    "### 각 노드의 score계산\n",
    "각 노드와 연결된 weighted edge의 값을 합산"
   ]
  },
  {
   "cell_type": "code",
   "execution_count": 15,
   "metadata": {
    "id": "R9IOS9Oolyg8"
   },
   "outputs": [
    {
     "name": "stdout",
     "output_type": "stream",
     "text": [
      "****score****\n",
      "[0.85833335 0.798125   0.43333334 1.2223282 ]\n",
      "****score****\n",
      "[0.83552945 0.85142636 0.49632633 1.2888336 ]\n",
      "****score****\n",
      "[0.8770257 0.8879055 0.5151695 1.3379898]\n",
      "****score****\n",
      "[0.90645695 0.91434133 0.52909714 1.3735719 ]\n",
      "****score****\n",
      "[0.9277738 0.9334826 0.5391787 1.3993359]\n",
      "****score****\n",
      "[0.9432086  0.94734216 0.5464785  1.4179908 ]\n",
      "****score****\n",
      "[0.9543845 0.9573775 0.5517641 1.4314983]\n",
      "****score****\n",
      "[0.9624766 0.9646438 0.5555912 1.4412787]\n",
      "****score****\n",
      "[0.9683359 0.9699051 0.5583623 1.4483604]\n",
      "****score****\n",
      "[0.97257847 0.97371465 0.56036884 1.4534881 ]\n",
      "****score****\n",
      "[0.97565037 0.97647303 0.56182164 1.4572009 ]\n",
      "****score****\n",
      "[0.97787464 0.9784703  0.5628736  1.4598892 ]\n",
      "****score****\n",
      "[0.97948515 0.97991645 0.5636353  1.4618356 ]\n",
      "****score****\n",
      "[0.98065126 0.9809635  0.56418675 1.463245  ]\n",
      "****score****\n",
      "[0.9814956  0.98172176 0.5645861  1.4642656 ]\n",
      "****score****\n",
      "[0.98210704 0.9822708  0.56487525 1.4650046 ]\n",
      "****score****\n",
      "[0.9825497  0.9826683  0.56508464 1.4655396 ]\n",
      "****score****\n",
      "[0.9828702  0.98295605 0.5652362  1.4659269 ]\n",
      "****score****\n",
      "[0.98310226 0.9831644  0.56534594 1.4662074 ]\n",
      "****score****\n",
      "[0.9832703 0.9833153 0.5654254 1.4664104]\n",
      "****score****\n",
      "[0.98339194 0.98342454 0.565483   1.4665575 ]\n",
      "****score****\n",
      "[0.98348004 0.98350364 0.56552464 1.466664  ]\n",
      "****score****\n",
      "[0.9835439 0.9835609 0.5655548 1.4667411]\n",
      "****score****\n",
      "[0.98359007 0.98360246 0.5655767  1.466797  ]\n",
      "****score****\n",
      "[0.98362356 0.9836325  0.56559247 1.4668374 ]\n",
      "****score****\n",
      "[0.98364776 0.98365426 0.5656039  1.4668667 ]\n",
      "****final****\n",
      "[0.98364776 0.98365426 0.5656039  1.4668667 ]\n"
     ]
    }
   ],
   "source": [
    "MAX_ITERATIONS = 50\n",
    "d=0.85 #damping factor\n",
    "threshold = 0.0001 #convergence threshold\n",
    "\n",
    "# vocab의 스코어를 계산하는 과정\n",
    "for iter in range(MAX_ITERATIONS):\n",
    "    prev_score = np.copy(score)\n",
    "    \n",
    "    for i in range(vocab_len):\n",
    "        summation = 0\n",
    "        for j in range(vocab_len):\n",
    "            summation += weighted_edge[j][i] * score[j]\n",
    "# Damping Factor 적용    \n",
    "        score[i] = (1-d) + d*summation\n",
    "    print(\"****score****\")\n",
    "    print(score)\n",
    "    \n",
    "    # token들의 |pre_score - score의 차의 합|이 0.0001 이하일 때\n",
    "    # 0.0001이하 이면 미묘한 차이 이기 때문에 break\n",
    "    if np.sum(np.fabs(prev_score - score)) <= threshold: #fabs => 절대값\n",
    "        break\n",
    "\n",
    "print(\"****final****\")\n",
    "print(score)"
   ]
  },
  {
   "cell_type": "markdown",
   "metadata": {
    "id": "wia32INGlyhA"
   },
   "source": [
    "### 핵심 단어 추출"
   ]
  },
  {
   "cell_type": "code",
   "execution_count": 16,
   "metadata": {
    "colab": {
     "base_uri": "https://localhost:8080/"
    },
    "id": "DMVQR-TqlyhB",
    "outputId": "8d26cce6-2850-46ef-d8d8-4bc71aa51ba4"
   },
   "outputs": [
    {
     "name": "stdout",
     "output_type": "stream",
     "text": [
      "\n",
      "=== 핵심키워드 ===\n",
      "딸기 : 1.4668667\n",
      "사과 : 0.98365426\n",
      "바나나 : 0.98364776\n",
      "파인애플 : 0.5656039\n"
     ]
    }
   ],
   "source": [
    "# score 리스트의 인덱스를 value가 작은 순으로 정렬\n",
    "sorted_index = np.flip(np.argsort(score),0) # 행 기준으로 flip\n",
    "\n",
    "n = 4\n",
    "\n",
    "print(\"\\n=== 핵심키워드 ===\")\n",
    "for i in range(0,n):\n",
    "    print(str(idx2vocab[sorted_index[i]])+\" : \" + str(score[sorted_index[i]]))"
   ]
  },
  {
   "cell_type": "code",
   "execution_count": 17,
   "metadata": {
    "colab": {
     "base_uri": "https://localhost:8080/"
    },
    "id": "AXThGqhpOoaU",
    "outputId": "7533a999-e6b9-4a27-cc82-9f6dca2c393a"
   },
   "outputs": [
    {
     "data": {
      "text/plain": [
       "3"
      ]
     },
     "execution_count": 17,
     "metadata": {},
     "output_type": "execute_result"
    }
   ],
   "source": [
    "sorted_index[0]"
   ]
  },
  {
   "cell_type": "markdown",
   "metadata": {},
   "source": [
    "## 연습"
   ]
  },
  {
   "cell_type": "code",
   "execution_count": 20,
   "metadata": {},
   "outputs": [
    {
     "data": {
      "text/plain": [
       "'과기정통부 22일 유영민 장관 등 참석해 기념행사2021년까지 1516억원 투입 5100여종 데이터 구축민간 클라우드 통한 외부연계체계도개방성 강화이데일리 이재운 기자 국가 차원의 빅데이터 활용 시대가 열린다 새로운 산업 창출과 기존 산업의 변화에 이르는 혁신성장을 위한 센터가 문을 연다 10개 분야에 걸쳐 데이터 경제의 발전을 위한 정부의 청사진을 현실로 구현하는데 앞장선다는 계획이다22일 과학기술정보통신부는 서울 중구 대한상공회의소에서 데이터 생태계 조성과 혁신 성장의 기반 마련을 위한 빅데이터 플랫폼 및 센터 출범식 행사를 개최했다 유영민 과기정통부 장관을 비롯해 노웅래 국회 과학기술정보방송통신위원회 위원장 등 300여명이 참가했다10개 분야 100개 센터3년간 1516억원 투입이미지 픽사베이빅데이터는 데이터 활용을 통해 혁신성장을 이루자는 문재인 정부의 경제 성장 핵심 요소중 하나다 문재인 대통령이 직접 올 들어 데이터 활용과 이에 따른 정보보호보안에 대한 중요성을 강조하기도 했다이런 맥락 속에서 빅데이터센터는 공공과 민간이 협업해 활용도 높은 양질의 데이터를 생산구축하고 플랫폼은 이를 수집분석유통하는 역할을 담당한다 과기정통부는 분야별 플랫폼 10개소와 이와 연계된 기관별 센터 100개소를 구축하는데 3년간 총 1516억원을 투입할 계획이며 올해 우선 640억원 규모의 사업을 추진하고 있다대상 분야는 금융카드 환경한국수자원공사 문화한국문화정보원 교통한국교통연구원 헬스케어국립암센터 유통소비매일방송 통신 중소기업더존비즈온 지역경제경기도청 산림한국임업진흥원 등으로 현재 1차 공모를 통해 72개 빅데이터 센터를 선정했고 다음달 8일까지 2차 공모를 통해 28개를 추가 선정해 총 100개를 지원 운영할 계획이다 이를 통해 데이터 생태계를 혁신하고 기업의 경쟁력을 제고하는 역할을 수행한다주요 활용 전략사례를 보면 빅데이터 활용을 통해 신 시장을 창출하는 방안을 담고 있다 금융 플랫폼의 경우 소상공인 신용평가 고도화 등을 통해 금융 취약 계층 대상 중금리 대출이자를 2 절감해 연간 1조원의 신규대출을 창출할 전망이다 유통소비와 중소기업 플랫폼은 소상공인이나 중소기업의 폐업률 감소를 문화 플랫폼은 문화예술 관람률과 생활체육 참여율을 높이는 방안을 모색한다 의료비 절감헬스케어과 기업의 매출 향상을 통한 산업 육성통신산림 등도 눈길을 끈다과기정통부 제공2021년까지 5100여종 데이터 구축 알고리즘 제공도센터는 우선 분야별 데이터 부족 문제를 해소하기 위해 올해 말까지 시장 수요가 높은 1400여종 신규 데이터를 생산구축하고 사업이 완료되는 2021년까지 총 5100여종 양질의 풍부한 데이터를 생산구축해 시장에 공급할 계획이다특히 공공과 민간 사이 데이터 파일형식 등이 달라 호환이 제대로 이뤄지지 못한 문제를 해소하기 위해 개방형 표준을 적용하고 품질관리기준도 마련해 운영한다기업들이 실제 활용 가능한 최신 데이터를 확보하는데도 수개월이 소요된다는 문제점을 개선하기 위한 방안도 추진한다 센터와 플랫폼 간 연계체계에는 민간 클라우드를 기반으로 활용하고 센터에 축적된 데이터도 계속 외부와 개방공유하며 최신연속성을 확보한다는 계획이다100개 센터에서 수집된 데이터를 융합분석한 뒤 맞춤형 데이터 제작 등 양질의 데이터로 재생산하고 기업들이 필요로 하는 데이터를 원하는 형태로 즉시 활용할 수 있도록 제공할 계획이다 다양한 분석 도구는 물론 인공지능 학습 알고리즘도 제공해 이용자가 보다 사용하기 편리한 환경을 제공한다이밖에 필요한 데이터를 쉽게 등록하고 검색할 수 있도록 기준을 마련하고 데이터 보유와 관리에 대한 체계거버넌스를 논의하는 데이터 얼라이언스를 구성해 보다 안전하게 이용하는 방안도 마련했다유영민 과기정통부 장관은 오늘 출범식은 대한민국이 데이터 강국으로 가기 위한 초석을 놓은 자리라며 세계 주요국들보다 데이터 경제로 나아가는 발걸음이 다소 늦었지만 빅데이터 플랫폼과 센터를 지렛대로 우리나라의 낙후된 데이터 생태계를 혁신하고 기업의 경쟁력을 한 단계 제고할 수 있도록 정책적 역량을 집중하겠다고 밝혔다이재운 '"
      ]
     },
     "execution_count": 20,
     "metadata": {},
     "output_type": "execute_result"
    }
   ],
   "source": [
    "import requests \n",
    "from bs4 import BeautifulSoup\n",
    "\n",
    "def get_news_by_url(url):\n",
    "    headers={\"user-agent\":\"Mozilla/5.0\"}\n",
    "    res = requests.get(url, headers=headers)\n",
    "    soup = BeautifulSoup(res.content, \"html.parser\")\n",
    "    content = soup.select_one(\"#articleBodyContents\").get_text().replace(\"\\n\", \"\")\n",
    "    content = content.replace(\"// flash 오류를 우회하기 위한 함수 추가function _flash_removeCallback() {}\", \"\")\n",
    "  \n",
    "    start_pos = re.search(r\"\\w+@\\w+\\.\\w+(.\\w+)?\", content).start() #뒤에 이메일 형식\n",
    "    content = content[:start_pos-1]\n",
    "    return content\n",
    "\n",
    "doc = get_news_by_url('https://news.naver.com/main/read.nhn?mode=LSD&mid=sec&sid1=105&oid=018&aid=0004430108')\n",
    "doc = re.sub(\"[^가-힣 \\d]\", \"\", doc) # 특수 문자 제거\n",
    "doc"
   ]
  },
  {
   "cell_type": "markdown",
   "metadata": {
    "id": "9QmtIyyHlygg"
   },
   "source": [
    "### 1) 토큰화 (Tokenization)\n",
    "\n",
    "분석 텍스트 정제"
   ]
  },
  {
   "cell_type": "code",
   "execution_count": 145,
   "metadata": {
    "id": "scz7N1PVFRBl"
   },
   "outputs": [
    {
     "name": "stdout",
     "output_type": "stream",
     "text": [
      "['과기', '정통부', '22', '일', '유영민', '장관', '등', '참석', '해', '기념행사']\n",
      "['과기', '정통부', '유영민', '장관', '참석', '기념행사', '투입', '여종', '데이터', '구축']\n"
     ]
    }
   ],
   "source": [
    "nodes = [t[0] for t in tokens if t[1] in ['NNG', 'NNP']]\n",
    "vocab = list(set(nodes))\n",
    "\n",
    "\n",
    "tokens = [ token for token in mecab.pos(doc) ]\n",
    "nodes = [t[0] for t in tokens]\n",
    "vocab = [t[0] for t in tokens if t[1] in ['NNG', 'NNP'] and len(t[0]) > 1]\n",
    "\n",
    "# 확인\n",
    "print(nodes[:10])\n",
    "print(vocab[:10])"
   ]
  },
  {
   "cell_type": "markdown",
   "metadata": {
    "id": "YBJSuIvKlygw"
   },
   "source": [
    "### 2) Unique한 토큰 목록 생성\n",
    "\n",
    "그래프 생성을 위해서 Unique한 토큰 목록 생성"
   ]
  },
  {
   "cell_type": "code",
   "execution_count": 146,
   "metadata": {
    "id": "K4PHUKPuFcya"
   },
   "outputs": [],
   "source": [
    "# Set로 중복 제거 후 리스트\n",
    "vocab = list(set(vocab))\n",
    "\n",
    "vocab2idx = {vocab[i]:i for i in range(len(vocab))}\n",
    "idx2vocab = {i:vocab[i] for i in range(len(vocab))}"
   ]
  },
  {
   "cell_type": "code",
   "execution_count": 147,
   "metadata": {},
   "outputs": [
    {
     "name": "stdout",
     "output_type": "stream",
     "text": [
      "\n",
      "=== 핵심키워드 ===\n",
      "데이터 : 7.405189e-07\n",
      "센터 : 2.49831e-07\n",
      "한국 : 2.0378042e-07\n",
      "활용 : 1.9834519e-07\n",
      "대한 : 1.9389464e-07\n"
     ]
    }
   ],
   "source": [
    "\n",
    "import numpy as np\n",
    "import math\n",
    "\n",
    "vocab_len = len(vocab2idx)\n",
    "\n",
    "# 토큰별로 그래프 edge를 Matrix 형태로 생성\n",
    "weighted_edge = np.zeros((vocab_len,vocab_len),dtype=np.float32)\n",
    "\n",
    "# 각 토큰 노드별로 스코어 1로 초기화\n",
    "score = np.ones((vocab_len),dtype=np.float32)\n",
    "\n",
    "# coocurrence를 판단하기 위한 window 사이즈 설정\n",
    "window_size = 3\n",
    "covered_coocurrences = []\n",
    "\n",
    "for window_start in range(len(nodes) - window_size + 1):\n",
    "    window = nodes[window_start:window_start+window_size]\n",
    "    for i in range(window_size):\n",
    "        for j in range(i+1, window_size):\n",
    "            if window[i] in vocab and window[j] in vocab:\n",
    "                index_i = window_start + i\n",
    "                index_j = window_start + j\n",
    "\n",
    "                if (index_i, index_j) not in covered_coocurrences:\n",
    "                    weighted_edge[vocab2idx[window[i]]][vocab2idx[window[j]]] = 1\n",
    "                    weighted_edge[vocab2idx[window[j]]][vocab2idx[window[i]]] = 1\n",
    "                    covered_coocurrences.append((index_i, index_j))\n",
    "\n",
    "for i in range(vocab_len):\n",
    "    row_sum = weighted_edge[i].sum()\n",
    "    weighted_edge[i] = weighted_edge[i]/row_sum if row_sum > 0 else 0\n",
    "\n",
    "MAX_ITERATIONS = 50\n",
    "d=0.85\n",
    "threshold = 0.0001 #convergence threshold\n",
    "\n",
    "for iter in range(MAX_ITERATIONS):\n",
    "    prev_score = np.copy(score)\n",
    "\n",
    "    for i in range(vocab_len):\n",
    "        summation = 0\n",
    "        for j in range(vocab_len):\n",
    "            if weighted_edge[j][i] != 0:\n",
    "                summation += weighted_edge[j][i] * prev_score[j]\n",
    "\n",
    "        score[i] = (1 - d) * d*summation\n",
    "\n",
    "    if np.sum(np.fabs(prev_score -  score)) <= threshold:\n",
    "        break\n",
    "\n",
    "\n",
    "sorted_index = np.flip(np.argsort(score), 0)\n",
    "\n",
    "n = 5\n",
    "\n",
    "\n",
    "print(\"\\n=== 핵심키워드 ===\")\n",
    "for i in range(0,n):\n",
    "    print(str(idx2vocab[sorted_index[i]])+\" : \" + str(score[sorted_index[i]]))"
   ]
  },
  {
   "cell_type": "markdown",
   "metadata": {
    "id": "vOuNI7WSBcgU"
   },
   "source": [
    "---"
   ]
  },
  {
   "cell_type": "markdown",
   "metadata": {
    "id": "YZ8Uu6Rqbfyi"
   },
   "source": [
    "## 실습 2. 그래프 활용 "
   ]
  },
  {
   "cell_type": "markdown",
   "metadata": {
    "id": "iY8re-9gbfy9"
   },
   "source": [
    "### 그래프 생성 (weighted edge 계산)\n",
    "\n",
    "*   TextRank는 그래프 기반 모델\n",
    "*   각 단어(토큰)은 그래프의 노드(vertex) 없음을 의미\n",
    "*   모든 노드는 1로 초기화"
   ]
  },
  {
   "cell_type": "code",
   "execution_count": 18,
   "metadata": {
    "id": "phYnQIcBbfy9"
   },
   "outputs": [],
   "source": [
    "import numpy as np\n",
    "import math\n",
    "import networkx as nx\n",
    "\n",
    "# 윈도내 동시 등장한 토큰으로 그래프를 생성\n",
    "def connect(vocab, nodes) :            \n",
    "    window_size = 3\n",
    "    \n",
    "    edges = []\n",
    "    for window_start in range(len(nodes)-window_size+1):\n",
    "        window = nodes[window_start: window_start + window_size]\n",
    "        for i in range(window_size):\n",
    "            for j in range(i+1, window_size):\n",
    "                if window[i] in vocab and window[j] in vocab:\n",
    "                    edges.append((window[i], window[j]))\n",
    "        \n",
    "    return edges\n",
    "\n",
    "graph=nx.diamond_graph()\n",
    "graph.clear() \n",
    "graph.add_nodes_from(vocab) #node 등록\n",
    "graph.add_edges_from(connect(vocab,nodes)) #edge 연결    "
   ]
  },
  {
   "cell_type": "markdown",
   "metadata": {
    "id": "3c4KZdyufiBM"
   },
   "source": [
    "### 스코어 계산 및 핵심키워드 추출"
   ]
  },
  {
   "cell_type": "code",
   "execution_count": 151,
   "metadata": {
    "colab": {
     "base_uri": "https://localhost:8080/"
    },
    "id": "h5pHA1WverhB",
    "outputId": "7e6efd67-2365-4a03-8222-38d6a33f600b"
   },
   "outputs": [
    {
     "name": "stdout",
     "output_type": "stream",
     "text": [
      "\n",
      "=== 핵심키워드 ===\n"
     ]
    },
    {
     "data": {
      "text/plain": [
       "[('데이터', 0.04661070207125959),\n",
       " ('센터', 0.01676522225593208),\n",
       " ('대한', 0.012413811834749081),\n",
       " ('활용', 0.012361319397854264),\n",
       " ('한국', 0.012348645054362992)]"
      ]
     },
     "execution_count": 151,
     "metadata": {},
     "output_type": "execute_result"
    }
   ],
   "source": [
    "scores = nx.pagerank(graph) #pagerank 계산\n",
    "\n",
    "rank = sorted(scores.items(), key=lambda x: x[1], reverse=True) #score 역순 정렬\n",
    "print(\"\\n=== 핵심키워드 ===\")\n",
    "rank[:5]"
   ]
  },
  {
   "cell_type": "markdown",
   "metadata": {
    "id": "8VsT2BazfadH"
   },
   "source": [
    "---"
   ]
  },
  {
   "cell_type": "markdown",
   "metadata": {
    "id": "kiz-Q64iXOaY"
   },
   "source": [
    "\n",
    "\n",
    "---\n",
    "\n"
   ]
  },
  {
   "cell_type": "markdown",
   "metadata": {
    "id": "GpFwfuGlpFL9"
   },
   "source": [
    "## gensim 활용"
   ]
  },
  {
   "cell_type": "code",
   "execution_count": 162,
   "metadata": {
    "colab": {
     "base_uri": "https://localhost:8080/"
    },
    "id": "fW7gy7_7ooKb",
    "outputId": "e2668e2b-91e0-4c27-a7bc-4aa7f7812dff"
   },
   "outputs": [
    {
     "data": {
      "text/plain": [
       "['얼라이언스', '수자원', '청사진 대통령', '경쟁력']"
      ]
     },
     "execution_count": 162,
     "metadata": {},
     "output_type": "execute_result"
    }
   ],
   "source": [
    "from gensim.summarization import keywords\n",
    "keywords(\" \".join(vocab), words=5).split('\\n')"
   ]
  }
 ],
 "metadata": {
  "colab": {
   "collapsed_sections": [
    "hpTxmnbx8v6m"
   ],
   "name": "08 Prac 2. Keyword Extraction",
   "provenance": []
  },
  "kernelspec": {
   "display_name": "Python 3",
   "language": "python",
   "name": "python3"
  },
  "language_info": {
   "codemirror_mode": {
    "name": "ipython",
    "version": 3
   },
   "file_extension": ".py",
   "mimetype": "text/x-python",
   "name": "python",
   "nbconvert_exporter": "python",
   "pygments_lexer": "ipython3",
   "version": "3.7.9"
  }
 },
 "nbformat": 4,
 "nbformat_minor": 1
}
